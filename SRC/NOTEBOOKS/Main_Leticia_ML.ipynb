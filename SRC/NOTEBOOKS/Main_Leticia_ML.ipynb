{
 "cells": [
  {
   "cell_type": "code",
   "execution_count": 80,
   "metadata": {},
   "outputs": [],
   "source": [
    "from UTILS.functions import *\n",
    "from UTILS.librerias import *"
   ]
  },
  {
   "cell_type": "markdown",
   "metadata": {},
   "source": [
    "# PROYECTO DE MACHINE LEARNING: LA GRAN RENUNCIA\n",
    "\n",
    "## RESUMEN\n",
    "\n",
    "El objetivo del presente estudio es realizar un modelo de predicción sobre el abandono de puestos de trabajo en la empresa IBM para poner en práctica algunos de los conceptos aprendidos durante el bootcamp de Data Science en The Bridge.\n",
    "\n",
    "Para ello, se ha elegido una base de datos de abandono de puestos de trabajo en IBM en los últimos años disponible en Kaggle y el objetivo es crear un modelo de predicción para que los equipos de Recursos Humanos puedan adelantarse a los casos de abandono y logren revertir la situación en tiempo.\n",
    "\n",
    "Una tasa de abandono es una métrica utilizada para medir los empleados que dejan el trabajo y que no son reemplazados.A diferencia de rotación, el abandono se centra en la pérdida permanente o semipermanente de empleados y puestos a lo largo del tiempo y en cómo estas pérdidas pueden afectar a la empresa."
   ]
  },
  {
   "cell_type": "markdown",
   "metadata": {},
   "source": [
    "## 1. INTRODUCCIÓN\n",
    "\n",
    "Establecer unos indicadores de desempeño, también conocidos como Key Performance Indicators (KPIs), de Recursos Humanos (RRHH) es clave para sacar el máximo partido al capital humano de las empresas y alcanzar los objetivos estratégicos de toda la organización. Dichos indicadores de RRHH miden la efectividad de los procesos asociados al reclutamiento, formación, desarrollo y gestión del talento. \n",
    "\n",
    "La tasa de abandono es uno de los principales KPIs de RRHH y mide cuántos empleados abandonan la empresa en un determinado período de tiempo. Una tasa de abandono elevada supone un coste para la empresa por la pérdida de conocimiento y la inversión en procesos de selección para cubrir el puesto libre. \n",
    "\n",
    "Según un estudio de InfoJobs sobre el abandono del empleo en España, un 27% de los empleados se plantea dejar su puesto de trabajo en 2022, principalmente por salud mental o condiciones económicas. Ese dato es todavía más alarmante si miramos a los Estados Unidos (EE. UU.), donde más del 40% de los empleados considera abandonar sus trabajos: una encuesta realizada por Microsoft en marzo de 2022 encontró que el 41% del personal estaba pensando en dejar sus trabajos.\n",
    "\n",
    "Se le ha denominado la Gran Renuncia. Con 4,3 millones de personas que renunciaron a sus trabajos en mayo de 2022 en los EE. UU., la cantidad de renuncias sigue siendo prácticamente la misma que la del 2021 (cuando se pensaba que este año ya se ralentizaría un poco).\n",
    "Después de dos años viviendo en una pandemia, los trabajadores están buscando una mayor conciliación del trabajo con la vida personal, más flexibilidad horaria y la posibilidad de hacer cada vez más teletrabajo. Las renuncias fueron impulsadas por el deseo de mejores beneficios y un trabajo más satisfactorio. Estos mismos factores siguen siendo importantes, pero ahora hay un ingrediente adicional: la inflación.\n",
    "\n",
    "Para el presente trabajo de Machine Learning, se ha elegido una base de datos de empleados de la empresa norteamericana de tecnología IBM sobre el abandono, llamada ‘Attrition’ en la base de datos. El objetivo del proyecto es crear un modelo de Machine Learning para predecir los casos de abandono y que los equipos de RRHH puedan reaccionar con antelación para conseguir revertir esos casos y disminuir las tasas de abandono. \n",
    "\n",
    "Como punto de partida, el equipo de RRHH ya tiene algunas hipótesis sobre el tipo de empleados que estaría más propenso a renunciar a sus trabajos: empleados más jóvenes, solteros y que llevan menos de 2 años en la empresa. \n",
    "\n",
    "Primeramente se realizará un pequeño Análisis Exploratorio de los datos para entender la base de datos y confirmar si las suposiciones del equipo de RRHH pueden tener sentido. Después de analizar y tratar los datos, se procederá a la limpieza de los mismos para la creación de los modelos de Machine Learning.\n"
   ]
  },
  {
   "cell_type": "markdown",
   "metadata": {},
   "source": [
    "## 2. DATOS DE REFERENCIA\n",
    "\n",
    "Para la realización del presente proyecto de Machine Learning, se ha considerado una base de datos sobre la tasa de abandono en IBM disponible en Kaggle.\n",
    "\n",
    "La base cruda cuenta con 1.470 filas y 33 columnas con diferentes informaciones sobre empleados de IBM en los Estados Unidos (EE.UU.). Toda la base de datos está en inglés y se ha optado por mantenerla en el idioma original.\n",
    "\n",
    "\n",
    "Para poder analizar los datos, primeramente es necesario importarlos como un DataFrame a Pyhton y hacer algunas limpiezas como eliminar valores nulos."
   ]
  },
  {
   "cell_type": "markdown",
   "metadata": {},
   "source": [
    "### 2.1. Importamos el dataset"
   ]
  },
  {
   "cell_type": "code",
   "execution_count": 81,
   "metadata": {},
   "outputs": [],
   "source": [
    "df = import_df(path_raw,'Attrition_raw.csv')"
   ]
  },
  {
   "cell_type": "code",
   "execution_count": 4,
   "metadata": {},
   "outputs": [
    {
     "data": {
      "text/html": [
       "<div>\n",
       "<style scoped>\n",
       "    .dataframe tbody tr th:only-of-type {\n",
       "        vertical-align: middle;\n",
       "    }\n",
       "\n",
       "    .dataframe tbody tr th {\n",
       "        vertical-align: top;\n",
       "    }\n",
       "\n",
       "    .dataframe thead th {\n",
       "        text-align: right;\n",
       "    }\n",
       "</style>\n",
       "<table border=\"1\" class=\"dataframe\">\n",
       "  <thead>\n",
       "    <tr style=\"text-align: right;\">\n",
       "      <th></th>\n",
       "      <th>Age</th>\n",
       "      <th>Attrition</th>\n",
       "      <th>BusinessTravel</th>\n",
       "      <th>Department</th>\n",
       "      <th>DistanceFromHome</th>\n",
       "      <th>Gender</th>\n",
       "      <th>JobInvolvement</th>\n",
       "      <th>JobLevel</th>\n",
       "      <th>JobRole</th>\n",
       "      <th>JobSatisfaction</th>\n",
       "      <th>...</th>\n",
       "      <th>Date_of_Hire</th>\n",
       "      <th>Date_of_termination</th>\n",
       "      <th>Status_of_leaving</th>\n",
       "      <th>Mode_of_work</th>\n",
       "      <th>Leaves</th>\n",
       "      <th>Absenteeism</th>\n",
       "      <th>Work_accident</th>\n",
       "      <th>Source_of_Hire</th>\n",
       "      <th>Job_mode</th>\n",
       "      <th>Unnamed: 32</th>\n",
       "    </tr>\n",
       "  </thead>\n",
       "  <tbody>\n",
       "    <tr>\n",
       "      <th>0</th>\n",
       "      <td>37</td>\n",
       "      <td>Yes</td>\n",
       "      <td>Travel_Rarely</td>\n",
       "      <td>Research &amp; Development</td>\n",
       "      <td>2</td>\n",
       "      <td>Male</td>\n",
       "      <td>2</td>\n",
       "      <td>1</td>\n",
       "      <td>Laboratory Technician</td>\n",
       "      <td>3</td>\n",
       "      <td>...</td>\n",
       "      <td>21-01-2021</td>\n",
       "      <td>NaN</td>\n",
       "      <td>Salary</td>\n",
       "      <td>OFFICE</td>\n",
       "      <td>4</td>\n",
       "      <td>2</td>\n",
       "      <td>No</td>\n",
       "      <td>Job Event</td>\n",
       "      <td>Contract</td>\n",
       "      <td>NaN</td>\n",
       "    </tr>\n",
       "    <tr>\n",
       "      <th>1</th>\n",
       "      <td>21</td>\n",
       "      <td>No</td>\n",
       "      <td>Travel_Rarely</td>\n",
       "      <td>Research &amp; Development</td>\n",
       "      <td>15</td>\n",
       "      <td>Male</td>\n",
       "      <td>3</td>\n",
       "      <td>1</td>\n",
       "      <td>Research Scientist</td>\n",
       "      <td>4</td>\n",
       "      <td>...</td>\n",
       "      <td>13-03-2021</td>\n",
       "      <td>NaN</td>\n",
       "      <td>Work Accident</td>\n",
       "      <td>WFH</td>\n",
       "      <td>5</td>\n",
       "      <td>2</td>\n",
       "      <td>No</td>\n",
       "      <td>Recruiter</td>\n",
       "      <td>Part Time</td>\n",
       "      <td>NaN</td>\n",
       "    </tr>\n",
       "    <tr>\n",
       "      <th>2</th>\n",
       "      <td>45</td>\n",
       "      <td>No</td>\n",
       "      <td>Travel_Rarely</td>\n",
       "      <td>Research &amp; Development</td>\n",
       "      <td>6</td>\n",
       "      <td>Male</td>\n",
       "      <td>3</td>\n",
       "      <td>3</td>\n",
       "      <td>Research Director</td>\n",
       "      <td>1</td>\n",
       "      <td>...</td>\n",
       "      <td>23-01-2021</td>\n",
       "      <td>NaN</td>\n",
       "      <td>Dept.Head</td>\n",
       "      <td>WFH</td>\n",
       "      <td>1</td>\n",
       "      <td>3</td>\n",
       "      <td>No</td>\n",
       "      <td>Job Event</td>\n",
       "      <td>Contract</td>\n",
       "      <td>NaN</td>\n",
       "    </tr>\n",
       "    <tr>\n",
       "      <th>3</th>\n",
       "      <td>23</td>\n",
       "      <td>No</td>\n",
       "      <td>Travel_Rarely</td>\n",
       "      <td>Sales</td>\n",
       "      <td>2</td>\n",
       "      <td>Male</td>\n",
       "      <td>3</td>\n",
       "      <td>1</td>\n",
       "      <td>Sales Representative</td>\n",
       "      <td>1</td>\n",
       "      <td>...</td>\n",
       "      <td>25-04-2021</td>\n",
       "      <td>NaN</td>\n",
       "      <td>Work Accident</td>\n",
       "      <td>OFFICE</td>\n",
       "      <td>1</td>\n",
       "      <td>0</td>\n",
       "      <td>Yes</td>\n",
       "      <td>Recruiter</td>\n",
       "      <td>FullTime</td>\n",
       "      <td>NaN</td>\n",
       "    </tr>\n",
       "    <tr>\n",
       "      <th>4</th>\n",
       "      <td>22</td>\n",
       "      <td>No</td>\n",
       "      <td>Travel_Rarely</td>\n",
       "      <td>Research &amp; Development</td>\n",
       "      <td>15</td>\n",
       "      <td>Female</td>\n",
       "      <td>3</td>\n",
       "      <td>1</td>\n",
       "      <td>Laboratory Technician</td>\n",
       "      <td>4</td>\n",
       "      <td>...</td>\n",
       "      <td>14-06-2021</td>\n",
       "      <td>NaN</td>\n",
       "      <td>Better Opportunity</td>\n",
       "      <td>WFH</td>\n",
       "      <td>5</td>\n",
       "      <td>2</td>\n",
       "      <td>No</td>\n",
       "      <td>Job Event</td>\n",
       "      <td>Contract</td>\n",
       "      <td>NaN</td>\n",
       "    </tr>\n",
       "  </tbody>\n",
       "</table>\n",
       "<p>5 rows × 33 columns</p>\n",
       "</div>"
      ],
      "text/plain": [
       "   Age Attrition BusinessTravel              Department  DistanceFromHome  \\\n",
       "0   37       Yes  Travel_Rarely  Research & Development                 2   \n",
       "1   21        No  Travel_Rarely  Research & Development                15   \n",
       "2   45        No  Travel_Rarely  Research & Development                 6   \n",
       "3   23        No  Travel_Rarely                   Sales                 2   \n",
       "4   22        No  Travel_Rarely  Research & Development                15   \n",
       "\n",
       "   Gender  JobInvolvement  JobLevel                JobRole  JobSatisfaction  \\\n",
       "0    Male               2         1  Laboratory Technician                3   \n",
       "1    Male               3         1     Research Scientist                4   \n",
       "2    Male               3         3      Research Director                1   \n",
       "3    Male               3         1   Sales Representative                1   \n",
       "4  Female               3         1  Laboratory Technician                4   \n",
       "\n",
       "   ... Date_of_Hire  Date_of_termination   Status_of_leaving Mode_of_work  \\\n",
       "0  ...   21-01-2021                  NaN              Salary       OFFICE   \n",
       "1  ...   13-03-2021                  NaN       Work Accident          WFH   \n",
       "2  ...   23-01-2021                  NaN           Dept.Head          WFH   \n",
       "3  ...   25-04-2021                  NaN       Work Accident       OFFICE   \n",
       "4  ...   14-06-2021                  NaN  Better Opportunity          WFH   \n",
       "\n",
       "   Leaves  Absenteeism  Work_accident  Source_of_Hire   Job_mode  Unnamed: 32  \n",
       "0       4            2             No       Job Event   Contract          NaN  \n",
       "1       5            2             No       Recruiter  Part Time          NaN  \n",
       "2       1            3             No       Job Event   Contract          NaN  \n",
       "3       1            0            Yes       Recruiter   FullTime          NaN  \n",
       "4       5            2             No       Job Event   Contract          NaN  \n",
       "\n",
       "[5 rows x 33 columns]"
      ]
     },
     "execution_count": 4,
     "metadata": {},
     "output_type": "execute_result"
    }
   ],
   "source": [
    "df.head()"
   ]
  },
  {
   "cell_type": "code",
   "execution_count": 5,
   "metadata": {},
   "outputs": [
    {
     "name": "stdout",
     "output_type": "stream",
     "text": [
      "<class 'pandas.core.frame.DataFrame'>\n",
      "RangeIndex: 1470 entries, 0 to 1469\n",
      "Data columns (total 33 columns):\n",
      " #   Column                   Non-Null Count  Dtype  \n",
      "---  ------                   --------------  -----  \n",
      " 0   Age                      1470 non-null   int64  \n",
      " 1   Attrition                1470 non-null   object \n",
      " 2   BusinessTravel           1470 non-null   object \n",
      " 3   Department               1470 non-null   object \n",
      " 4   DistanceFromHome         1470 non-null   int64  \n",
      " 5   Gender                   1470 non-null   object \n",
      " 6   JobInvolvement           1470 non-null   int64  \n",
      " 7   JobLevel                 1470 non-null   int64  \n",
      " 8   JobRole                  1470 non-null   object \n",
      " 9   JobSatisfaction          1470 non-null   int64  \n",
      " 10  MaritalStatus            1470 non-null   object \n",
      " 11  MonthlyIncome            1470 non-null   int64  \n",
      " 12  NumCompaniesWorked       1470 non-null   int64  \n",
      " 13  OverTime                 1470 non-null   object \n",
      " 14  PercentSalaryHike        1470 non-null   int64  \n",
      " 15  PerformanceRating        1470 non-null   int64  \n",
      " 16  StockOptionLevel         1470 non-null   int64  \n",
      " 17  TotalWorkingYears        1470 non-null   int64  \n",
      " 18  TrainingTimesLastYear    1470 non-null   int64  \n",
      " 19  YearsAtCompany           1470 non-null   int64  \n",
      " 20  YearsSinceLastPromotion  1470 non-null   int64  \n",
      " 21  YearsWithCurrManager     1470 non-null   int64  \n",
      " 22  Higher_Education         1470 non-null   object \n",
      " 23  Date_of_Hire             1470 non-null   object \n",
      " 24  Date_of_termination      0 non-null      float64\n",
      " 25  Status_of_leaving        1470 non-null   object \n",
      " 26  Mode_of_work             1470 non-null   object \n",
      " 27  Leaves                   1470 non-null   int64  \n",
      " 28  Absenteeism              1470 non-null   int64  \n",
      " 29  Work_accident            1470 non-null   object \n",
      " 30  Source_of_Hire           1470 non-null   object \n",
      " 31  Job_mode                 1470 non-null   object \n",
      " 32  Unnamed: 32              0 non-null      float64\n",
      "dtypes: float64(2), int64(17), object(14)\n",
      "memory usage: 379.1+ KB\n"
     ]
    }
   ],
   "source": [
    "df.info()"
   ]
  },
  {
   "cell_type": "markdown",
   "metadata": {},
   "source": [
    "### 2.2. Limpiamos y tratamos los datos\n",
    "\n",
    "- Valores nulos\n",
    "- Transformamos datos necesarios"
   ]
  },
  {
   "cell_type": "code",
   "execution_count": 6,
   "metadata": {},
   "outputs": [
    {
     "data": {
      "text/html": [
       "<div>\n",
       "<style scoped>\n",
       "    .dataframe tbody tr th:only-of-type {\n",
       "        vertical-align: middle;\n",
       "    }\n",
       "\n",
       "    .dataframe tbody tr th {\n",
       "        vertical-align: top;\n",
       "    }\n",
       "\n",
       "    .dataframe thead th {\n",
       "        text-align: right;\n",
       "    }\n",
       "</style>\n",
       "<table border=\"1\" class=\"dataframe\">\n",
       "  <thead>\n",
       "    <tr style=\"text-align: right;\">\n",
       "      <th></th>\n",
       "      <th>Total</th>\n",
       "      <th>Percent</th>\n",
       "    </tr>\n",
       "  </thead>\n",
       "  <tbody>\n",
       "    <tr>\n",
       "      <th>Unnamed: 32</th>\n",
       "      <td>1470</td>\n",
       "      <td>1.0</td>\n",
       "    </tr>\n",
       "    <tr>\n",
       "      <th>Date_of_termination</th>\n",
       "      <td>1470</td>\n",
       "      <td>1.0</td>\n",
       "    </tr>\n",
       "    <tr>\n",
       "      <th>TotalWorkingYears</th>\n",
       "      <td>0</td>\n",
       "      <td>0.0</td>\n",
       "    </tr>\n",
       "    <tr>\n",
       "      <th>Job_mode</th>\n",
       "      <td>0</td>\n",
       "      <td>0.0</td>\n",
       "    </tr>\n",
       "    <tr>\n",
       "      <th>Source_of_Hire</th>\n",
       "      <td>0</td>\n",
       "      <td>0.0</td>\n",
       "    </tr>\n",
       "    <tr>\n",
       "      <th>Work_accident</th>\n",
       "      <td>0</td>\n",
       "      <td>0.0</td>\n",
       "    </tr>\n",
       "    <tr>\n",
       "      <th>Absenteeism</th>\n",
       "      <td>0</td>\n",
       "      <td>0.0</td>\n",
       "    </tr>\n",
       "    <tr>\n",
       "      <th>Leaves</th>\n",
       "      <td>0</td>\n",
       "      <td>0.0</td>\n",
       "    </tr>\n",
       "    <tr>\n",
       "      <th>Mode_of_work</th>\n",
       "      <td>0</td>\n",
       "      <td>0.0</td>\n",
       "    </tr>\n",
       "    <tr>\n",
       "      <th>Status_of_leaving</th>\n",
       "      <td>0</td>\n",
       "      <td>0.0</td>\n",
       "    </tr>\n",
       "    <tr>\n",
       "      <th>Date_of_Hire</th>\n",
       "      <td>0</td>\n",
       "      <td>0.0</td>\n",
       "    </tr>\n",
       "    <tr>\n",
       "      <th>Higher_Education</th>\n",
       "      <td>0</td>\n",
       "      <td>0.0</td>\n",
       "    </tr>\n",
       "    <tr>\n",
       "      <th>YearsWithCurrManager</th>\n",
       "      <td>0</td>\n",
       "      <td>0.0</td>\n",
       "    </tr>\n",
       "    <tr>\n",
       "      <th>YearsSinceLastPromotion</th>\n",
       "      <td>0</td>\n",
       "      <td>0.0</td>\n",
       "    </tr>\n",
       "    <tr>\n",
       "      <th>YearsAtCompany</th>\n",
       "      <td>0</td>\n",
       "      <td>0.0</td>\n",
       "    </tr>\n",
       "    <tr>\n",
       "      <th>TrainingTimesLastYear</th>\n",
       "      <td>0</td>\n",
       "      <td>0.0</td>\n",
       "    </tr>\n",
       "    <tr>\n",
       "      <th>Age</th>\n",
       "      <td>0</td>\n",
       "      <td>0.0</td>\n",
       "    </tr>\n",
       "    <tr>\n",
       "      <th>Attrition</th>\n",
       "      <td>0</td>\n",
       "      <td>0.0</td>\n",
       "    </tr>\n",
       "    <tr>\n",
       "      <th>PerformanceRating</th>\n",
       "      <td>0</td>\n",
       "      <td>0.0</td>\n",
       "    </tr>\n",
       "    <tr>\n",
       "      <th>PercentSalaryHike</th>\n",
       "      <td>0</td>\n",
       "      <td>0.0</td>\n",
       "    </tr>\n",
       "    <tr>\n",
       "      <th>OverTime</th>\n",
       "      <td>0</td>\n",
       "      <td>0.0</td>\n",
       "    </tr>\n",
       "    <tr>\n",
       "      <th>NumCompaniesWorked</th>\n",
       "      <td>0</td>\n",
       "      <td>0.0</td>\n",
       "    </tr>\n",
       "    <tr>\n",
       "      <th>MonthlyIncome</th>\n",
       "      <td>0</td>\n",
       "      <td>0.0</td>\n",
       "    </tr>\n",
       "    <tr>\n",
       "      <th>MaritalStatus</th>\n",
       "      <td>0</td>\n",
       "      <td>0.0</td>\n",
       "    </tr>\n",
       "    <tr>\n",
       "      <th>JobSatisfaction</th>\n",
       "      <td>0</td>\n",
       "      <td>0.0</td>\n",
       "    </tr>\n",
       "    <tr>\n",
       "      <th>JobRole</th>\n",
       "      <td>0</td>\n",
       "      <td>0.0</td>\n",
       "    </tr>\n",
       "    <tr>\n",
       "      <th>JobLevel</th>\n",
       "      <td>0</td>\n",
       "      <td>0.0</td>\n",
       "    </tr>\n",
       "    <tr>\n",
       "      <th>JobInvolvement</th>\n",
       "      <td>0</td>\n",
       "      <td>0.0</td>\n",
       "    </tr>\n",
       "    <tr>\n",
       "      <th>Gender</th>\n",
       "      <td>0</td>\n",
       "      <td>0.0</td>\n",
       "    </tr>\n",
       "    <tr>\n",
       "      <th>DistanceFromHome</th>\n",
       "      <td>0</td>\n",
       "      <td>0.0</td>\n",
       "    </tr>\n",
       "    <tr>\n",
       "      <th>Department</th>\n",
       "      <td>0</td>\n",
       "      <td>0.0</td>\n",
       "    </tr>\n",
       "    <tr>\n",
       "      <th>BusinessTravel</th>\n",
       "      <td>0</td>\n",
       "      <td>0.0</td>\n",
       "    </tr>\n",
       "    <tr>\n",
       "      <th>StockOptionLevel</th>\n",
       "      <td>0</td>\n",
       "      <td>0.0</td>\n",
       "    </tr>\n",
       "  </tbody>\n",
       "</table>\n",
       "</div>"
      ],
      "text/plain": [
       "                         Total  Percent\n",
       "Unnamed: 32               1470      1.0\n",
       "Date_of_termination       1470      1.0\n",
       "TotalWorkingYears            0      0.0\n",
       "Job_mode                     0      0.0\n",
       "Source_of_Hire               0      0.0\n",
       "Work_accident                0      0.0\n",
       "Absenteeism                  0      0.0\n",
       "Leaves                       0      0.0\n",
       "Mode_of_work                 0      0.0\n",
       "Status_of_leaving            0      0.0\n",
       "Date_of_Hire                 0      0.0\n",
       "Higher_Education             0      0.0\n",
       "YearsWithCurrManager         0      0.0\n",
       "YearsSinceLastPromotion      0      0.0\n",
       "YearsAtCompany               0      0.0\n",
       "TrainingTimesLastYear        0      0.0\n",
       "Age                          0      0.0\n",
       "Attrition                    0      0.0\n",
       "PerformanceRating            0      0.0\n",
       "PercentSalaryHike            0      0.0\n",
       "OverTime                     0      0.0\n",
       "NumCompaniesWorked           0      0.0\n",
       "MonthlyIncome                0      0.0\n",
       "MaritalStatus                0      0.0\n",
       "JobSatisfaction              0      0.0\n",
       "JobRole                      0      0.0\n",
       "JobLevel                     0      0.0\n",
       "JobInvolvement               0      0.0\n",
       "Gender                       0      0.0\n",
       "DistanceFromHome             0      0.0\n",
       "Department                   0      0.0\n",
       "BusinessTravel               0      0.0\n",
       "StockOptionLevel             0      0.0"
      ]
     },
     "execution_count": 6,
     "metadata": {},
     "output_type": "execute_result"
    }
   ],
   "source": [
    "# Miramos si hay valores nulos\n",
    "\n",
    "missing_data(df)"
   ]
  },
  {
   "cell_type": "code",
   "execution_count": 7,
   "metadata": {},
   "outputs": [],
   "source": [
    "# Eliminamos las columnas con valores nulos\n",
    "df = df.drop(['Unnamed: 32', 'Date_of_termination'], axis=1)"
   ]
  },
  {
   "cell_type": "code",
   "execution_count": 8,
   "metadata": {},
   "outputs": [
    {
     "name": "stdout",
     "output_type": "stream",
     "text": [
      "<class 'pandas.core.frame.DataFrame'>\n",
      "RangeIndex: 1470 entries, 0 to 1469\n",
      "Data columns (total 31 columns):\n",
      " #   Column                   Non-Null Count  Dtype \n",
      "---  ------                   --------------  ----- \n",
      " 0   Age                      1470 non-null   int64 \n",
      " 1   Attrition                1470 non-null   object\n",
      " 2   BusinessTravel           1470 non-null   object\n",
      " 3   Department               1470 non-null   object\n",
      " 4   DistanceFromHome         1470 non-null   int64 \n",
      " 5   Gender                   1470 non-null   object\n",
      " 6   JobInvolvement           1470 non-null   int64 \n",
      " 7   JobLevel                 1470 non-null   int64 \n",
      " 8   JobRole                  1470 non-null   object\n",
      " 9   JobSatisfaction          1470 non-null   int64 \n",
      " 10  MaritalStatus            1470 non-null   object\n",
      " 11  MonthlyIncome            1470 non-null   int64 \n",
      " 12  NumCompaniesWorked       1470 non-null   int64 \n",
      " 13  OverTime                 1470 non-null   object\n",
      " 14  PercentSalaryHike        1470 non-null   int64 \n",
      " 15  PerformanceRating        1470 non-null   int64 \n",
      " 16  StockOptionLevel         1470 non-null   int64 \n",
      " 17  TotalWorkingYears        1470 non-null   int64 \n",
      " 18  TrainingTimesLastYear    1470 non-null   int64 \n",
      " 19  YearsAtCompany           1470 non-null   int64 \n",
      " 20  YearsSinceLastPromotion  1470 non-null   int64 \n",
      " 21  YearsWithCurrManager     1470 non-null   int64 \n",
      " 22  Higher_Education         1470 non-null   object\n",
      " 23  Date_of_Hire             1470 non-null   object\n",
      " 24  Status_of_leaving        1470 non-null   object\n",
      " 25  Mode_of_work             1470 non-null   object\n",
      " 26  Leaves                   1470 non-null   int64 \n",
      " 27  Absenteeism              1470 non-null   int64 \n",
      " 28  Work_accident            1470 non-null   object\n",
      " 29  Source_of_Hire           1470 non-null   object\n",
      " 30  Job_mode                 1470 non-null   object\n",
      "dtypes: int64(17), object(14)\n",
      "memory usage: 356.1+ KB\n"
     ]
    }
   ],
   "source": [
    "df.info()"
   ]
  },
  {
   "cell_type": "code",
   "execution_count": 9,
   "metadata": {},
   "outputs": [
    {
     "name": "stderr",
     "output_type": "stream",
     "text": [
      "/var/folders/4s/ssj6hqrx2pd25m6n5s48w37h0000gn/T/ipykernel_1052/1583702905.py:3: UserWarning: Parsing '21-01-2021' in DD/MM/YYYY format. Provide format or specify infer_datetime_format=True for consistent parsing.\n",
      "  df['Date_of_Hire'] = pd.to_datetime(df['Date_of_Hire'])\n",
      "/var/folders/4s/ssj6hqrx2pd25m6n5s48w37h0000gn/T/ipykernel_1052/1583702905.py:3: UserWarning: Parsing '13-03-2021' in DD/MM/YYYY format. Provide format or specify infer_datetime_format=True for consistent parsing.\n",
      "  df['Date_of_Hire'] = pd.to_datetime(df['Date_of_Hire'])\n",
      "/var/folders/4s/ssj6hqrx2pd25m6n5s48w37h0000gn/T/ipykernel_1052/1583702905.py:3: UserWarning: Parsing '23-01-2021' in DD/MM/YYYY format. Provide format or specify infer_datetime_format=True for consistent parsing.\n",
      "  df['Date_of_Hire'] = pd.to_datetime(df['Date_of_Hire'])\n",
      "/var/folders/4s/ssj6hqrx2pd25m6n5s48w37h0000gn/T/ipykernel_1052/1583702905.py:3: UserWarning: Parsing '25-04-2021' in DD/MM/YYYY format. Provide format or specify infer_datetime_format=True for consistent parsing.\n",
      "  df['Date_of_Hire'] = pd.to_datetime(df['Date_of_Hire'])\n",
      "/var/folders/4s/ssj6hqrx2pd25m6n5s48w37h0000gn/T/ipykernel_1052/1583702905.py:3: UserWarning: Parsing '14-06-2021' in DD/MM/YYYY format. Provide format or specify infer_datetime_format=True for consistent parsing.\n",
      "  df['Date_of_Hire'] = pd.to_datetime(df['Date_of_Hire'])\n",
      "/var/folders/4s/ssj6hqrx2pd25m6n5s48w37h0000gn/T/ipykernel_1052/1583702905.py:3: UserWarning: Parsing '14-04-2021' in DD/MM/YYYY format. Provide format or specify infer_datetime_format=True for consistent parsing.\n",
      "  df['Date_of_Hire'] = pd.to_datetime(df['Date_of_Hire'])\n",
      "/var/folders/4s/ssj6hqrx2pd25m6n5s48w37h0000gn/T/ipykernel_1052/1583702905.py:3: UserWarning: Parsing '30-05-2021' in DD/MM/YYYY format. Provide format or specify infer_datetime_format=True for consistent parsing.\n",
      "  df['Date_of_Hire'] = pd.to_datetime(df['Date_of_Hire'])\n",
      "/var/folders/4s/ssj6hqrx2pd25m6n5s48w37h0000gn/T/ipykernel_1052/1583702905.py:3: UserWarning: Parsing '28-02-2021' in DD/MM/YYYY format. Provide format or specify infer_datetime_format=True for consistent parsing.\n",
      "  df['Date_of_Hire'] = pd.to_datetime(df['Date_of_Hire'])\n",
      "/var/folders/4s/ssj6hqrx2pd25m6n5s48w37h0000gn/T/ipykernel_1052/1583702905.py:3: UserWarning: Parsing '17-06-2021' in DD/MM/YYYY format. Provide format or specify infer_datetime_format=True for consistent parsing.\n",
      "  df['Date_of_Hire'] = pd.to_datetime(df['Date_of_Hire'])\n",
      "/var/folders/4s/ssj6hqrx2pd25m6n5s48w37h0000gn/T/ipykernel_1052/1583702905.py:3: UserWarning: Parsing '25-02-2021' in DD/MM/YYYY format. Provide format or specify infer_datetime_format=True for consistent parsing.\n",
      "  df['Date_of_Hire'] = pd.to_datetime(df['Date_of_Hire'])\n",
      "/var/folders/4s/ssj6hqrx2pd25m6n5s48w37h0000gn/T/ipykernel_1052/1583702905.py:3: UserWarning: Parsing '25-05-2021' in DD/MM/YYYY format. Provide format or specify infer_datetime_format=True for consistent parsing.\n",
      "  df['Date_of_Hire'] = pd.to_datetime(df['Date_of_Hire'])\n",
      "/var/folders/4s/ssj6hqrx2pd25m6n5s48w37h0000gn/T/ipykernel_1052/1583702905.py:3: UserWarning: Parsing '30-03-2021' in DD/MM/YYYY format. Provide format or specify infer_datetime_format=True for consistent parsing.\n",
      "  df['Date_of_Hire'] = pd.to_datetime(df['Date_of_Hire'])\n",
      "/var/folders/4s/ssj6hqrx2pd25m6n5s48w37h0000gn/T/ipykernel_1052/1583702905.py:3: UserWarning: Parsing '16-02-2021' in DD/MM/YYYY format. Provide format or specify infer_datetime_format=True for consistent parsing.\n",
      "  df['Date_of_Hire'] = pd.to_datetime(df['Date_of_Hire'])\n",
      "/var/folders/4s/ssj6hqrx2pd25m6n5s48w37h0000gn/T/ipykernel_1052/1583702905.py:3: UserWarning: Parsing '25-06-2021' in DD/MM/YYYY format. Provide format or specify infer_datetime_format=True for consistent parsing.\n",
      "  df['Date_of_Hire'] = pd.to_datetime(df['Date_of_Hire'])\n",
      "/var/folders/4s/ssj6hqrx2pd25m6n5s48w37h0000gn/T/ipykernel_1052/1583702905.py:3: UserWarning: Parsing '19-03-2021' in DD/MM/YYYY format. Provide format or specify infer_datetime_format=True for consistent parsing.\n",
      "  df['Date_of_Hire'] = pd.to_datetime(df['Date_of_Hire'])\n",
      "/var/folders/4s/ssj6hqrx2pd25m6n5s48w37h0000gn/T/ipykernel_1052/1583702905.py:3: UserWarning: Parsing '29-04-2021' in DD/MM/YYYY format. Provide format or specify infer_datetime_format=True for consistent parsing.\n",
      "  df['Date_of_Hire'] = pd.to_datetime(df['Date_of_Hire'])\n",
      "/var/folders/4s/ssj6hqrx2pd25m6n5s48w37h0000gn/T/ipykernel_1052/1583702905.py:3: UserWarning: Parsing '23-05-2021' in DD/MM/YYYY format. Provide format or specify infer_datetime_format=True for consistent parsing.\n",
      "  df['Date_of_Hire'] = pd.to_datetime(df['Date_of_Hire'])\n",
      "/var/folders/4s/ssj6hqrx2pd25m6n5s48w37h0000gn/T/ipykernel_1052/1583702905.py:3: UserWarning: Parsing '26-05-2021' in DD/MM/YYYY format. Provide format or specify infer_datetime_format=True for consistent parsing.\n",
      "  df['Date_of_Hire'] = pd.to_datetime(df['Date_of_Hire'])\n",
      "/var/folders/4s/ssj6hqrx2pd25m6n5s48w37h0000gn/T/ipykernel_1052/1583702905.py:3: UserWarning: Parsing '16-04-2021' in DD/MM/YYYY format. Provide format or specify infer_datetime_format=True for consistent parsing.\n",
      "  df['Date_of_Hire'] = pd.to_datetime(df['Date_of_Hire'])\n",
      "/var/folders/4s/ssj6hqrx2pd25m6n5s48w37h0000gn/T/ipykernel_1052/1583702905.py:3: UserWarning: Parsing '22-04-2021' in DD/MM/YYYY format. Provide format or specify infer_datetime_format=True for consistent parsing.\n",
      "  df['Date_of_Hire'] = pd.to_datetime(df['Date_of_Hire'])\n",
      "/var/folders/4s/ssj6hqrx2pd25m6n5s48w37h0000gn/T/ipykernel_1052/1583702905.py:3: UserWarning: Parsing '20-02-2021' in DD/MM/YYYY format. Provide format or specify infer_datetime_format=True for consistent parsing.\n",
      "  df['Date_of_Hire'] = pd.to_datetime(df['Date_of_Hire'])\n",
      "/var/folders/4s/ssj6hqrx2pd25m6n5s48w37h0000gn/T/ipykernel_1052/1583702905.py:3: UserWarning: Parsing '29-01-2021' in DD/MM/YYYY format. Provide format or specify infer_datetime_format=True for consistent parsing.\n",
      "  df['Date_of_Hire'] = pd.to_datetime(df['Date_of_Hire'])\n",
      "/var/folders/4s/ssj6hqrx2pd25m6n5s48w37h0000gn/T/ipykernel_1052/1583702905.py:3: UserWarning: Parsing '25-01-2021' in DD/MM/YYYY format. Provide format or specify infer_datetime_format=True for consistent parsing.\n",
      "  df['Date_of_Hire'] = pd.to_datetime(df['Date_of_Hire'])\n",
      "/var/folders/4s/ssj6hqrx2pd25m6n5s48w37h0000gn/T/ipykernel_1052/1583702905.py:3: UserWarning: Parsing '23-03-2021' in DD/MM/YYYY format. Provide format or specify infer_datetime_format=True for consistent parsing.\n",
      "  df['Date_of_Hire'] = pd.to_datetime(df['Date_of_Hire'])\n",
      "/var/folders/4s/ssj6hqrx2pd25m6n5s48w37h0000gn/T/ipykernel_1052/1583702905.py:3: UserWarning: Parsing '20-03-2021' in DD/MM/YYYY format. Provide format or specify infer_datetime_format=True for consistent parsing.\n",
      "  df['Date_of_Hire'] = pd.to_datetime(df['Date_of_Hire'])\n",
      "/var/folders/4s/ssj6hqrx2pd25m6n5s48w37h0000gn/T/ipykernel_1052/1583702905.py:3: UserWarning: Parsing '28-02-2020' in DD/MM/YYYY format. Provide format or specify infer_datetime_format=True for consistent parsing.\n",
      "  df['Date_of_Hire'] = pd.to_datetime(df['Date_of_Hire'])\n",
      "/var/folders/4s/ssj6hqrx2pd25m6n5s48w37h0000gn/T/ipykernel_1052/1583702905.py:3: UserWarning: Parsing '14-04-2020' in DD/MM/YYYY format. Provide format or specify infer_datetime_format=True for consistent parsing.\n",
      "  df['Date_of_Hire'] = pd.to_datetime(df['Date_of_Hire'])\n",
      "/var/folders/4s/ssj6hqrx2pd25m6n5s48w37h0000gn/T/ipykernel_1052/1583702905.py:3: UserWarning: Parsing '27-04-2020' in DD/MM/YYYY format. Provide format or specify infer_datetime_format=True for consistent parsing.\n",
      "  df['Date_of_Hire'] = pd.to_datetime(df['Date_of_Hire'])\n",
      "/var/folders/4s/ssj6hqrx2pd25m6n5s48w37h0000gn/T/ipykernel_1052/1583702905.py:3: UserWarning: Parsing '24-03-2020' in DD/MM/YYYY format. Provide format or specify infer_datetime_format=True for consistent parsing.\n",
      "  df['Date_of_Hire'] = pd.to_datetime(df['Date_of_Hire'])\n",
      "/var/folders/4s/ssj6hqrx2pd25m6n5s48w37h0000gn/T/ipykernel_1052/1583702905.py:3: UserWarning: Parsing '14-06-2020' in DD/MM/YYYY format. Provide format or specify infer_datetime_format=True for consistent parsing.\n",
      "  df['Date_of_Hire'] = pd.to_datetime(df['Date_of_Hire'])\n",
      "/var/folders/4s/ssj6hqrx2pd25m6n5s48w37h0000gn/T/ipykernel_1052/1583702905.py:3: UserWarning: Parsing '15-01-2020' in DD/MM/YYYY format. Provide format or specify infer_datetime_format=True for consistent parsing.\n",
      "  df['Date_of_Hire'] = pd.to_datetime(df['Date_of_Hire'])\n",
      "/var/folders/4s/ssj6hqrx2pd25m6n5s48w37h0000gn/T/ipykernel_1052/1583702905.py:3: UserWarning: Parsing '21-04-2020' in DD/MM/YYYY format. Provide format or specify infer_datetime_format=True for consistent parsing.\n",
      "  df['Date_of_Hire'] = pd.to_datetime(df['Date_of_Hire'])\n",
      "/var/folders/4s/ssj6hqrx2pd25m6n5s48w37h0000gn/T/ipykernel_1052/1583702905.py:3: UserWarning: Parsing '14-05-2020' in DD/MM/YYYY format. Provide format or specify infer_datetime_format=True for consistent parsing.\n",
      "  df['Date_of_Hire'] = pd.to_datetime(df['Date_of_Hire'])\n",
      "/var/folders/4s/ssj6hqrx2pd25m6n5s48w37h0000gn/T/ipykernel_1052/1583702905.py:3: UserWarning: Parsing '20-02-2020' in DD/MM/YYYY format. Provide format or specify infer_datetime_format=True for consistent parsing.\n",
      "  df['Date_of_Hire'] = pd.to_datetime(df['Date_of_Hire'])\n",
      "/var/folders/4s/ssj6hqrx2pd25m6n5s48w37h0000gn/T/ipykernel_1052/1583702905.py:3: UserWarning: Parsing '27-03-2020' in DD/MM/YYYY format. Provide format or specify infer_datetime_format=True for consistent parsing.\n",
      "  df['Date_of_Hire'] = pd.to_datetime(df['Date_of_Hire'])\n",
      "/var/folders/4s/ssj6hqrx2pd25m6n5s48w37h0000gn/T/ipykernel_1052/1583702905.py:3: UserWarning: Parsing '24-01-2020' in DD/MM/YYYY format. Provide format or specify infer_datetime_format=True for consistent parsing.\n",
      "  df['Date_of_Hire'] = pd.to_datetime(df['Date_of_Hire'])\n",
      "/var/folders/4s/ssj6hqrx2pd25m6n5s48w37h0000gn/T/ipykernel_1052/1583702905.py:3: UserWarning: Parsing '16-06-2020' in DD/MM/YYYY format. Provide format or specify infer_datetime_format=True for consistent parsing.\n",
      "  df['Date_of_Hire'] = pd.to_datetime(df['Date_of_Hire'])\n",
      "/var/folders/4s/ssj6hqrx2pd25m6n5s48w37h0000gn/T/ipykernel_1052/1583702905.py:3: UserWarning: Parsing '29-03-2020' in DD/MM/YYYY format. Provide format or specify infer_datetime_format=True for consistent parsing.\n",
      "  df['Date_of_Hire'] = pd.to_datetime(df['Date_of_Hire'])\n",
      "/var/folders/4s/ssj6hqrx2pd25m6n5s48w37h0000gn/T/ipykernel_1052/1583702905.py:3: UserWarning: Parsing '22-03-2020' in DD/MM/YYYY format. Provide format or specify infer_datetime_format=True for consistent parsing.\n",
      "  df['Date_of_Hire'] = pd.to_datetime(df['Date_of_Hire'])\n",
      "/var/folders/4s/ssj6hqrx2pd25m6n5s48w37h0000gn/T/ipykernel_1052/1583702905.py:3: UserWarning: Parsing '18-03-2020' in DD/MM/YYYY format. Provide format or specify infer_datetime_format=True for consistent parsing.\n",
      "  df['Date_of_Hire'] = pd.to_datetime(df['Date_of_Hire'])\n",
      "/var/folders/4s/ssj6hqrx2pd25m6n5s48w37h0000gn/T/ipykernel_1052/1583702905.py:3: UserWarning: Parsing '18-05-2020' in DD/MM/YYYY format. Provide format or specify infer_datetime_format=True for consistent parsing.\n",
      "  df['Date_of_Hire'] = pd.to_datetime(df['Date_of_Hire'])\n",
      "/var/folders/4s/ssj6hqrx2pd25m6n5s48w37h0000gn/T/ipykernel_1052/1583702905.py:3: UserWarning: Parsing '16-05-2020' in DD/MM/YYYY format. Provide format or specify infer_datetime_format=True for consistent parsing.\n",
      "  df['Date_of_Hire'] = pd.to_datetime(df['Date_of_Hire'])\n",
      "/var/folders/4s/ssj6hqrx2pd25m6n5s48w37h0000gn/T/ipykernel_1052/1583702905.py:3: UserWarning: Parsing '17-05-2020' in DD/MM/YYYY format. Provide format or specify infer_datetime_format=True for consistent parsing.\n",
      "  df['Date_of_Hire'] = pd.to_datetime(df['Date_of_Hire'])\n",
      "/var/folders/4s/ssj6hqrx2pd25m6n5s48w37h0000gn/T/ipykernel_1052/1583702905.py:3: UserWarning: Parsing '31-05-2020' in DD/MM/YYYY format. Provide format or specify infer_datetime_format=True for consistent parsing.\n",
      "  df['Date_of_Hire'] = pd.to_datetime(df['Date_of_Hire'])\n",
      "/var/folders/4s/ssj6hqrx2pd25m6n5s48w37h0000gn/T/ipykernel_1052/1583702905.py:3: UserWarning: Parsing '29-05-2020' in DD/MM/YYYY format. Provide format or specify infer_datetime_format=True for consistent parsing.\n",
      "  df['Date_of_Hire'] = pd.to_datetime(df['Date_of_Hire'])\n",
      "/var/folders/4s/ssj6hqrx2pd25m6n5s48w37h0000gn/T/ipykernel_1052/1583702905.py:3: UserWarning: Parsing '29-01-2020' in DD/MM/YYYY format. Provide format or specify infer_datetime_format=True for consistent parsing.\n",
      "  df['Date_of_Hire'] = pd.to_datetime(df['Date_of_Hire'])\n",
      "/var/folders/4s/ssj6hqrx2pd25m6n5s48w37h0000gn/T/ipykernel_1052/1583702905.py:3: UserWarning: Parsing '15-04-2020' in DD/MM/YYYY format. Provide format or specify infer_datetime_format=True for consistent parsing.\n",
      "  df['Date_of_Hire'] = pd.to_datetime(df['Date_of_Hire'])\n",
      "/var/folders/4s/ssj6hqrx2pd25m6n5s48w37h0000gn/T/ipykernel_1052/1583702905.py:3: UserWarning: Parsing '26-04-2020' in DD/MM/YYYY format. Provide format or specify infer_datetime_format=True for consistent parsing.\n",
      "  df['Date_of_Hire'] = pd.to_datetime(df['Date_of_Hire'])\n",
      "/var/folders/4s/ssj6hqrx2pd25m6n5s48w37h0000gn/T/ipykernel_1052/1583702905.py:3: UserWarning: Parsing '23-02-2020' in DD/MM/YYYY format. Provide format or specify infer_datetime_format=True for consistent parsing.\n",
      "  df['Date_of_Hire'] = pd.to_datetime(df['Date_of_Hire'])\n",
      "/var/folders/4s/ssj6hqrx2pd25m6n5s48w37h0000gn/T/ipykernel_1052/1583702905.py:3: UserWarning: Parsing '21-05-2020' in DD/MM/YYYY format. Provide format or specify infer_datetime_format=True for consistent parsing.\n",
      "  df['Date_of_Hire'] = pd.to_datetime(df['Date_of_Hire'])\n",
      "/var/folders/4s/ssj6hqrx2pd25m6n5s48w37h0000gn/T/ipykernel_1052/1583702905.py:3: UserWarning: Parsing '19-05-2020' in DD/MM/YYYY format. Provide format or specify infer_datetime_format=True for consistent parsing.\n",
      "  df['Date_of_Hire'] = pd.to_datetime(df['Date_of_Hire'])\n",
      "/var/folders/4s/ssj6hqrx2pd25m6n5s48w37h0000gn/T/ipykernel_1052/1583702905.py:3: UserWarning: Parsing '21-01-2020' in DD/MM/YYYY format. Provide format or specify infer_datetime_format=True for consistent parsing.\n",
      "  df['Date_of_Hire'] = pd.to_datetime(df['Date_of_Hire'])\n",
      "/var/folders/4s/ssj6hqrx2pd25m6n5s48w37h0000gn/T/ipykernel_1052/1583702905.py:3: UserWarning: Parsing '22-02-2020' in DD/MM/YYYY format. Provide format or specify infer_datetime_format=True for consistent parsing.\n",
      "  df['Date_of_Hire'] = pd.to_datetime(df['Date_of_Hire'])\n",
      "/var/folders/4s/ssj6hqrx2pd25m6n5s48w37h0000gn/T/ipykernel_1052/1583702905.py:3: UserWarning: Parsing '17-02-2020' in DD/MM/YYYY format. Provide format or specify infer_datetime_format=True for consistent parsing.\n",
      "  df['Date_of_Hire'] = pd.to_datetime(df['Date_of_Hire'])\n",
      "/var/folders/4s/ssj6hqrx2pd25m6n5s48w37h0000gn/T/ipykernel_1052/1583702905.py:3: UserWarning: Parsing '26-06-2020' in DD/MM/YYYY format. Provide format or specify infer_datetime_format=True for consistent parsing.\n",
      "  df['Date_of_Hire'] = pd.to_datetime(df['Date_of_Hire'])\n",
      "/var/folders/4s/ssj6hqrx2pd25m6n5s48w37h0000gn/T/ipykernel_1052/1583702905.py:3: UserWarning: Parsing '30-04-2020' in DD/MM/YYYY format. Provide format or specify infer_datetime_format=True for consistent parsing.\n",
      "  df['Date_of_Hire'] = pd.to_datetime(df['Date_of_Hire'])\n",
      "/var/folders/4s/ssj6hqrx2pd25m6n5s48w37h0000gn/T/ipykernel_1052/1583702905.py:3: UserWarning: Parsing '25-02-2020' in DD/MM/YYYY format. Provide format or specify infer_datetime_format=True for consistent parsing.\n",
      "  df['Date_of_Hire'] = pd.to_datetime(df['Date_of_Hire'])\n",
      "/var/folders/4s/ssj6hqrx2pd25m6n5s48w37h0000gn/T/ipykernel_1052/1583702905.py:3: UserWarning: Parsing '13-02-2020' in DD/MM/YYYY format. Provide format or specify infer_datetime_format=True for consistent parsing.\n",
      "  df['Date_of_Hire'] = pd.to_datetime(df['Date_of_Hire'])\n",
      "/var/folders/4s/ssj6hqrx2pd25m6n5s48w37h0000gn/T/ipykernel_1052/1583702905.py:3: UserWarning: Parsing '28-05-2020' in DD/MM/YYYY format. Provide format or specify infer_datetime_format=True for consistent parsing.\n",
      "  df['Date_of_Hire'] = pd.to_datetime(df['Date_of_Hire'])\n",
      "/var/folders/4s/ssj6hqrx2pd25m6n5s48w37h0000gn/T/ipykernel_1052/1583702905.py:3: UserWarning: Parsing '30-01-2020' in DD/MM/YYYY format. Provide format or specify infer_datetime_format=True for consistent parsing.\n",
      "  df['Date_of_Hire'] = pd.to_datetime(df['Date_of_Hire'])\n",
      "/var/folders/4s/ssj6hqrx2pd25m6n5s48w37h0000gn/T/ipykernel_1052/1583702905.py:3: UserWarning: Parsing '24-05-2020' in DD/MM/YYYY format. Provide format or specify infer_datetime_format=True for consistent parsing.\n",
      "  df['Date_of_Hire'] = pd.to_datetime(df['Date_of_Hire'])\n",
      "/var/folders/4s/ssj6hqrx2pd25m6n5s48w37h0000gn/T/ipykernel_1052/1583702905.py:3: UserWarning: Parsing '30-06-2020' in DD/MM/YYYY format. Provide format or specify infer_datetime_format=True for consistent parsing.\n",
      "  df['Date_of_Hire'] = pd.to_datetime(df['Date_of_Hire'])\n",
      "/var/folders/4s/ssj6hqrx2pd25m6n5s48w37h0000gn/T/ipykernel_1052/1583702905.py:3: UserWarning: Parsing '13-04-2020' in DD/MM/YYYY format. Provide format or specify infer_datetime_format=True for consistent parsing.\n",
      "  df['Date_of_Hire'] = pd.to_datetime(df['Date_of_Hire'])\n",
      "/var/folders/4s/ssj6hqrx2pd25m6n5s48w37h0000gn/T/ipykernel_1052/1583702905.py:3: UserWarning: Parsing '26-01-2020' in DD/MM/YYYY format. Provide format or specify infer_datetime_format=True for consistent parsing.\n",
      "  df['Date_of_Hire'] = pd.to_datetime(df['Date_of_Hire'])\n",
      "/var/folders/4s/ssj6hqrx2pd25m6n5s48w37h0000gn/T/ipykernel_1052/1583702905.py:3: UserWarning: Parsing '24-04-2020' in DD/MM/YYYY format. Provide format or specify infer_datetime_format=True for consistent parsing.\n",
      "  df['Date_of_Hire'] = pd.to_datetime(df['Date_of_Hire'])\n",
      "/var/folders/4s/ssj6hqrx2pd25m6n5s48w37h0000gn/T/ipykernel_1052/1583702905.py:3: UserWarning: Parsing '27-06-2020' in DD/MM/YYYY format. Provide format or specify infer_datetime_format=True for consistent parsing.\n",
      "  df['Date_of_Hire'] = pd.to_datetime(df['Date_of_Hire'])\n",
      "/var/folders/4s/ssj6hqrx2pd25m6n5s48w37h0000gn/T/ipykernel_1052/1583702905.py:3: UserWarning: Parsing '16-04-2020' in DD/MM/YYYY format. Provide format or specify infer_datetime_format=True for consistent parsing.\n",
      "  df['Date_of_Hire'] = pd.to_datetime(df['Date_of_Hire'])\n",
      "/var/folders/4s/ssj6hqrx2pd25m6n5s48w37h0000gn/T/ipykernel_1052/1583702905.py:3: UserWarning: Parsing '13-05-2020' in DD/MM/YYYY format. Provide format or specify infer_datetime_format=True for consistent parsing.\n",
      "  df['Date_of_Hire'] = pd.to_datetime(df['Date_of_Hire'])\n",
      "/var/folders/4s/ssj6hqrx2pd25m6n5s48w37h0000gn/T/ipykernel_1052/1583702905.py:3: UserWarning: Parsing '18-02-2020' in DD/MM/YYYY format. Provide format or specify infer_datetime_format=True for consistent parsing.\n",
      "  df['Date_of_Hire'] = pd.to_datetime(df['Date_of_Hire'])\n",
      "/var/folders/4s/ssj6hqrx2pd25m6n5s48w37h0000gn/T/ipykernel_1052/1583702905.py:3: UserWarning: Parsing '25-04-2020' in DD/MM/YYYY format. Provide format or specify infer_datetime_format=True for consistent parsing.\n",
      "  df['Date_of_Hire'] = pd.to_datetime(df['Date_of_Hire'])\n",
      "/var/folders/4s/ssj6hqrx2pd25m6n5s48w37h0000gn/T/ipykernel_1052/1583702905.py:3: UserWarning: Parsing '25-06-2020' in DD/MM/YYYY format. Provide format or specify infer_datetime_format=True for consistent parsing.\n",
      "  df['Date_of_Hire'] = pd.to_datetime(df['Date_of_Hire'])\n",
      "/var/folders/4s/ssj6hqrx2pd25m6n5s48w37h0000gn/T/ipykernel_1052/1583702905.py:3: UserWarning: Parsing '31-03-2020' in DD/MM/YYYY format. Provide format or specify infer_datetime_format=True for consistent parsing.\n",
      "  df['Date_of_Hire'] = pd.to_datetime(df['Date_of_Hire'])\n",
      "/var/folders/4s/ssj6hqrx2pd25m6n5s48w37h0000gn/T/ipykernel_1052/1583702905.py:3: UserWarning: Parsing '23-06-2020' in DD/MM/YYYY format. Provide format or specify infer_datetime_format=True for consistent parsing.\n",
      "  df['Date_of_Hire'] = pd.to_datetime(df['Date_of_Hire'])\n",
      "/var/folders/4s/ssj6hqrx2pd25m6n5s48w37h0000gn/T/ipykernel_1052/1583702905.py:3: UserWarning: Parsing '17-03-2020' in DD/MM/YYYY format. Provide format or specify infer_datetime_format=True for consistent parsing.\n",
      "  df['Date_of_Hire'] = pd.to_datetime(df['Date_of_Hire'])\n",
      "/var/folders/4s/ssj6hqrx2pd25m6n5s48w37h0000gn/T/ipykernel_1052/1583702905.py:3: UserWarning: Parsing '14-01-2020' in DD/MM/YYYY format. Provide format or specify infer_datetime_format=True for consistent parsing.\n",
      "  df['Date_of_Hire'] = pd.to_datetime(df['Date_of_Hire'])\n",
      "/var/folders/4s/ssj6hqrx2pd25m6n5s48w37h0000gn/T/ipykernel_1052/1583702905.py:3: UserWarning: Parsing '19-01-2020' in DD/MM/YYYY format. Provide format or specify infer_datetime_format=True for consistent parsing.\n",
      "  df['Date_of_Hire'] = pd.to_datetime(df['Date_of_Hire'])\n",
      "/var/folders/4s/ssj6hqrx2pd25m6n5s48w37h0000gn/T/ipykernel_1052/1583702905.py:3: UserWarning: Parsing '21-03-2020' in DD/MM/YYYY format. Provide format or specify infer_datetime_format=True for consistent parsing.\n",
      "  df['Date_of_Hire'] = pd.to_datetime(df['Date_of_Hire'])\n",
      "/var/folders/4s/ssj6hqrx2pd25m6n5s48w37h0000gn/T/ipykernel_1052/1583702905.py:3: UserWarning: Parsing '22-05-2020' in DD/MM/YYYY format. Provide format or specify infer_datetime_format=True for consistent parsing.\n",
      "  df['Date_of_Hire'] = pd.to_datetime(df['Date_of_Hire'])\n",
      "/var/folders/4s/ssj6hqrx2pd25m6n5s48w37h0000gn/T/ipykernel_1052/1583702905.py:3: UserWarning: Parsing '30-03-2020' in DD/MM/YYYY format. Provide format or specify infer_datetime_format=True for consistent parsing.\n",
      "  df['Date_of_Hire'] = pd.to_datetime(df['Date_of_Hire'])\n",
      "/var/folders/4s/ssj6hqrx2pd25m6n5s48w37h0000gn/T/ipykernel_1052/1583702905.py:3: UserWarning: Parsing '18-04-2020' in DD/MM/YYYY format. Provide format or specify infer_datetime_format=True for consistent parsing.\n",
      "  df['Date_of_Hire'] = pd.to_datetime(df['Date_of_Hire'])\n",
      "/var/folders/4s/ssj6hqrx2pd25m6n5s48w37h0000gn/T/ipykernel_1052/1583702905.py:3: UserWarning: Parsing '28-01-2020' in DD/MM/YYYY format. Provide format or specify infer_datetime_format=True for consistent parsing.\n",
      "  df['Date_of_Hire'] = pd.to_datetime(df['Date_of_Hire'])\n",
      "/var/folders/4s/ssj6hqrx2pd25m6n5s48w37h0000gn/T/ipykernel_1052/1583702905.py:3: UserWarning: Parsing '17-01-2020' in DD/MM/YYYY format. Provide format or specify infer_datetime_format=True for consistent parsing.\n",
      "  df['Date_of_Hire'] = pd.to_datetime(df['Date_of_Hire'])\n",
      "/var/folders/4s/ssj6hqrx2pd25m6n5s48w37h0000gn/T/ipykernel_1052/1583702905.py:3: UserWarning: Parsing '31-01-2020' in DD/MM/YYYY format. Provide format or specify infer_datetime_format=True for consistent parsing.\n",
      "  df['Date_of_Hire'] = pd.to_datetime(df['Date_of_Hire'])\n",
      "/var/folders/4s/ssj6hqrx2pd25m6n5s48w37h0000gn/T/ipykernel_1052/1583702905.py:3: UserWarning: Parsing '26-03-2020' in DD/MM/YYYY format. Provide format or specify infer_datetime_format=True for consistent parsing.\n",
      "  df['Date_of_Hire'] = pd.to_datetime(df['Date_of_Hire'])\n",
      "/var/folders/4s/ssj6hqrx2pd25m6n5s48w37h0000gn/T/ipykernel_1052/1583702905.py:3: UserWarning: Parsing '19-02-2020' in DD/MM/YYYY format. Provide format or specify infer_datetime_format=True for consistent parsing.\n",
      "  df['Date_of_Hire'] = pd.to_datetime(df['Date_of_Hire'])\n",
      "/var/folders/4s/ssj6hqrx2pd25m6n5s48w37h0000gn/T/ipykernel_1052/1583702905.py:3: UserWarning: Parsing '14-03-2020' in DD/MM/YYYY format. Provide format or specify infer_datetime_format=True for consistent parsing.\n",
      "  df['Date_of_Hire'] = pd.to_datetime(df['Date_of_Hire'])\n",
      "/var/folders/4s/ssj6hqrx2pd25m6n5s48w37h0000gn/T/ipykernel_1052/1583702905.py:3: UserWarning: Parsing '15-03-2020' in DD/MM/YYYY format. Provide format or specify infer_datetime_format=True for consistent parsing.\n",
      "  df['Date_of_Hire'] = pd.to_datetime(df['Date_of_Hire'])\n",
      "/var/folders/4s/ssj6hqrx2pd25m6n5s48w37h0000gn/T/ipykernel_1052/1583702905.py:3: UserWarning: Parsing '20-05-2020' in DD/MM/YYYY format. Provide format or specify infer_datetime_format=True for consistent parsing.\n",
      "  df['Date_of_Hire'] = pd.to_datetime(df['Date_of_Hire'])\n",
      "/var/folders/4s/ssj6hqrx2pd25m6n5s48w37h0000gn/T/ipykernel_1052/1583702905.py:3: UserWarning: Parsing '13-01-2020' in DD/MM/YYYY format. Provide format or specify infer_datetime_format=True for consistent parsing.\n",
      "  df['Date_of_Hire'] = pd.to_datetime(df['Date_of_Hire'])\n",
      "/var/folders/4s/ssj6hqrx2pd25m6n5s48w37h0000gn/T/ipykernel_1052/1583702905.py:3: UserWarning: Parsing '21-02-2020' in DD/MM/YYYY format. Provide format or specify infer_datetime_format=True for consistent parsing.\n",
      "  df['Date_of_Hire'] = pd.to_datetime(df['Date_of_Hire'])\n",
      "/var/folders/4s/ssj6hqrx2pd25m6n5s48w37h0000gn/T/ipykernel_1052/1583702905.py:3: UserWarning: Parsing '16-03-2020' in DD/MM/YYYY format. Provide format or specify infer_datetime_format=True for consistent parsing.\n",
      "  df['Date_of_Hire'] = pd.to_datetime(df['Date_of_Hire'])\n",
      "/var/folders/4s/ssj6hqrx2pd25m6n5s48w37h0000gn/T/ipykernel_1052/1583702905.py:3: UserWarning: Parsing '26-05-2020' in DD/MM/YYYY format. Provide format or specify infer_datetime_format=True for consistent parsing.\n",
      "  df['Date_of_Hire'] = pd.to_datetime(df['Date_of_Hire'])\n",
      "/var/folders/4s/ssj6hqrx2pd25m6n5s48w37h0000gn/T/ipykernel_1052/1583702905.py:3: UserWarning: Parsing '15-06-2020' in DD/MM/YYYY format. Provide format or specify infer_datetime_format=True for consistent parsing.\n",
      "  df['Date_of_Hire'] = pd.to_datetime(df['Date_of_Hire'])\n",
      "/var/folders/4s/ssj6hqrx2pd25m6n5s48w37h0000gn/T/ipykernel_1052/1583702905.py:3: UserWarning: Parsing '14-02-2020' in DD/MM/YYYY format. Provide format or specify infer_datetime_format=True for consistent parsing.\n",
      "  df['Date_of_Hire'] = pd.to_datetime(df['Date_of_Hire'])\n",
      "/var/folders/4s/ssj6hqrx2pd25m6n5s48w37h0000gn/T/ipykernel_1052/1583702905.py:3: UserWarning: Parsing '13-06-2020' in DD/MM/YYYY format. Provide format or specify infer_datetime_format=True for consistent parsing.\n",
      "  df['Date_of_Hire'] = pd.to_datetime(df['Date_of_Hire'])\n",
      "/var/folders/4s/ssj6hqrx2pd25m6n5s48w37h0000gn/T/ipykernel_1052/1583702905.py:3: UserWarning: Parsing '18-06-2020' in DD/MM/YYYY format. Provide format or specify infer_datetime_format=True for consistent parsing.\n",
      "  df['Date_of_Hire'] = pd.to_datetime(df['Date_of_Hire'])\n",
      "/var/folders/4s/ssj6hqrx2pd25m6n5s48w37h0000gn/T/ipykernel_1052/1583702905.py:3: UserWarning: Parsing '19-02-2019' in DD/MM/YYYY format. Provide format or specify infer_datetime_format=True for consistent parsing.\n",
      "  df['Date_of_Hire'] = pd.to_datetime(df['Date_of_Hire'])\n",
      "/var/folders/4s/ssj6hqrx2pd25m6n5s48w37h0000gn/T/ipykernel_1052/1583702905.py:3: UserWarning: Parsing '16-03-2019' in DD/MM/YYYY format. Provide format or specify infer_datetime_format=True for consistent parsing.\n",
      "  df['Date_of_Hire'] = pd.to_datetime(df['Date_of_Hire'])\n",
      "/var/folders/4s/ssj6hqrx2pd25m6n5s48w37h0000gn/T/ipykernel_1052/1583702905.py:3: UserWarning: Parsing '26-01-2019' in DD/MM/YYYY format. Provide format or specify infer_datetime_format=True for consistent parsing.\n",
      "  df['Date_of_Hire'] = pd.to_datetime(df['Date_of_Hire'])\n",
      "/var/folders/4s/ssj6hqrx2pd25m6n5s48w37h0000gn/T/ipykernel_1052/1583702905.py:3: UserWarning: Parsing '16-04-2019' in DD/MM/YYYY format. Provide format or specify infer_datetime_format=True for consistent parsing.\n",
      "  df['Date_of_Hire'] = pd.to_datetime(df['Date_of_Hire'])\n",
      "/var/folders/4s/ssj6hqrx2pd25m6n5s48w37h0000gn/T/ipykernel_1052/1583702905.py:3: UserWarning: Parsing '17-05-2019' in DD/MM/YYYY format. Provide format or specify infer_datetime_format=True for consistent parsing.\n",
      "  df['Date_of_Hire'] = pd.to_datetime(df['Date_of_Hire'])\n",
      "/var/folders/4s/ssj6hqrx2pd25m6n5s48w37h0000gn/T/ipykernel_1052/1583702905.py:3: UserWarning: Parsing '27-05-2019' in DD/MM/YYYY format. Provide format or specify infer_datetime_format=True for consistent parsing.\n",
      "  df['Date_of_Hire'] = pd.to_datetime(df['Date_of_Hire'])\n",
      "/var/folders/4s/ssj6hqrx2pd25m6n5s48w37h0000gn/T/ipykernel_1052/1583702905.py:3: UserWarning: Parsing '30-06-2019' in DD/MM/YYYY format. Provide format or specify infer_datetime_format=True for consistent parsing.\n",
      "  df['Date_of_Hire'] = pd.to_datetime(df['Date_of_Hire'])\n",
      "/var/folders/4s/ssj6hqrx2pd25m6n5s48w37h0000gn/T/ipykernel_1052/1583702905.py:3: UserWarning: Parsing '13-04-2019' in DD/MM/YYYY format. Provide format or specify infer_datetime_format=True for consistent parsing.\n",
      "  df['Date_of_Hire'] = pd.to_datetime(df['Date_of_Hire'])\n",
      "/var/folders/4s/ssj6hqrx2pd25m6n5s48w37h0000gn/T/ipykernel_1052/1583702905.py:3: UserWarning: Parsing '19-03-2019' in DD/MM/YYYY format. Provide format or specify infer_datetime_format=True for consistent parsing.\n",
      "  df['Date_of_Hire'] = pd.to_datetime(df['Date_of_Hire'])\n",
      "/var/folders/4s/ssj6hqrx2pd25m6n5s48w37h0000gn/T/ipykernel_1052/1583702905.py:3: UserWarning: Parsing '27-04-2019' in DD/MM/YYYY format. Provide format or specify infer_datetime_format=True for consistent parsing.\n",
      "  df['Date_of_Hire'] = pd.to_datetime(df['Date_of_Hire'])\n",
      "/var/folders/4s/ssj6hqrx2pd25m6n5s48w37h0000gn/T/ipykernel_1052/1583702905.py:3: UserWarning: Parsing '28-06-2019' in DD/MM/YYYY format. Provide format or specify infer_datetime_format=True for consistent parsing.\n",
      "  df['Date_of_Hire'] = pd.to_datetime(df['Date_of_Hire'])\n",
      "/var/folders/4s/ssj6hqrx2pd25m6n5s48w37h0000gn/T/ipykernel_1052/1583702905.py:3: UserWarning: Parsing '22-04-2019' in DD/MM/YYYY format. Provide format or specify infer_datetime_format=True for consistent parsing.\n",
      "  df['Date_of_Hire'] = pd.to_datetime(df['Date_of_Hire'])\n",
      "/var/folders/4s/ssj6hqrx2pd25m6n5s48w37h0000gn/T/ipykernel_1052/1583702905.py:3: UserWarning: Parsing '24-01-2019' in DD/MM/YYYY format. Provide format or specify infer_datetime_format=True for consistent parsing.\n",
      "  df['Date_of_Hire'] = pd.to_datetime(df['Date_of_Hire'])\n",
      "/var/folders/4s/ssj6hqrx2pd25m6n5s48w37h0000gn/T/ipykernel_1052/1583702905.py:3: UserWarning: Parsing '29-06-2019' in DD/MM/YYYY format. Provide format or specify infer_datetime_format=True for consistent parsing.\n",
      "  df['Date_of_Hire'] = pd.to_datetime(df['Date_of_Hire'])\n",
      "/var/folders/4s/ssj6hqrx2pd25m6n5s48w37h0000gn/T/ipykernel_1052/1583702905.py:3: UserWarning: Parsing '21-05-2019' in DD/MM/YYYY format. Provide format or specify infer_datetime_format=True for consistent parsing.\n",
      "  df['Date_of_Hire'] = pd.to_datetime(df['Date_of_Hire'])\n",
      "/var/folders/4s/ssj6hqrx2pd25m6n5s48w37h0000gn/T/ipykernel_1052/1583702905.py:3: UserWarning: Parsing '29-01-2019' in DD/MM/YYYY format. Provide format or specify infer_datetime_format=True for consistent parsing.\n",
      "  df['Date_of_Hire'] = pd.to_datetime(df['Date_of_Hire'])\n",
      "/var/folders/4s/ssj6hqrx2pd25m6n5s48w37h0000gn/T/ipykernel_1052/1583702905.py:3: UserWarning: Parsing '25-05-2019' in DD/MM/YYYY format. Provide format or specify infer_datetime_format=True for consistent parsing.\n",
      "  df['Date_of_Hire'] = pd.to_datetime(df['Date_of_Hire'])\n",
      "/var/folders/4s/ssj6hqrx2pd25m6n5s48w37h0000gn/T/ipykernel_1052/1583702905.py:3: UserWarning: Parsing '19-01-2019' in DD/MM/YYYY format. Provide format or specify infer_datetime_format=True for consistent parsing.\n",
      "  df['Date_of_Hire'] = pd.to_datetime(df['Date_of_Hire'])\n",
      "/var/folders/4s/ssj6hqrx2pd25m6n5s48w37h0000gn/T/ipykernel_1052/1583702905.py:3: UserWarning: Parsing '15-05-2019' in DD/MM/YYYY format. Provide format or specify infer_datetime_format=True for consistent parsing.\n",
      "  df['Date_of_Hire'] = pd.to_datetime(df['Date_of_Hire'])\n",
      "/var/folders/4s/ssj6hqrx2pd25m6n5s48w37h0000gn/T/ipykernel_1052/1583702905.py:3: UserWarning: Parsing '13-01-2019' in DD/MM/YYYY format. Provide format or specify infer_datetime_format=True for consistent parsing.\n",
      "  df['Date_of_Hire'] = pd.to_datetime(df['Date_of_Hire'])\n",
      "/var/folders/4s/ssj6hqrx2pd25m6n5s48w37h0000gn/T/ipykernel_1052/1583702905.py:3: UserWarning: Parsing '26-05-2019' in DD/MM/YYYY format. Provide format or specify infer_datetime_format=True for consistent parsing.\n",
      "  df['Date_of_Hire'] = pd.to_datetime(df['Date_of_Hire'])\n",
      "/var/folders/4s/ssj6hqrx2pd25m6n5s48w37h0000gn/T/ipykernel_1052/1583702905.py:3: UserWarning: Parsing '19-04-2019' in DD/MM/YYYY format. Provide format or specify infer_datetime_format=True for consistent parsing.\n",
      "  df['Date_of_Hire'] = pd.to_datetime(df['Date_of_Hire'])\n",
      "/var/folders/4s/ssj6hqrx2pd25m6n5s48w37h0000gn/T/ipykernel_1052/1583702905.py:3: UserWarning: Parsing '23-04-2019' in DD/MM/YYYY format. Provide format or specify infer_datetime_format=True for consistent parsing.\n",
      "  df['Date_of_Hire'] = pd.to_datetime(df['Date_of_Hire'])\n",
      "/var/folders/4s/ssj6hqrx2pd25m6n5s48w37h0000gn/T/ipykernel_1052/1583702905.py:3: UserWarning: Parsing '27-02-2019' in DD/MM/YYYY format. Provide format or specify infer_datetime_format=True for consistent parsing.\n",
      "  df['Date_of_Hire'] = pd.to_datetime(df['Date_of_Hire'])\n",
      "/var/folders/4s/ssj6hqrx2pd25m6n5s48w37h0000gn/T/ipykernel_1052/1583702905.py:3: UserWarning: Parsing '22-06-2019' in DD/MM/YYYY format. Provide format or specify infer_datetime_format=True for consistent parsing.\n",
      "  df['Date_of_Hire'] = pd.to_datetime(df['Date_of_Hire'])\n",
      "/var/folders/4s/ssj6hqrx2pd25m6n5s48w37h0000gn/T/ipykernel_1052/1583702905.py:3: UserWarning: Parsing '22-03-2019' in DD/MM/YYYY format. Provide format or specify infer_datetime_format=True for consistent parsing.\n",
      "  df['Date_of_Hire'] = pd.to_datetime(df['Date_of_Hire'])\n",
      "/var/folders/4s/ssj6hqrx2pd25m6n5s48w37h0000gn/T/ipykernel_1052/1583702905.py:3: UserWarning: Parsing '24-02-2019' in DD/MM/YYYY format. Provide format or specify infer_datetime_format=True for consistent parsing.\n",
      "  df['Date_of_Hire'] = pd.to_datetime(df['Date_of_Hire'])\n",
      "/var/folders/4s/ssj6hqrx2pd25m6n5s48w37h0000gn/T/ipykernel_1052/1583702905.py:3: UserWarning: Parsing '18-06-2019' in DD/MM/YYYY format. Provide format or specify infer_datetime_format=True for consistent parsing.\n",
      "  df['Date_of_Hire'] = pd.to_datetime(df['Date_of_Hire'])\n",
      "/var/folders/4s/ssj6hqrx2pd25m6n5s48w37h0000gn/T/ipykernel_1052/1583702905.py:3: UserWarning: Parsing '20-04-2019' in DD/MM/YYYY format. Provide format or specify infer_datetime_format=True for consistent parsing.\n",
      "  df['Date_of_Hire'] = pd.to_datetime(df['Date_of_Hire'])\n",
      "/var/folders/4s/ssj6hqrx2pd25m6n5s48w37h0000gn/T/ipykernel_1052/1583702905.py:3: UserWarning: Parsing '24-03-2019' in DD/MM/YYYY format. Provide format or specify infer_datetime_format=True for consistent parsing.\n",
      "  df['Date_of_Hire'] = pd.to_datetime(df['Date_of_Hire'])\n",
      "/var/folders/4s/ssj6hqrx2pd25m6n5s48w37h0000gn/T/ipykernel_1052/1583702905.py:3: UserWarning: Parsing '24-06-2019' in DD/MM/YYYY format. Provide format or specify infer_datetime_format=True for consistent parsing.\n",
      "  df['Date_of_Hire'] = pd.to_datetime(df['Date_of_Hire'])\n",
      "/var/folders/4s/ssj6hqrx2pd25m6n5s48w37h0000gn/T/ipykernel_1052/1583702905.py:3: UserWarning: Parsing '20-06-2019' in DD/MM/YYYY format. Provide format or specify infer_datetime_format=True for consistent parsing.\n",
      "  df['Date_of_Hire'] = pd.to_datetime(df['Date_of_Hire'])\n",
      "/var/folders/4s/ssj6hqrx2pd25m6n5s48w37h0000gn/T/ipykernel_1052/1583702905.py:3: UserWarning: Parsing '19-06-2019' in DD/MM/YYYY format. Provide format or specify infer_datetime_format=True for consistent parsing.\n",
      "  df['Date_of_Hire'] = pd.to_datetime(df['Date_of_Hire'])\n",
      "/var/folders/4s/ssj6hqrx2pd25m6n5s48w37h0000gn/T/ipykernel_1052/1583702905.py:3: UserWarning: Parsing '29-05-2019' in DD/MM/YYYY format. Provide format or specify infer_datetime_format=True for consistent parsing.\n",
      "  df['Date_of_Hire'] = pd.to_datetime(df['Date_of_Hire'])\n",
      "/var/folders/4s/ssj6hqrx2pd25m6n5s48w37h0000gn/T/ipykernel_1052/1583702905.py:3: UserWarning: Parsing '22-01-2019' in DD/MM/YYYY format. Provide format or specify infer_datetime_format=True for consistent parsing.\n",
      "  df['Date_of_Hire'] = pd.to_datetime(df['Date_of_Hire'])\n",
      "/var/folders/4s/ssj6hqrx2pd25m6n5s48w37h0000gn/T/ipykernel_1052/1583702905.py:3: UserWarning: Parsing '21-02-2019' in DD/MM/YYYY format. Provide format or specify infer_datetime_format=True for consistent parsing.\n",
      "  df['Date_of_Hire'] = pd.to_datetime(df['Date_of_Hire'])\n",
      "/var/folders/4s/ssj6hqrx2pd25m6n5s48w37h0000gn/T/ipykernel_1052/1583702905.py:3: UserWarning: Parsing '13-05-2019' in DD/MM/YYYY format. Provide format or specify infer_datetime_format=True for consistent parsing.\n",
      "  df['Date_of_Hire'] = pd.to_datetime(df['Date_of_Hire'])\n",
      "/var/folders/4s/ssj6hqrx2pd25m6n5s48w37h0000gn/T/ipykernel_1052/1583702905.py:3: UserWarning: Parsing '31-03-2019' in DD/MM/YYYY format. Provide format or specify infer_datetime_format=True for consistent parsing.\n",
      "  df['Date_of_Hire'] = pd.to_datetime(df['Date_of_Hire'])\n",
      "/var/folders/4s/ssj6hqrx2pd25m6n5s48w37h0000gn/T/ipykernel_1052/1583702905.py:3: UserWarning: Parsing '14-05-2019' in DD/MM/YYYY format. Provide format or specify infer_datetime_format=True for consistent parsing.\n",
      "  df['Date_of_Hire'] = pd.to_datetime(df['Date_of_Hire'])\n",
      "/var/folders/4s/ssj6hqrx2pd25m6n5s48w37h0000gn/T/ipykernel_1052/1583702905.py:3: UserWarning: Parsing '25-06-2019' in DD/MM/YYYY format. Provide format or specify infer_datetime_format=True for consistent parsing.\n",
      "  df['Date_of_Hire'] = pd.to_datetime(df['Date_of_Hire'])\n",
      "/var/folders/4s/ssj6hqrx2pd25m6n5s48w37h0000gn/T/ipykernel_1052/1583702905.py:3: UserWarning: Parsing '30-04-2019' in DD/MM/YYYY format. Provide format or specify infer_datetime_format=True for consistent parsing.\n",
      "  df['Date_of_Hire'] = pd.to_datetime(df['Date_of_Hire'])\n",
      "/var/folders/4s/ssj6hqrx2pd25m6n5s48w37h0000gn/T/ipykernel_1052/1583702905.py:3: UserWarning: Parsing '28-04-2019' in DD/MM/YYYY format. Provide format or specify infer_datetime_format=True for consistent parsing.\n",
      "  df['Date_of_Hire'] = pd.to_datetime(df['Date_of_Hire'])\n",
      "/var/folders/4s/ssj6hqrx2pd25m6n5s48w37h0000gn/T/ipykernel_1052/1583702905.py:3: UserWarning: Parsing '15-03-2019' in DD/MM/YYYY format. Provide format or specify infer_datetime_format=True for consistent parsing.\n",
      "  df['Date_of_Hire'] = pd.to_datetime(df['Date_of_Hire'])\n",
      "/var/folders/4s/ssj6hqrx2pd25m6n5s48w37h0000gn/T/ipykernel_1052/1583702905.py:3: UserWarning: Parsing '16-05-2019' in DD/MM/YYYY format. Provide format or specify infer_datetime_format=True for consistent parsing.\n",
      "  df['Date_of_Hire'] = pd.to_datetime(df['Date_of_Hire'])\n",
      "/var/folders/4s/ssj6hqrx2pd25m6n5s48w37h0000gn/T/ipykernel_1052/1583702905.py:3: UserWarning: Parsing '22-05-2019' in DD/MM/YYYY format. Provide format or specify infer_datetime_format=True for consistent parsing.\n",
      "  df['Date_of_Hire'] = pd.to_datetime(df['Date_of_Hire'])\n",
      "/var/folders/4s/ssj6hqrx2pd25m6n5s48w37h0000gn/T/ipykernel_1052/1583702905.py:3: UserWarning: Parsing '17-03-2019' in DD/MM/YYYY format. Provide format or specify infer_datetime_format=True for consistent parsing.\n",
      "  df['Date_of_Hire'] = pd.to_datetime(df['Date_of_Hire'])\n",
      "/var/folders/4s/ssj6hqrx2pd25m6n5s48w37h0000gn/T/ipykernel_1052/1583702905.py:3: UserWarning: Parsing '14-04-2019' in DD/MM/YYYY format. Provide format or specify infer_datetime_format=True for consistent parsing.\n",
      "  df['Date_of_Hire'] = pd.to_datetime(df['Date_of_Hire'])\n",
      "/var/folders/4s/ssj6hqrx2pd25m6n5s48w37h0000gn/T/ipykernel_1052/1583702905.py:3: UserWarning: Parsing '21-03-2019' in DD/MM/YYYY format. Provide format or specify infer_datetime_format=True for consistent parsing.\n",
      "  df['Date_of_Hire'] = pd.to_datetime(df['Date_of_Hire'])\n",
      "/var/folders/4s/ssj6hqrx2pd25m6n5s48w37h0000gn/T/ipykernel_1052/1583702905.py:3: UserWarning: Parsing '27-06-2019' in DD/MM/YYYY format. Provide format or specify infer_datetime_format=True for consistent parsing.\n",
      "  df['Date_of_Hire'] = pd.to_datetime(df['Date_of_Hire'])\n",
      "/var/folders/4s/ssj6hqrx2pd25m6n5s48w37h0000gn/T/ipykernel_1052/1583702905.py:3: UserWarning: Parsing '24-05-2019' in DD/MM/YYYY format. Provide format or specify infer_datetime_format=True for consistent parsing.\n",
      "  df['Date_of_Hire'] = pd.to_datetime(df['Date_of_Hire'])\n",
      "/var/folders/4s/ssj6hqrx2pd25m6n5s48w37h0000gn/T/ipykernel_1052/1583702905.py:3: UserWarning: Parsing '15-01-2019' in DD/MM/YYYY format. Provide format or specify infer_datetime_format=True for consistent parsing.\n",
      "  df['Date_of_Hire'] = pd.to_datetime(df['Date_of_Hire'])\n",
      "/var/folders/4s/ssj6hqrx2pd25m6n5s48w37h0000gn/T/ipykernel_1052/1583702905.py:3: UserWarning: Parsing '23-06-2019' in DD/MM/YYYY format. Provide format or specify infer_datetime_format=True for consistent parsing.\n",
      "  df['Date_of_Hire'] = pd.to_datetime(df['Date_of_Hire'])\n",
      "/var/folders/4s/ssj6hqrx2pd25m6n5s48w37h0000gn/T/ipykernel_1052/1583702905.py:3: UserWarning: Parsing '17-05-2018' in DD/MM/YYYY format. Provide format or specify infer_datetime_format=True for consistent parsing.\n",
      "  df['Date_of_Hire'] = pd.to_datetime(df['Date_of_Hire'])\n",
      "/var/folders/4s/ssj6hqrx2pd25m6n5s48w37h0000gn/T/ipykernel_1052/1583702905.py:3: UserWarning: Parsing '17-01-2018' in DD/MM/YYYY format. Provide format or specify infer_datetime_format=True for consistent parsing.\n",
      "  df['Date_of_Hire'] = pd.to_datetime(df['Date_of_Hire'])\n",
      "/var/folders/4s/ssj6hqrx2pd25m6n5s48w37h0000gn/T/ipykernel_1052/1583702905.py:3: UserWarning: Parsing '27-04-2018' in DD/MM/YYYY format. Provide format or specify infer_datetime_format=True for consistent parsing.\n",
      "  df['Date_of_Hire'] = pd.to_datetime(df['Date_of_Hire'])\n",
      "/var/folders/4s/ssj6hqrx2pd25m6n5s48w37h0000gn/T/ipykernel_1052/1583702905.py:3: UserWarning: Parsing '23-03-2018' in DD/MM/YYYY format. Provide format or specify infer_datetime_format=True for consistent parsing.\n",
      "  df['Date_of_Hire'] = pd.to_datetime(df['Date_of_Hire'])\n",
      "/var/folders/4s/ssj6hqrx2pd25m6n5s48w37h0000gn/T/ipykernel_1052/1583702905.py:3: UserWarning: Parsing '18-02-2018' in DD/MM/YYYY format. Provide format or specify infer_datetime_format=True for consistent parsing.\n",
      "  df['Date_of_Hire'] = pd.to_datetime(df['Date_of_Hire'])\n",
      "/var/folders/4s/ssj6hqrx2pd25m6n5s48w37h0000gn/T/ipykernel_1052/1583702905.py:3: UserWarning: Parsing '13-02-2018' in DD/MM/YYYY format. Provide format or specify infer_datetime_format=True for consistent parsing.\n",
      "  df['Date_of_Hire'] = pd.to_datetime(df['Date_of_Hire'])\n",
      "/var/folders/4s/ssj6hqrx2pd25m6n5s48w37h0000gn/T/ipykernel_1052/1583702905.py:3: UserWarning: Parsing '18-06-2018' in DD/MM/YYYY format. Provide format or specify infer_datetime_format=True for consistent parsing.\n",
      "  df['Date_of_Hire'] = pd.to_datetime(df['Date_of_Hire'])\n",
      "/var/folders/4s/ssj6hqrx2pd25m6n5s48w37h0000gn/T/ipykernel_1052/1583702905.py:3: UserWarning: Parsing '24-04-2018' in DD/MM/YYYY format. Provide format or specify infer_datetime_format=True for consistent parsing.\n",
      "  df['Date_of_Hire'] = pd.to_datetime(df['Date_of_Hire'])\n",
      "/var/folders/4s/ssj6hqrx2pd25m6n5s48w37h0000gn/T/ipykernel_1052/1583702905.py:3: UserWarning: Parsing '25-05-2018' in DD/MM/YYYY format. Provide format or specify infer_datetime_format=True for consistent parsing.\n",
      "  df['Date_of_Hire'] = pd.to_datetime(df['Date_of_Hire'])\n",
      "/var/folders/4s/ssj6hqrx2pd25m6n5s48w37h0000gn/T/ipykernel_1052/1583702905.py:3: UserWarning: Parsing '24-01-2018' in DD/MM/YYYY format. Provide format or specify infer_datetime_format=True for consistent parsing.\n",
      "  df['Date_of_Hire'] = pd.to_datetime(df['Date_of_Hire'])\n",
      "/var/folders/4s/ssj6hqrx2pd25m6n5s48w37h0000gn/T/ipykernel_1052/1583702905.py:3: UserWarning: Parsing '21-02-2018' in DD/MM/YYYY format. Provide format or specify infer_datetime_format=True for consistent parsing.\n",
      "  df['Date_of_Hire'] = pd.to_datetime(df['Date_of_Hire'])\n",
      "/var/folders/4s/ssj6hqrx2pd25m6n5s48w37h0000gn/T/ipykernel_1052/1583702905.py:3: UserWarning: Parsing '25-03-2018' in DD/MM/YYYY format. Provide format or specify infer_datetime_format=True for consistent parsing.\n",
      "  df['Date_of_Hire'] = pd.to_datetime(df['Date_of_Hire'])\n",
      "/var/folders/4s/ssj6hqrx2pd25m6n5s48w37h0000gn/T/ipykernel_1052/1583702905.py:3: UserWarning: Parsing '26-06-2018' in DD/MM/YYYY format. Provide format or specify infer_datetime_format=True for consistent parsing.\n",
      "  df['Date_of_Hire'] = pd.to_datetime(df['Date_of_Hire'])\n",
      "/var/folders/4s/ssj6hqrx2pd25m6n5s48w37h0000gn/T/ipykernel_1052/1583702905.py:3: UserWarning: Parsing '17-04-2018' in DD/MM/YYYY format. Provide format or specify infer_datetime_format=True for consistent parsing.\n",
      "  df['Date_of_Hire'] = pd.to_datetime(df['Date_of_Hire'])\n",
      "/var/folders/4s/ssj6hqrx2pd25m6n5s48w37h0000gn/T/ipykernel_1052/1583702905.py:3: UserWarning: Parsing '15-04-2018' in DD/MM/YYYY format. Provide format or specify infer_datetime_format=True for consistent parsing.\n",
      "  df['Date_of_Hire'] = pd.to_datetime(df['Date_of_Hire'])\n",
      "/var/folders/4s/ssj6hqrx2pd25m6n5s48w37h0000gn/T/ipykernel_1052/1583702905.py:3: UserWarning: Parsing '20-03-2018' in DD/MM/YYYY format. Provide format or specify infer_datetime_format=True for consistent parsing.\n",
      "  df['Date_of_Hire'] = pd.to_datetime(df['Date_of_Hire'])\n",
      "/var/folders/4s/ssj6hqrx2pd25m6n5s48w37h0000gn/T/ipykernel_1052/1583702905.py:3: UserWarning: Parsing '24-02-2018' in DD/MM/YYYY format. Provide format or specify infer_datetime_format=True for consistent parsing.\n",
      "  df['Date_of_Hire'] = pd.to_datetime(df['Date_of_Hire'])\n",
      "/var/folders/4s/ssj6hqrx2pd25m6n5s48w37h0000gn/T/ipykernel_1052/1583702905.py:3: UserWarning: Parsing '20-05-2018' in DD/MM/YYYY format. Provide format or specify infer_datetime_format=True for consistent parsing.\n",
      "  df['Date_of_Hire'] = pd.to_datetime(df['Date_of_Hire'])\n",
      "/var/folders/4s/ssj6hqrx2pd25m6n5s48w37h0000gn/T/ipykernel_1052/1583702905.py:3: UserWarning: Parsing '23-06-2018' in DD/MM/YYYY format. Provide format or specify infer_datetime_format=True for consistent parsing.\n",
      "  df['Date_of_Hire'] = pd.to_datetime(df['Date_of_Hire'])\n",
      "/var/folders/4s/ssj6hqrx2pd25m6n5s48w37h0000gn/T/ipykernel_1052/1583702905.py:3: UserWarning: Parsing '26-03-2018' in DD/MM/YYYY format. Provide format or specify infer_datetime_format=True for consistent parsing.\n",
      "  df['Date_of_Hire'] = pd.to_datetime(df['Date_of_Hire'])\n",
      "/var/folders/4s/ssj6hqrx2pd25m6n5s48w37h0000gn/T/ipykernel_1052/1583702905.py:3: UserWarning: Parsing '20-04-2018' in DD/MM/YYYY format. Provide format or specify infer_datetime_format=True for consistent parsing.\n",
      "  df['Date_of_Hire'] = pd.to_datetime(df['Date_of_Hire'])\n",
      "/var/folders/4s/ssj6hqrx2pd25m6n5s48w37h0000gn/T/ipykernel_1052/1583702905.py:3: UserWarning: Parsing '16-05-2018' in DD/MM/YYYY format. Provide format or specify infer_datetime_format=True for consistent parsing.\n",
      "  df['Date_of_Hire'] = pd.to_datetime(df['Date_of_Hire'])\n",
      "/var/folders/4s/ssj6hqrx2pd25m6n5s48w37h0000gn/T/ipykernel_1052/1583702905.py:3: UserWarning: Parsing '22-02-2018' in DD/MM/YYYY format. Provide format or specify infer_datetime_format=True for consistent parsing.\n",
      "  df['Date_of_Hire'] = pd.to_datetime(df['Date_of_Hire'])\n",
      "/var/folders/4s/ssj6hqrx2pd25m6n5s48w37h0000gn/T/ipykernel_1052/1583702905.py:3: UserWarning: Parsing '27-03-2018' in DD/MM/YYYY format. Provide format or specify infer_datetime_format=True for consistent parsing.\n",
      "  df['Date_of_Hire'] = pd.to_datetime(df['Date_of_Hire'])\n",
      "/var/folders/4s/ssj6hqrx2pd25m6n5s48w37h0000gn/T/ipykernel_1052/1583702905.py:3: UserWarning: Parsing '29-05-2018' in DD/MM/YYYY format. Provide format or specify infer_datetime_format=True for consistent parsing.\n",
      "  df['Date_of_Hire'] = pd.to_datetime(df['Date_of_Hire'])\n",
      "/var/folders/4s/ssj6hqrx2pd25m6n5s48w37h0000gn/T/ipykernel_1052/1583702905.py:3: UserWarning: Parsing '23-02-2018' in DD/MM/YYYY format. Provide format or specify infer_datetime_format=True for consistent parsing.\n",
      "  df['Date_of_Hire'] = pd.to_datetime(df['Date_of_Hire'])\n",
      "/var/folders/4s/ssj6hqrx2pd25m6n5s48w37h0000gn/T/ipykernel_1052/1583702905.py:3: UserWarning: Parsing '14-04-2018' in DD/MM/YYYY format. Provide format or specify infer_datetime_format=True for consistent parsing.\n",
      "  df['Date_of_Hire'] = pd.to_datetime(df['Date_of_Hire'])\n",
      "/var/folders/4s/ssj6hqrx2pd25m6n5s48w37h0000gn/T/ipykernel_1052/1583702905.py:3: UserWarning: Parsing '28-04-2018' in DD/MM/YYYY format. Provide format or specify infer_datetime_format=True for consistent parsing.\n",
      "  df['Date_of_Hire'] = pd.to_datetime(df['Date_of_Hire'])\n",
      "/var/folders/4s/ssj6hqrx2pd25m6n5s48w37h0000gn/T/ipykernel_1052/1583702905.py:3: UserWarning: Parsing '22-01-2018' in DD/MM/YYYY format. Provide format or specify infer_datetime_format=True for consistent parsing.\n",
      "  df['Date_of_Hire'] = pd.to_datetime(df['Date_of_Hire'])\n",
      "/var/folders/4s/ssj6hqrx2pd25m6n5s48w37h0000gn/T/ipykernel_1052/1583702905.py:3: UserWarning: Parsing '17-06-2018' in DD/MM/YYYY format. Provide format or specify infer_datetime_format=True for consistent parsing.\n",
      "  df['Date_of_Hire'] = pd.to_datetime(df['Date_of_Hire'])\n",
      "/var/folders/4s/ssj6hqrx2pd25m6n5s48w37h0000gn/T/ipykernel_1052/1583702905.py:3: UserWarning: Parsing '30-06-2018' in DD/MM/YYYY format. Provide format or specify infer_datetime_format=True for consistent parsing.\n",
      "  df['Date_of_Hire'] = pd.to_datetime(df['Date_of_Hire'])\n",
      "/var/folders/4s/ssj6hqrx2pd25m6n5s48w37h0000gn/T/ipykernel_1052/1583702905.py:3: UserWarning: Parsing '30-01-2018' in DD/MM/YYYY format. Provide format or specify infer_datetime_format=True for consistent parsing.\n",
      "  df['Date_of_Hire'] = pd.to_datetime(df['Date_of_Hire'])\n",
      "/var/folders/4s/ssj6hqrx2pd25m6n5s48w37h0000gn/T/ipykernel_1052/1583702905.py:3: UserWarning: Parsing '30-03-2018' in DD/MM/YYYY format. Provide format or specify infer_datetime_format=True for consistent parsing.\n",
      "  df['Date_of_Hire'] = pd.to_datetime(df['Date_of_Hire'])\n",
      "/var/folders/4s/ssj6hqrx2pd25m6n5s48w37h0000gn/T/ipykernel_1052/1583702905.py:3: UserWarning: Parsing '14-06-2018' in DD/MM/YYYY format. Provide format or specify infer_datetime_format=True for consistent parsing.\n",
      "  df['Date_of_Hire'] = pd.to_datetime(df['Date_of_Hire'])\n",
      "/var/folders/4s/ssj6hqrx2pd25m6n5s48w37h0000gn/T/ipykernel_1052/1583702905.py:3: UserWarning: Parsing '25-02-2018' in DD/MM/YYYY format. Provide format or specify infer_datetime_format=True for consistent parsing.\n",
      "  df['Date_of_Hire'] = pd.to_datetime(df['Date_of_Hire'])\n",
      "/var/folders/4s/ssj6hqrx2pd25m6n5s48w37h0000gn/T/ipykernel_1052/1583702905.py:3: UserWarning: Parsing '18-04-2018' in DD/MM/YYYY format. Provide format or specify infer_datetime_format=True for consistent parsing.\n",
      "  df['Date_of_Hire'] = pd.to_datetime(df['Date_of_Hire'])\n",
      "/var/folders/4s/ssj6hqrx2pd25m6n5s48w37h0000gn/T/ipykernel_1052/1583702905.py:3: UserWarning: Parsing '20-02-2018' in DD/MM/YYYY format. Provide format or specify infer_datetime_format=True for consistent parsing.\n",
      "  df['Date_of_Hire'] = pd.to_datetime(df['Date_of_Hire'])\n",
      "/var/folders/4s/ssj6hqrx2pd25m6n5s48w37h0000gn/T/ipykernel_1052/1583702905.py:3: UserWarning: Parsing '24-03-2018' in DD/MM/YYYY format. Provide format or specify infer_datetime_format=True for consistent parsing.\n",
      "  df['Date_of_Hire'] = pd.to_datetime(df['Date_of_Hire'])\n",
      "/var/folders/4s/ssj6hqrx2pd25m6n5s48w37h0000gn/T/ipykernel_1052/1583702905.py:3: UserWarning: Parsing '16-01-2018' in DD/MM/YYYY format. Provide format or specify infer_datetime_format=True for consistent parsing.\n",
      "  df['Date_of_Hire'] = pd.to_datetime(df['Date_of_Hire'])\n",
      "/var/folders/4s/ssj6hqrx2pd25m6n5s48w37h0000gn/T/ipykernel_1052/1583702905.py:3: UserWarning: Parsing '18-05-2018' in DD/MM/YYYY format. Provide format or specify infer_datetime_format=True for consistent parsing.\n",
      "  df['Date_of_Hire'] = pd.to_datetime(df['Date_of_Hire'])\n",
      "/var/folders/4s/ssj6hqrx2pd25m6n5s48w37h0000gn/T/ipykernel_1052/1583702905.py:3: UserWarning: Parsing '29-03-2018' in DD/MM/YYYY format. Provide format or specify infer_datetime_format=True for consistent parsing.\n",
      "  df['Date_of_Hire'] = pd.to_datetime(df['Date_of_Hire'])\n",
      "/var/folders/4s/ssj6hqrx2pd25m6n5s48w37h0000gn/T/ipykernel_1052/1583702905.py:3: UserWarning: Parsing '14-03-2018' in DD/MM/YYYY format. Provide format or specify infer_datetime_format=True for consistent parsing.\n",
      "  df['Date_of_Hire'] = pd.to_datetime(df['Date_of_Hire'])\n",
      "/var/folders/4s/ssj6hqrx2pd25m6n5s48w37h0000gn/T/ipykernel_1052/1583702905.py:3: UserWarning: Parsing '27-02-2018' in DD/MM/YYYY format. Provide format or specify infer_datetime_format=True for consistent parsing.\n",
      "  df['Date_of_Hire'] = pd.to_datetime(df['Date_of_Hire'])\n",
      "/var/folders/4s/ssj6hqrx2pd25m6n5s48w37h0000gn/T/ipykernel_1052/1583702905.py:3: UserWarning: Parsing '17-03-2018' in DD/MM/YYYY format. Provide format or specify infer_datetime_format=True for consistent parsing.\n",
      "  df['Date_of_Hire'] = pd.to_datetime(df['Date_of_Hire'])\n",
      "/var/folders/4s/ssj6hqrx2pd25m6n5s48w37h0000gn/T/ipykernel_1052/1583702905.py:3: UserWarning: Parsing '19-06-2018' in DD/MM/YYYY format. Provide format or specify infer_datetime_format=True for consistent parsing.\n",
      "  df['Date_of_Hire'] = pd.to_datetime(df['Date_of_Hire'])\n",
      "/var/folders/4s/ssj6hqrx2pd25m6n5s48w37h0000gn/T/ipykernel_1052/1583702905.py:3: UserWarning: Parsing '21-05-2018' in DD/MM/YYYY format. Provide format or specify infer_datetime_format=True for consistent parsing.\n",
      "  df['Date_of_Hire'] = pd.to_datetime(df['Date_of_Hire'])\n",
      "/var/folders/4s/ssj6hqrx2pd25m6n5s48w37h0000gn/T/ipykernel_1052/1583702905.py:3: UserWarning: Parsing '21-04-2018' in DD/MM/YYYY format. Provide format or specify infer_datetime_format=True for consistent parsing.\n",
      "  df['Date_of_Hire'] = pd.to_datetime(df['Date_of_Hire'])\n",
      "/var/folders/4s/ssj6hqrx2pd25m6n5s48w37h0000gn/T/ipykernel_1052/1583702905.py:3: UserWarning: Parsing '26-05-2018' in DD/MM/YYYY format. Provide format or specify infer_datetime_format=True for consistent parsing.\n",
      "  df['Date_of_Hire'] = pd.to_datetime(df['Date_of_Hire'])\n",
      "/var/folders/4s/ssj6hqrx2pd25m6n5s48w37h0000gn/T/ipykernel_1052/1583702905.py:3: UserWarning: Parsing '28-01-2018' in DD/MM/YYYY format. Provide format or specify infer_datetime_format=True for consistent parsing.\n",
      "  df['Date_of_Hire'] = pd.to_datetime(df['Date_of_Hire'])\n",
      "/var/folders/4s/ssj6hqrx2pd25m6n5s48w37h0000gn/T/ipykernel_1052/1583702905.py:3: UserWarning: Parsing '16-03-2018' in DD/MM/YYYY format. Provide format or specify infer_datetime_format=True for consistent parsing.\n",
      "  df['Date_of_Hire'] = pd.to_datetime(df['Date_of_Hire'])\n",
      "/var/folders/4s/ssj6hqrx2pd25m6n5s48w37h0000gn/T/ipykernel_1052/1583702905.py:3: UserWarning: Parsing '15-05-2017' in DD/MM/YYYY format. Provide format or specify infer_datetime_format=True for consistent parsing.\n",
      "  df['Date_of_Hire'] = pd.to_datetime(df['Date_of_Hire'])\n",
      "/var/folders/4s/ssj6hqrx2pd25m6n5s48w37h0000gn/T/ipykernel_1052/1583702905.py:3: UserWarning: Parsing '29-01-2017' in DD/MM/YYYY format. Provide format or specify infer_datetime_format=True for consistent parsing.\n",
      "  df['Date_of_Hire'] = pd.to_datetime(df['Date_of_Hire'])\n",
      "/var/folders/4s/ssj6hqrx2pd25m6n5s48w37h0000gn/T/ipykernel_1052/1583702905.py:3: UserWarning: Parsing '27-06-2017' in DD/MM/YYYY format. Provide format or specify infer_datetime_format=True for consistent parsing.\n",
      "  df['Date_of_Hire'] = pd.to_datetime(df['Date_of_Hire'])\n",
      "/var/folders/4s/ssj6hqrx2pd25m6n5s48w37h0000gn/T/ipykernel_1052/1583702905.py:3: UserWarning: Parsing '22-05-2017' in DD/MM/YYYY format. Provide format or specify infer_datetime_format=True for consistent parsing.\n",
      "  df['Date_of_Hire'] = pd.to_datetime(df['Date_of_Hire'])\n",
      "/var/folders/4s/ssj6hqrx2pd25m6n5s48w37h0000gn/T/ipykernel_1052/1583702905.py:3: UserWarning: Parsing '27-02-2017' in DD/MM/YYYY format. Provide format or specify infer_datetime_format=True for consistent parsing.\n",
      "  df['Date_of_Hire'] = pd.to_datetime(df['Date_of_Hire'])\n",
      "/var/folders/4s/ssj6hqrx2pd25m6n5s48w37h0000gn/T/ipykernel_1052/1583702905.py:3: UserWarning: Parsing '16-02-2017' in DD/MM/YYYY format. Provide format or specify infer_datetime_format=True for consistent parsing.\n",
      "  df['Date_of_Hire'] = pd.to_datetime(df['Date_of_Hire'])\n",
      "/var/folders/4s/ssj6hqrx2pd25m6n5s48w37h0000gn/T/ipykernel_1052/1583702905.py:3: UserWarning: Parsing '23-04-2017' in DD/MM/YYYY format. Provide format or specify infer_datetime_format=True for consistent parsing.\n",
      "  df['Date_of_Hire'] = pd.to_datetime(df['Date_of_Hire'])\n",
      "/var/folders/4s/ssj6hqrx2pd25m6n5s48w37h0000gn/T/ipykernel_1052/1583702905.py:3: UserWarning: Parsing '21-05-2017' in DD/MM/YYYY format. Provide format or specify infer_datetime_format=True for consistent parsing.\n",
      "  df['Date_of_Hire'] = pd.to_datetime(df['Date_of_Hire'])\n",
      "/var/folders/4s/ssj6hqrx2pd25m6n5s48w37h0000gn/T/ipykernel_1052/1583702905.py:3: UserWarning: Parsing '22-02-2017' in DD/MM/YYYY format. Provide format or specify infer_datetime_format=True for consistent parsing.\n",
      "  df['Date_of_Hire'] = pd.to_datetime(df['Date_of_Hire'])\n",
      "/var/folders/4s/ssj6hqrx2pd25m6n5s48w37h0000gn/T/ipykernel_1052/1583702905.py:3: UserWarning: Parsing '17-02-2017' in DD/MM/YYYY format. Provide format or specify infer_datetime_format=True for consistent parsing.\n",
      "  df['Date_of_Hire'] = pd.to_datetime(df['Date_of_Hire'])\n",
      "/var/folders/4s/ssj6hqrx2pd25m6n5s48w37h0000gn/T/ipykernel_1052/1583702905.py:3: UserWarning: Parsing '28-02-2017' in DD/MM/YYYY format. Provide format or specify infer_datetime_format=True for consistent parsing.\n",
      "  df['Date_of_Hire'] = pd.to_datetime(df['Date_of_Hire'])\n",
      "/var/folders/4s/ssj6hqrx2pd25m6n5s48w37h0000gn/T/ipykernel_1052/1583702905.py:3: UserWarning: Parsing '21-03-2017' in DD/MM/YYYY format. Provide format or specify infer_datetime_format=True for consistent parsing.\n",
      "  df['Date_of_Hire'] = pd.to_datetime(df['Date_of_Hire'])\n",
      "/var/folders/4s/ssj6hqrx2pd25m6n5s48w37h0000gn/T/ipykernel_1052/1583702905.py:3: UserWarning: Parsing '24-04-2017' in DD/MM/YYYY format. Provide format or specify infer_datetime_format=True for consistent parsing.\n",
      "  df['Date_of_Hire'] = pd.to_datetime(df['Date_of_Hire'])\n",
      "/var/folders/4s/ssj6hqrx2pd25m6n5s48w37h0000gn/T/ipykernel_1052/1583702905.py:3: UserWarning: Parsing '29-04-2017' in DD/MM/YYYY format. Provide format or specify infer_datetime_format=True for consistent parsing.\n",
      "  df['Date_of_Hire'] = pd.to_datetime(df['Date_of_Hire'])\n",
      "/var/folders/4s/ssj6hqrx2pd25m6n5s48w37h0000gn/T/ipykernel_1052/1583702905.py:3: UserWarning: Parsing '22-04-2017' in DD/MM/YYYY format. Provide format or specify infer_datetime_format=True for consistent parsing.\n",
      "  df['Date_of_Hire'] = pd.to_datetime(df['Date_of_Hire'])\n",
      "/var/folders/4s/ssj6hqrx2pd25m6n5s48w37h0000gn/T/ipykernel_1052/1583702905.py:3: UserWarning: Parsing '14-06-2017' in DD/MM/YYYY format. Provide format or specify infer_datetime_format=True for consistent parsing.\n",
      "  df['Date_of_Hire'] = pd.to_datetime(df['Date_of_Hire'])\n",
      "/var/folders/4s/ssj6hqrx2pd25m6n5s48w37h0000gn/T/ipykernel_1052/1583702905.py:3: UserWarning: Parsing '25-05-2017' in DD/MM/YYYY format. Provide format or specify infer_datetime_format=True for consistent parsing.\n",
      "  df['Date_of_Hire'] = pd.to_datetime(df['Date_of_Hire'])\n",
      "/var/folders/4s/ssj6hqrx2pd25m6n5s48w37h0000gn/T/ipykernel_1052/1583702905.py:3: UserWarning: Parsing '24-02-2017' in DD/MM/YYYY format. Provide format or specify infer_datetime_format=True for consistent parsing.\n",
      "  df['Date_of_Hire'] = pd.to_datetime(df['Date_of_Hire'])\n",
      "/var/folders/4s/ssj6hqrx2pd25m6n5s48w37h0000gn/T/ipykernel_1052/1583702905.py:3: UserWarning: Parsing '15-06-2017' in DD/MM/YYYY format. Provide format or specify infer_datetime_format=True for consistent parsing.\n",
      "  df['Date_of_Hire'] = pd.to_datetime(df['Date_of_Hire'])\n",
      "/var/folders/4s/ssj6hqrx2pd25m6n5s48w37h0000gn/T/ipykernel_1052/1583702905.py:3: UserWarning: Parsing '16-03-2017' in DD/MM/YYYY format. Provide format or specify infer_datetime_format=True for consistent parsing.\n",
      "  df['Date_of_Hire'] = pd.to_datetime(df['Date_of_Hire'])\n",
      "/var/folders/4s/ssj6hqrx2pd25m6n5s48w37h0000gn/T/ipykernel_1052/1583702905.py:3: UserWarning: Parsing '13-05-2017' in DD/MM/YYYY format. Provide format or specify infer_datetime_format=True for consistent parsing.\n",
      "  df['Date_of_Hire'] = pd.to_datetime(df['Date_of_Hire'])\n",
      "/var/folders/4s/ssj6hqrx2pd25m6n5s48w37h0000gn/T/ipykernel_1052/1583702905.py:3: UserWarning: Parsing '24-01-2017' in DD/MM/YYYY format. Provide format or specify infer_datetime_format=True for consistent parsing.\n",
      "  df['Date_of_Hire'] = pd.to_datetime(df['Date_of_Hire'])\n",
      "/var/folders/4s/ssj6hqrx2pd25m6n5s48w37h0000gn/T/ipykernel_1052/1583702905.py:3: UserWarning: Parsing '14-05-2017' in DD/MM/YYYY format. Provide format or specify infer_datetime_format=True for consistent parsing.\n",
      "  df['Date_of_Hire'] = pd.to_datetime(df['Date_of_Hire'])\n",
      "/var/folders/4s/ssj6hqrx2pd25m6n5s48w37h0000gn/T/ipykernel_1052/1583702905.py:3: UserWarning: Parsing '18-03-2017' in DD/MM/YYYY format. Provide format or specify infer_datetime_format=True for consistent parsing.\n",
      "  df['Date_of_Hire'] = pd.to_datetime(df['Date_of_Hire'])\n",
      "/var/folders/4s/ssj6hqrx2pd25m6n5s48w37h0000gn/T/ipykernel_1052/1583702905.py:3: UserWarning: Parsing '25-04-2017' in DD/MM/YYYY format. Provide format or specify infer_datetime_format=True for consistent parsing.\n",
      "  df['Date_of_Hire'] = pd.to_datetime(df['Date_of_Hire'])\n",
      "/var/folders/4s/ssj6hqrx2pd25m6n5s48w37h0000gn/T/ipykernel_1052/1583702905.py:3: UserWarning: Parsing '29-05-2017' in DD/MM/YYYY format. Provide format or specify infer_datetime_format=True for consistent parsing.\n",
      "  df['Date_of_Hire'] = pd.to_datetime(df['Date_of_Hire'])\n",
      "/var/folders/4s/ssj6hqrx2pd25m6n5s48w37h0000gn/T/ipykernel_1052/1583702905.py:3: UserWarning: Parsing '22-01-2017' in DD/MM/YYYY format. Provide format or specify infer_datetime_format=True for consistent parsing.\n",
      "  df['Date_of_Hire'] = pd.to_datetime(df['Date_of_Hire'])\n",
      "/var/folders/4s/ssj6hqrx2pd25m6n5s48w37h0000gn/T/ipykernel_1052/1583702905.py:3: UserWarning: Parsing '15-02-2017' in DD/MM/YYYY format. Provide format or specify infer_datetime_format=True for consistent parsing.\n",
      "  df['Date_of_Hire'] = pd.to_datetime(df['Date_of_Hire'])\n",
      "/var/folders/4s/ssj6hqrx2pd25m6n5s48w37h0000gn/T/ipykernel_1052/1583702905.py:3: UserWarning: Parsing '20-01-2017' in DD/MM/YYYY format. Provide format or specify infer_datetime_format=True for consistent parsing.\n",
      "  df['Date_of_Hire'] = pd.to_datetime(df['Date_of_Hire'])\n",
      "/var/folders/4s/ssj6hqrx2pd25m6n5s48w37h0000gn/T/ipykernel_1052/1583702905.py:3: UserWarning: Parsing '29-06-2017' in DD/MM/YYYY format. Provide format or specify infer_datetime_format=True for consistent parsing.\n",
      "  df['Date_of_Hire'] = pd.to_datetime(df['Date_of_Hire'])\n",
      "/var/folders/4s/ssj6hqrx2pd25m6n5s48w37h0000gn/T/ipykernel_1052/1583702905.py:3: UserWarning: Parsing '20-03-2017' in DD/MM/YYYY format. Provide format or specify infer_datetime_format=True for consistent parsing.\n",
      "  df['Date_of_Hire'] = pd.to_datetime(df['Date_of_Hire'])\n",
      "/var/folders/4s/ssj6hqrx2pd25m6n5s48w37h0000gn/T/ipykernel_1052/1583702905.py:3: UserWarning: Parsing '17-01-2017' in DD/MM/YYYY format. Provide format or specify infer_datetime_format=True for consistent parsing.\n",
      "  df['Date_of_Hire'] = pd.to_datetime(df['Date_of_Hire'])\n",
      "/var/folders/4s/ssj6hqrx2pd25m6n5s48w37h0000gn/T/ipykernel_1052/1583702905.py:3: UserWarning: Parsing '24-05-2017' in DD/MM/YYYY format. Provide format or specify infer_datetime_format=True for consistent parsing.\n",
      "  df['Date_of_Hire'] = pd.to_datetime(df['Date_of_Hire'])\n",
      "/var/folders/4s/ssj6hqrx2pd25m6n5s48w37h0000gn/T/ipykernel_1052/1583702905.py:3: UserWarning: Parsing '27-03-2017' in DD/MM/YYYY format. Provide format or specify infer_datetime_format=True for consistent parsing.\n",
      "  df['Date_of_Hire'] = pd.to_datetime(df['Date_of_Hire'])\n",
      "/var/folders/4s/ssj6hqrx2pd25m6n5s48w37h0000gn/T/ipykernel_1052/1583702905.py:3: UserWarning: Parsing '17-05-2017' in DD/MM/YYYY format. Provide format or specify infer_datetime_format=True for consistent parsing.\n",
      "  df['Date_of_Hire'] = pd.to_datetime(df['Date_of_Hire'])\n",
      "/var/folders/4s/ssj6hqrx2pd25m6n5s48w37h0000gn/T/ipykernel_1052/1583702905.py:3: UserWarning: Parsing '16-01-2017' in DD/MM/YYYY format. Provide format or specify infer_datetime_format=True for consistent parsing.\n",
      "  df['Date_of_Hire'] = pd.to_datetime(df['Date_of_Hire'])\n",
      "/var/folders/4s/ssj6hqrx2pd25m6n5s48w37h0000gn/T/ipykernel_1052/1583702905.py:3: UserWarning: Parsing '23-06-2017' in DD/MM/YYYY format. Provide format or specify infer_datetime_format=True for consistent parsing.\n",
      "  df['Date_of_Hire'] = pd.to_datetime(df['Date_of_Hire'])\n",
      "/var/folders/4s/ssj6hqrx2pd25m6n5s48w37h0000gn/T/ipykernel_1052/1583702905.py:3: UserWarning: Parsing '24-03-2017' in DD/MM/YYYY format. Provide format or specify infer_datetime_format=True for consistent parsing.\n",
      "  df['Date_of_Hire'] = pd.to_datetime(df['Date_of_Hire'])\n",
      "/var/folders/4s/ssj6hqrx2pd25m6n5s48w37h0000gn/T/ipykernel_1052/1583702905.py:3: UserWarning: Parsing '18-05-2017' in DD/MM/YYYY format. Provide format or specify infer_datetime_format=True for consistent parsing.\n",
      "  df['Date_of_Hire'] = pd.to_datetime(df['Date_of_Hire'])\n",
      "/var/folders/4s/ssj6hqrx2pd25m6n5s48w37h0000gn/T/ipykernel_1052/1583702905.py:3: UserWarning: Parsing '25-02-2017' in DD/MM/YYYY format. Provide format or specify infer_datetime_format=True for consistent parsing.\n",
      "  df['Date_of_Hire'] = pd.to_datetime(df['Date_of_Hire'])\n",
      "/var/folders/4s/ssj6hqrx2pd25m6n5s48w37h0000gn/T/ipykernel_1052/1583702905.py:3: UserWarning: Parsing '13-03-2017' in DD/MM/YYYY format. Provide format or specify infer_datetime_format=True for consistent parsing.\n",
      "  df['Date_of_Hire'] = pd.to_datetime(df['Date_of_Hire'])\n",
      "/var/folders/4s/ssj6hqrx2pd25m6n5s48w37h0000gn/T/ipykernel_1052/1583702905.py:3: UserWarning: Parsing '21-04-2017' in DD/MM/YYYY format. Provide format or specify infer_datetime_format=True for consistent parsing.\n",
      "  df['Date_of_Hire'] = pd.to_datetime(df['Date_of_Hire'])\n",
      "/var/folders/4s/ssj6hqrx2pd25m6n5s48w37h0000gn/T/ipykernel_1052/1583702905.py:3: UserWarning: Parsing '24-06-2017' in DD/MM/YYYY format. Provide format or specify infer_datetime_format=True for consistent parsing.\n",
      "  df['Date_of_Hire'] = pd.to_datetime(df['Date_of_Hire'])\n",
      "/var/folders/4s/ssj6hqrx2pd25m6n5s48w37h0000gn/T/ipykernel_1052/1583702905.py:3: UserWarning: Parsing '26-03-2017' in DD/MM/YYYY format. Provide format or specify infer_datetime_format=True for consistent parsing.\n",
      "  df['Date_of_Hire'] = pd.to_datetime(df['Date_of_Hire'])\n",
      "/var/folders/4s/ssj6hqrx2pd25m6n5s48w37h0000gn/T/ipykernel_1052/1583702905.py:3: UserWarning: Parsing '30-06-2017' in DD/MM/YYYY format. Provide format or specify infer_datetime_format=True for consistent parsing.\n",
      "  df['Date_of_Hire'] = pd.to_datetime(df['Date_of_Hire'])\n",
      "/var/folders/4s/ssj6hqrx2pd25m6n5s48w37h0000gn/T/ipykernel_1052/1583702905.py:3: UserWarning: Parsing '25-03-2017' in DD/MM/YYYY format. Provide format or specify infer_datetime_format=True for consistent parsing.\n",
      "  df['Date_of_Hire'] = pd.to_datetime(df['Date_of_Hire'])\n",
      "/var/folders/4s/ssj6hqrx2pd25m6n5s48w37h0000gn/T/ipykernel_1052/1583702905.py:3: UserWarning: Parsing '14-01-2017' in DD/MM/YYYY format. Provide format or specify infer_datetime_format=True for consistent parsing.\n",
      "  df['Date_of_Hire'] = pd.to_datetime(df['Date_of_Hire'])\n",
      "/var/folders/4s/ssj6hqrx2pd25m6n5s48w37h0000gn/T/ipykernel_1052/1583702905.py:3: UserWarning: Parsing '31-01-2017' in DD/MM/YYYY format. Provide format or specify infer_datetime_format=True for consistent parsing.\n",
      "  df['Date_of_Hire'] = pd.to_datetime(df['Date_of_Hire'])\n",
      "/var/folders/4s/ssj6hqrx2pd25m6n5s48w37h0000gn/T/ipykernel_1052/1583702905.py:3: UserWarning: Parsing '13-04-2016' in DD/MM/YYYY format. Provide format or specify infer_datetime_format=True for consistent parsing.\n",
      "  df['Date_of_Hire'] = pd.to_datetime(df['Date_of_Hire'])\n",
      "/var/folders/4s/ssj6hqrx2pd25m6n5s48w37h0000gn/T/ipykernel_1052/1583702905.py:3: UserWarning: Parsing '18-06-2016' in DD/MM/YYYY format. Provide format or specify infer_datetime_format=True for consistent parsing.\n",
      "  df['Date_of_Hire'] = pd.to_datetime(df['Date_of_Hire'])\n",
      "/var/folders/4s/ssj6hqrx2pd25m6n5s48w37h0000gn/T/ipykernel_1052/1583702905.py:3: UserWarning: Parsing '17-02-2016' in DD/MM/YYYY format. Provide format or specify infer_datetime_format=True for consistent parsing.\n",
      "  df['Date_of_Hire'] = pd.to_datetime(df['Date_of_Hire'])\n",
      "/var/folders/4s/ssj6hqrx2pd25m6n5s48w37h0000gn/T/ipykernel_1052/1583702905.py:3: UserWarning: Parsing '24-03-2016' in DD/MM/YYYY format. Provide format or specify infer_datetime_format=True for consistent parsing.\n",
      "  df['Date_of_Hire'] = pd.to_datetime(df['Date_of_Hire'])\n",
      "/var/folders/4s/ssj6hqrx2pd25m6n5s48w37h0000gn/T/ipykernel_1052/1583702905.py:3: UserWarning: Parsing '25-02-2016' in DD/MM/YYYY format. Provide format or specify infer_datetime_format=True for consistent parsing.\n",
      "  df['Date_of_Hire'] = pd.to_datetime(df['Date_of_Hire'])\n",
      "/var/folders/4s/ssj6hqrx2pd25m6n5s48w37h0000gn/T/ipykernel_1052/1583702905.py:3: UserWarning: Parsing '29-04-2016' in DD/MM/YYYY format. Provide format or specify infer_datetime_format=True for consistent parsing.\n",
      "  df['Date_of_Hire'] = pd.to_datetime(df['Date_of_Hire'])\n",
      "/var/folders/4s/ssj6hqrx2pd25m6n5s48w37h0000gn/T/ipykernel_1052/1583702905.py:3: UserWarning: Parsing '23-06-2016' in DD/MM/YYYY format. Provide format or specify infer_datetime_format=True for consistent parsing.\n",
      "  df['Date_of_Hire'] = pd.to_datetime(df['Date_of_Hire'])\n",
      "/var/folders/4s/ssj6hqrx2pd25m6n5s48w37h0000gn/T/ipykernel_1052/1583702905.py:3: UserWarning: Parsing '14-06-2016' in DD/MM/YYYY format. Provide format or specify infer_datetime_format=True for consistent parsing.\n",
      "  df['Date_of_Hire'] = pd.to_datetime(df['Date_of_Hire'])\n",
      "/var/folders/4s/ssj6hqrx2pd25m6n5s48w37h0000gn/T/ipykernel_1052/1583702905.py:3: UserWarning: Parsing '17-04-2016' in DD/MM/YYYY format. Provide format or specify infer_datetime_format=True for consistent parsing.\n",
      "  df['Date_of_Hire'] = pd.to_datetime(df['Date_of_Hire'])\n",
      "/var/folders/4s/ssj6hqrx2pd25m6n5s48w37h0000gn/T/ipykernel_1052/1583702905.py:3: UserWarning: Parsing '17-01-2016' in DD/MM/YYYY format. Provide format or specify infer_datetime_format=True for consistent parsing.\n",
      "  df['Date_of_Hire'] = pd.to_datetime(df['Date_of_Hire'])\n",
      "/var/folders/4s/ssj6hqrx2pd25m6n5s48w37h0000gn/T/ipykernel_1052/1583702905.py:3: UserWarning: Parsing '23-02-2016' in DD/MM/YYYY format. Provide format or specify infer_datetime_format=True for consistent parsing.\n",
      "  df['Date_of_Hire'] = pd.to_datetime(df['Date_of_Hire'])\n",
      "/var/folders/4s/ssj6hqrx2pd25m6n5s48w37h0000gn/T/ipykernel_1052/1583702905.py:3: UserWarning: Parsing '22-02-2016' in DD/MM/YYYY format. Provide format or specify infer_datetime_format=True for consistent parsing.\n",
      "  df['Date_of_Hire'] = pd.to_datetime(df['Date_of_Hire'])\n",
      "/var/folders/4s/ssj6hqrx2pd25m6n5s48w37h0000gn/T/ipykernel_1052/1583702905.py:3: UserWarning: Parsing '20-04-2016' in DD/MM/YYYY format. Provide format or specify infer_datetime_format=True for consistent parsing.\n",
      "  df['Date_of_Hire'] = pd.to_datetime(df['Date_of_Hire'])\n",
      "/var/folders/4s/ssj6hqrx2pd25m6n5s48w37h0000gn/T/ipykernel_1052/1583702905.py:3: UserWarning: Parsing '18-05-2016' in DD/MM/YYYY format. Provide format or specify infer_datetime_format=True for consistent parsing.\n",
      "  df['Date_of_Hire'] = pd.to_datetime(df['Date_of_Hire'])\n",
      "/var/folders/4s/ssj6hqrx2pd25m6n5s48w37h0000gn/T/ipykernel_1052/1583702905.py:3: UserWarning: Parsing '22-04-2016' in DD/MM/YYYY format. Provide format or specify infer_datetime_format=True for consistent parsing.\n",
      "  df['Date_of_Hire'] = pd.to_datetime(df['Date_of_Hire'])\n",
      "/var/folders/4s/ssj6hqrx2pd25m6n5s48w37h0000gn/T/ipykernel_1052/1583702905.py:3: UserWarning: Parsing '15-03-2016' in DD/MM/YYYY format. Provide format or specify infer_datetime_format=True for consistent parsing.\n",
      "  df['Date_of_Hire'] = pd.to_datetime(df['Date_of_Hire'])\n",
      "/var/folders/4s/ssj6hqrx2pd25m6n5s48w37h0000gn/T/ipykernel_1052/1583702905.py:3: UserWarning: Parsing '28-01-2016' in DD/MM/YYYY format. Provide format or specify infer_datetime_format=True for consistent parsing.\n",
      "  df['Date_of_Hire'] = pd.to_datetime(df['Date_of_Hire'])\n",
      "/var/folders/4s/ssj6hqrx2pd25m6n5s48w37h0000gn/T/ipykernel_1052/1583702905.py:3: UserWarning: Parsing '13-05-2016' in DD/MM/YYYY format. Provide format or specify infer_datetime_format=True for consistent parsing.\n",
      "  df['Date_of_Hire'] = pd.to_datetime(df['Date_of_Hire'])\n",
      "/var/folders/4s/ssj6hqrx2pd25m6n5s48w37h0000gn/T/ipykernel_1052/1583702905.py:3: UserWarning: Parsing '25-06-2016' in DD/MM/YYYY format. Provide format or specify infer_datetime_format=True for consistent parsing.\n",
      "  df['Date_of_Hire'] = pd.to_datetime(df['Date_of_Hire'])\n",
      "/var/folders/4s/ssj6hqrx2pd25m6n5s48w37h0000gn/T/ipykernel_1052/1583702905.py:3: UserWarning: Parsing '24-05-2016' in DD/MM/YYYY format. Provide format or specify infer_datetime_format=True for consistent parsing.\n",
      "  df['Date_of_Hire'] = pd.to_datetime(df['Date_of_Hire'])\n",
      "/var/folders/4s/ssj6hqrx2pd25m6n5s48w37h0000gn/T/ipykernel_1052/1583702905.py:3: UserWarning: Parsing '28-03-2016' in DD/MM/YYYY format. Provide format or specify infer_datetime_format=True for consistent parsing.\n",
      "  df['Date_of_Hire'] = pd.to_datetime(df['Date_of_Hire'])\n",
      "/var/folders/4s/ssj6hqrx2pd25m6n5s48w37h0000gn/T/ipykernel_1052/1583702905.py:3: UserWarning: Parsing '26-04-2016' in DD/MM/YYYY format. Provide format or specify infer_datetime_format=True for consistent parsing.\n",
      "  df['Date_of_Hire'] = pd.to_datetime(df['Date_of_Hire'])\n",
      "/var/folders/4s/ssj6hqrx2pd25m6n5s48w37h0000gn/T/ipykernel_1052/1583702905.py:3: UserWarning: Parsing '24-02-2016' in DD/MM/YYYY format. Provide format or specify infer_datetime_format=True for consistent parsing.\n",
      "  df['Date_of_Hire'] = pd.to_datetime(df['Date_of_Hire'])\n",
      "/var/folders/4s/ssj6hqrx2pd25m6n5s48w37h0000gn/T/ipykernel_1052/1583702905.py:3: UserWarning: Parsing '18-04-2016' in DD/MM/YYYY format. Provide format or specify infer_datetime_format=True for consistent parsing.\n",
      "  df['Date_of_Hire'] = pd.to_datetime(df['Date_of_Hire'])\n",
      "/var/folders/4s/ssj6hqrx2pd25m6n5s48w37h0000gn/T/ipykernel_1052/1583702905.py:3: UserWarning: Parsing '30-01-2016' in DD/MM/YYYY format. Provide format or specify infer_datetime_format=True for consistent parsing.\n",
      "  df['Date_of_Hire'] = pd.to_datetime(df['Date_of_Hire'])\n",
      "/var/folders/4s/ssj6hqrx2pd25m6n5s48w37h0000gn/T/ipykernel_1052/1583702905.py:3: UserWarning: Parsing '15-01-2016' in DD/MM/YYYY format. Provide format or specify infer_datetime_format=True for consistent parsing.\n",
      "  df['Date_of_Hire'] = pd.to_datetime(df['Date_of_Hire'])\n",
      "/var/folders/4s/ssj6hqrx2pd25m6n5s48w37h0000gn/T/ipykernel_1052/1583702905.py:3: UserWarning: Parsing '27-06-2016' in DD/MM/YYYY format. Provide format or specify infer_datetime_format=True for consistent parsing.\n",
      "  df['Date_of_Hire'] = pd.to_datetime(df['Date_of_Hire'])\n",
      "/var/folders/4s/ssj6hqrx2pd25m6n5s48w37h0000gn/T/ipykernel_1052/1583702905.py:3: UserWarning: Parsing '22-06-2016' in DD/MM/YYYY format. Provide format or specify infer_datetime_format=True for consistent parsing.\n",
      "  df['Date_of_Hire'] = pd.to_datetime(df['Date_of_Hire'])\n",
      "/var/folders/4s/ssj6hqrx2pd25m6n5s48w37h0000gn/T/ipykernel_1052/1583702905.py:3: UserWarning: Parsing '28-05-2016' in DD/MM/YYYY format. Provide format or specify infer_datetime_format=True for consistent parsing.\n",
      "  df['Date_of_Hire'] = pd.to_datetime(df['Date_of_Hire'])\n",
      "/var/folders/4s/ssj6hqrx2pd25m6n5s48w37h0000gn/T/ipykernel_1052/1583702905.py:3: UserWarning: Parsing '27-03-2016' in DD/MM/YYYY format. Provide format or specify infer_datetime_format=True for consistent parsing.\n",
      "  df['Date_of_Hire'] = pd.to_datetime(df['Date_of_Hire'])\n",
      "/var/folders/4s/ssj6hqrx2pd25m6n5s48w37h0000gn/T/ipykernel_1052/1583702905.py:3: UserWarning: Parsing '21-05-2016' in DD/MM/YYYY format. Provide format or specify infer_datetime_format=True for consistent parsing.\n",
      "  df['Date_of_Hire'] = pd.to_datetime(df['Date_of_Hire'])\n",
      "/var/folders/4s/ssj6hqrx2pd25m6n5s48w37h0000gn/T/ipykernel_1052/1583702905.py:3: UserWarning: Parsing '24-04-2016' in DD/MM/YYYY format. Provide format or specify infer_datetime_format=True for consistent parsing.\n",
      "  df['Date_of_Hire'] = pd.to_datetime(df['Date_of_Hire'])\n",
      "/var/folders/4s/ssj6hqrx2pd25m6n5s48w37h0000gn/T/ipykernel_1052/1583702905.py:3: UserWarning: Parsing '27-05-2016' in DD/MM/YYYY format. Provide format or specify infer_datetime_format=True for consistent parsing.\n",
      "  df['Date_of_Hire'] = pd.to_datetime(df['Date_of_Hire'])\n",
      "/var/folders/4s/ssj6hqrx2pd25m6n5s48w37h0000gn/T/ipykernel_1052/1583702905.py:3: UserWarning: Parsing '15-02-2016' in DD/MM/YYYY format. Provide format or specify infer_datetime_format=True for consistent parsing.\n",
      "  df['Date_of_Hire'] = pd.to_datetime(df['Date_of_Hire'])\n",
      "/var/folders/4s/ssj6hqrx2pd25m6n5s48w37h0000gn/T/ipykernel_1052/1583702905.py:3: UserWarning: Parsing '27-01-2016' in DD/MM/YYYY format. Provide format or specify infer_datetime_format=True for consistent parsing.\n",
      "  df['Date_of_Hire'] = pd.to_datetime(df['Date_of_Hire'])\n",
      "/var/folders/4s/ssj6hqrx2pd25m6n5s48w37h0000gn/T/ipykernel_1052/1583702905.py:3: UserWarning: Parsing '22-03-2016' in DD/MM/YYYY format. Provide format or specify infer_datetime_format=True for consistent parsing.\n",
      "  df['Date_of_Hire'] = pd.to_datetime(df['Date_of_Hire'])\n",
      "/var/folders/4s/ssj6hqrx2pd25m6n5s48w37h0000gn/T/ipykernel_1052/1583702905.py:3: UserWarning: Parsing '20-03-2016' in DD/MM/YYYY format. Provide format or specify infer_datetime_format=True for consistent parsing.\n",
      "  df['Date_of_Hire'] = pd.to_datetime(df['Date_of_Hire'])\n",
      "/var/folders/4s/ssj6hqrx2pd25m6n5s48w37h0000gn/T/ipykernel_1052/1583702905.py:3: UserWarning: Parsing '17-05-2016' in DD/MM/YYYY format. Provide format or specify infer_datetime_format=True for consistent parsing.\n",
      "  df['Date_of_Hire'] = pd.to_datetime(df['Date_of_Hire'])\n",
      "/var/folders/4s/ssj6hqrx2pd25m6n5s48w37h0000gn/T/ipykernel_1052/1583702905.py:3: UserWarning: Parsing '14-03-2016' in DD/MM/YYYY format. Provide format or specify infer_datetime_format=True for consistent parsing.\n",
      "  df['Date_of_Hire'] = pd.to_datetime(df['Date_of_Hire'])\n",
      "/var/folders/4s/ssj6hqrx2pd25m6n5s48w37h0000gn/T/ipykernel_1052/1583702905.py:3: UserWarning: Parsing '18-02-2016' in DD/MM/YYYY format. Provide format or specify infer_datetime_format=True for consistent parsing.\n",
      "  df['Date_of_Hire'] = pd.to_datetime(df['Date_of_Hire'])\n",
      "/var/folders/4s/ssj6hqrx2pd25m6n5s48w37h0000gn/T/ipykernel_1052/1583702905.py:3: UserWarning: Parsing '14-01-2016' in DD/MM/YYYY format. Provide format or specify infer_datetime_format=True for consistent parsing.\n",
      "  df['Date_of_Hire'] = pd.to_datetime(df['Date_of_Hire'])\n",
      "/var/folders/4s/ssj6hqrx2pd25m6n5s48w37h0000gn/T/ipykernel_1052/1583702905.py:3: UserWarning: Parsing '16-01-2016' in DD/MM/YYYY format. Provide format or specify infer_datetime_format=True for consistent parsing.\n",
      "  df['Date_of_Hire'] = pd.to_datetime(df['Date_of_Hire'])\n",
      "/var/folders/4s/ssj6hqrx2pd25m6n5s48w37h0000gn/T/ipykernel_1052/1583702905.py:3: UserWarning: Parsing '18-01-2016' in DD/MM/YYYY format. Provide format or specify infer_datetime_format=True for consistent parsing.\n",
      "  df['Date_of_Hire'] = pd.to_datetime(df['Date_of_Hire'])\n",
      "/var/folders/4s/ssj6hqrx2pd25m6n5s48w37h0000gn/T/ipykernel_1052/1583702905.py:3: UserWarning: Parsing '20-02-2016' in DD/MM/YYYY format. Provide format or specify infer_datetime_format=True for consistent parsing.\n",
      "  df['Date_of_Hire'] = pd.to_datetime(df['Date_of_Hire'])\n",
      "/var/folders/4s/ssj6hqrx2pd25m6n5s48w37h0000gn/T/ipykernel_1052/1583702905.py:3: UserWarning: Parsing '31-03-2016' in DD/MM/YYYY format. Provide format or specify infer_datetime_format=True for consistent parsing.\n",
      "  df['Date_of_Hire'] = pd.to_datetime(df['Date_of_Hire'])\n",
      "/var/folders/4s/ssj6hqrx2pd25m6n5s48w37h0000gn/T/ipykernel_1052/1583702905.py:3: UserWarning: Parsing '26-03-2016' in DD/MM/YYYY format. Provide format or specify infer_datetime_format=True for consistent parsing.\n",
      "  df['Date_of_Hire'] = pd.to_datetime(df['Date_of_Hire'])\n",
      "/var/folders/4s/ssj6hqrx2pd25m6n5s48w37h0000gn/T/ipykernel_1052/1583702905.py:3: UserWarning: Parsing '19-04-2016' in DD/MM/YYYY format. Provide format or specify infer_datetime_format=True for consistent parsing.\n",
      "  df['Date_of_Hire'] = pd.to_datetime(df['Date_of_Hire'])\n",
      "/var/folders/4s/ssj6hqrx2pd25m6n5s48w37h0000gn/T/ipykernel_1052/1583702905.py:3: UserWarning: Parsing '21-01-2016' in DD/MM/YYYY format. Provide format or specify infer_datetime_format=True for consistent parsing.\n",
      "  df['Date_of_Hire'] = pd.to_datetime(df['Date_of_Hire'])\n",
      "/var/folders/4s/ssj6hqrx2pd25m6n5s48w37h0000gn/T/ipykernel_1052/1583702905.py:3: UserWarning: Parsing '24-06-2016' in DD/MM/YYYY format. Provide format or specify infer_datetime_format=True for consistent parsing.\n",
      "  df['Date_of_Hire'] = pd.to_datetime(df['Date_of_Hire'])\n",
      "/var/folders/4s/ssj6hqrx2pd25m6n5s48w37h0000gn/T/ipykernel_1052/1583702905.py:3: UserWarning: Parsing '22-05-2016' in DD/MM/YYYY format. Provide format or specify infer_datetime_format=True for consistent parsing.\n",
      "  df['Date_of_Hire'] = pd.to_datetime(df['Date_of_Hire'])\n",
      "/var/folders/4s/ssj6hqrx2pd25m6n5s48w37h0000gn/T/ipykernel_1052/1583702905.py:3: UserWarning: Parsing '31-05-2016' in DD/MM/YYYY format. Provide format or specify infer_datetime_format=True for consistent parsing.\n",
      "  df['Date_of_Hire'] = pd.to_datetime(df['Date_of_Hire'])\n",
      "/var/folders/4s/ssj6hqrx2pd25m6n5s48w37h0000gn/T/ipykernel_1052/1583702905.py:3: UserWarning: Parsing '29-02-2016' in DD/MM/YYYY format. Provide format or specify infer_datetime_format=True for consistent parsing.\n",
      "  df['Date_of_Hire'] = pd.to_datetime(df['Date_of_Hire'])\n",
      "/var/folders/4s/ssj6hqrx2pd25m6n5s48w37h0000gn/T/ipykernel_1052/1583702905.py:3: UserWarning: Parsing '29-05-2016' in DD/MM/YYYY format. Provide format or specify infer_datetime_format=True for consistent parsing.\n",
      "  df['Date_of_Hire'] = pd.to_datetime(df['Date_of_Hire'])\n",
      "/var/folders/4s/ssj6hqrx2pd25m6n5s48w37h0000gn/T/ipykernel_1052/1583702905.py:3: UserWarning: Parsing '30-05-2016' in DD/MM/YYYY format. Provide format or specify infer_datetime_format=True for consistent parsing.\n",
      "  df['Date_of_Hire'] = pd.to_datetime(df['Date_of_Hire'])\n",
      "/var/folders/4s/ssj6hqrx2pd25m6n5s48w37h0000gn/T/ipykernel_1052/1583702905.py:3: UserWarning: Parsing '30-03-2016' in DD/MM/YYYY format. Provide format or specify infer_datetime_format=True for consistent parsing.\n",
      "  df['Date_of_Hire'] = pd.to_datetime(df['Date_of_Hire'])\n",
      "/var/folders/4s/ssj6hqrx2pd25m6n5s48w37h0000gn/T/ipykernel_1052/1583702905.py:3: UserWarning: Parsing '16-02-2016' in DD/MM/YYYY format. Provide format or specify infer_datetime_format=True for consistent parsing.\n",
      "  df['Date_of_Hire'] = pd.to_datetime(df['Date_of_Hire'])\n",
      "/var/folders/4s/ssj6hqrx2pd25m6n5s48w37h0000gn/T/ipykernel_1052/1583702905.py:3: UserWarning: Parsing '23-04-2016' in DD/MM/YYYY format. Provide format or specify infer_datetime_format=True for consistent parsing.\n",
      "  df['Date_of_Hire'] = pd.to_datetime(df['Date_of_Hire'])\n",
      "/var/folders/4s/ssj6hqrx2pd25m6n5s48w37h0000gn/T/ipykernel_1052/1583702905.py:3: UserWarning: Parsing '28-02-2016' in DD/MM/YYYY format. Provide format or specify infer_datetime_format=True for consistent parsing.\n",
      "  df['Date_of_Hire'] = pd.to_datetime(df['Date_of_Hire'])\n",
      "/var/folders/4s/ssj6hqrx2pd25m6n5s48w37h0000gn/T/ipykernel_1052/1583702905.py:3: UserWarning: Parsing '29-01-2016' in DD/MM/YYYY format. Provide format or specify infer_datetime_format=True for consistent parsing.\n",
      "  df['Date_of_Hire'] = pd.to_datetime(df['Date_of_Hire'])\n",
      "/var/folders/4s/ssj6hqrx2pd25m6n5s48w37h0000gn/T/ipykernel_1052/1583702905.py:3: UserWarning: Parsing '14-04-2016' in DD/MM/YYYY format. Provide format or specify infer_datetime_format=True for consistent parsing.\n",
      "  df['Date_of_Hire'] = pd.to_datetime(df['Date_of_Hire'])\n",
      "/var/folders/4s/ssj6hqrx2pd25m6n5s48w37h0000gn/T/ipykernel_1052/1583702905.py:3: UserWarning: Parsing '26-05-2016' in DD/MM/YYYY format. Provide format or specify infer_datetime_format=True for consistent parsing.\n",
      "  df['Date_of_Hire'] = pd.to_datetime(df['Date_of_Hire'])\n",
      "/var/folders/4s/ssj6hqrx2pd25m6n5s48w37h0000gn/T/ipykernel_1052/1583702905.py:3: UserWarning: Parsing '13-01-2016' in DD/MM/YYYY format. Provide format or specify infer_datetime_format=True for consistent parsing.\n",
      "  df['Date_of_Hire'] = pd.to_datetime(df['Date_of_Hire'])\n",
      "/var/folders/4s/ssj6hqrx2pd25m6n5s48w37h0000gn/T/ipykernel_1052/1583702905.py:3: UserWarning: Parsing '14-05-2016' in DD/MM/YYYY format. Provide format or specify infer_datetime_format=True for consistent parsing.\n",
      "  df['Date_of_Hire'] = pd.to_datetime(df['Date_of_Hire'])\n",
      "/var/folders/4s/ssj6hqrx2pd25m6n5s48w37h0000gn/T/ipykernel_1052/1583702905.py:3: UserWarning: Parsing '19-05-2016' in DD/MM/YYYY format. Provide format or specify infer_datetime_format=True for consistent parsing.\n",
      "  df['Date_of_Hire'] = pd.to_datetime(df['Date_of_Hire'])\n",
      "/var/folders/4s/ssj6hqrx2pd25m6n5s48w37h0000gn/T/ipykernel_1052/1583702905.py:3: UserWarning: Parsing '24-01-2016' in DD/MM/YYYY format. Provide format or specify infer_datetime_format=True for consistent parsing.\n",
      "  df['Date_of_Hire'] = pd.to_datetime(df['Date_of_Hire'])\n",
      "/var/folders/4s/ssj6hqrx2pd25m6n5s48w37h0000gn/T/ipykernel_1052/1583702905.py:3: UserWarning: Parsing '25-05-2016' in DD/MM/YYYY format. Provide format or specify infer_datetime_format=True for consistent parsing.\n",
      "  df['Date_of_Hire'] = pd.to_datetime(df['Date_of_Hire'])\n",
      "/var/folders/4s/ssj6hqrx2pd25m6n5s48w37h0000gn/T/ipykernel_1052/1583702905.py:3: UserWarning: Parsing '26-02-2016' in DD/MM/YYYY format. Provide format or specify infer_datetime_format=True for consistent parsing.\n",
      "  df['Date_of_Hire'] = pd.to_datetime(df['Date_of_Hire'])\n",
      "/var/folders/4s/ssj6hqrx2pd25m6n5s48w37h0000gn/T/ipykernel_1052/1583702905.py:3: UserWarning: Parsing '13-03-2016' in DD/MM/YYYY format. Provide format or specify infer_datetime_format=True for consistent parsing.\n",
      "  df['Date_of_Hire'] = pd.to_datetime(df['Date_of_Hire'])\n",
      "/var/folders/4s/ssj6hqrx2pd25m6n5s48w37h0000gn/T/ipykernel_1052/1583702905.py:3: UserWarning: Parsing '13-06-2016' in DD/MM/YYYY format. Provide format or specify infer_datetime_format=True for consistent parsing.\n",
      "  df['Date_of_Hire'] = pd.to_datetime(df['Date_of_Hire'])\n",
      "/var/folders/4s/ssj6hqrx2pd25m6n5s48w37h0000gn/T/ipykernel_1052/1583702905.py:3: UserWarning: Parsing '25-03-2016' in DD/MM/YYYY format. Provide format or specify infer_datetime_format=True for consistent parsing.\n",
      "  df['Date_of_Hire'] = pd.to_datetime(df['Date_of_Hire'])\n",
      "/var/folders/4s/ssj6hqrx2pd25m6n5s48w37h0000gn/T/ipykernel_1052/1583702905.py:3: UserWarning: Parsing '15-04-2016' in DD/MM/YYYY format. Provide format or specify infer_datetime_format=True for consistent parsing.\n",
      "  df['Date_of_Hire'] = pd.to_datetime(df['Date_of_Hire'])\n",
      "/var/folders/4s/ssj6hqrx2pd25m6n5s48w37h0000gn/T/ipykernel_1052/1583702905.py:3: UserWarning: Parsing '24-05-2015' in DD/MM/YYYY format. Provide format or specify infer_datetime_format=True for consistent parsing.\n",
      "  df['Date_of_Hire'] = pd.to_datetime(df['Date_of_Hire'])\n",
      "/var/folders/4s/ssj6hqrx2pd25m6n5s48w37h0000gn/T/ipykernel_1052/1583702905.py:3: UserWarning: Parsing '29-01-2015' in DD/MM/YYYY format. Provide format or specify infer_datetime_format=True for consistent parsing.\n",
      "  df['Date_of_Hire'] = pd.to_datetime(df['Date_of_Hire'])\n",
      "/var/folders/4s/ssj6hqrx2pd25m6n5s48w37h0000gn/T/ipykernel_1052/1583702905.py:3: UserWarning: Parsing '20-03-2015' in DD/MM/YYYY format. Provide format or specify infer_datetime_format=True for consistent parsing.\n",
      "  df['Date_of_Hire'] = pd.to_datetime(df['Date_of_Hire'])\n",
      "/var/folders/4s/ssj6hqrx2pd25m6n5s48w37h0000gn/T/ipykernel_1052/1583702905.py:3: UserWarning: Parsing '19-05-2015' in DD/MM/YYYY format. Provide format or specify infer_datetime_format=True for consistent parsing.\n",
      "  df['Date_of_Hire'] = pd.to_datetime(df['Date_of_Hire'])\n",
      "/var/folders/4s/ssj6hqrx2pd25m6n5s48w37h0000gn/T/ipykernel_1052/1583702905.py:3: UserWarning: Parsing '28-03-2015' in DD/MM/YYYY format. Provide format or specify infer_datetime_format=True for consistent parsing.\n",
      "  df['Date_of_Hire'] = pd.to_datetime(df['Date_of_Hire'])\n",
      "/var/folders/4s/ssj6hqrx2pd25m6n5s48w37h0000gn/T/ipykernel_1052/1583702905.py:3: UserWarning: Parsing '27-04-2015' in DD/MM/YYYY format. Provide format or specify infer_datetime_format=True for consistent parsing.\n",
      "  df['Date_of_Hire'] = pd.to_datetime(df['Date_of_Hire'])\n",
      "/var/folders/4s/ssj6hqrx2pd25m6n5s48w37h0000gn/T/ipykernel_1052/1583702905.py:3: UserWarning: Parsing '26-01-2015' in DD/MM/YYYY format. Provide format or specify infer_datetime_format=True for consistent parsing.\n",
      "  df['Date_of_Hire'] = pd.to_datetime(df['Date_of_Hire'])\n",
      "/var/folders/4s/ssj6hqrx2pd25m6n5s48w37h0000gn/T/ipykernel_1052/1583702905.py:3: UserWarning: Parsing '19-01-2015' in DD/MM/YYYY format. Provide format or specify infer_datetime_format=True for consistent parsing.\n",
      "  df['Date_of_Hire'] = pd.to_datetime(df['Date_of_Hire'])\n",
      "/var/folders/4s/ssj6hqrx2pd25m6n5s48w37h0000gn/T/ipykernel_1052/1583702905.py:3: UserWarning: Parsing '27-05-2015' in DD/MM/YYYY format. Provide format or specify infer_datetime_format=True for consistent parsing.\n",
      "  df['Date_of_Hire'] = pd.to_datetime(df['Date_of_Hire'])\n",
      "/var/folders/4s/ssj6hqrx2pd25m6n5s48w37h0000gn/T/ipykernel_1052/1583702905.py:3: UserWarning: Parsing '20-04-2015' in DD/MM/YYYY format. Provide format or specify infer_datetime_format=True for consistent parsing.\n",
      "  df['Date_of_Hire'] = pd.to_datetime(df['Date_of_Hire'])\n",
      "/var/folders/4s/ssj6hqrx2pd25m6n5s48w37h0000gn/T/ipykernel_1052/1583702905.py:3: UserWarning: Parsing '18-01-2015' in DD/MM/YYYY format. Provide format or specify infer_datetime_format=True for consistent parsing.\n",
      "  df['Date_of_Hire'] = pd.to_datetime(df['Date_of_Hire'])\n",
      "/var/folders/4s/ssj6hqrx2pd25m6n5s48w37h0000gn/T/ipykernel_1052/1583702905.py:3: UserWarning: Parsing '17-03-2015' in DD/MM/YYYY format. Provide format or specify infer_datetime_format=True for consistent parsing.\n",
      "  df['Date_of_Hire'] = pd.to_datetime(df['Date_of_Hire'])\n",
      "/var/folders/4s/ssj6hqrx2pd25m6n5s48w37h0000gn/T/ipykernel_1052/1583702905.py:3: UserWarning: Parsing '23-04-2015' in DD/MM/YYYY format. Provide format or specify infer_datetime_format=True for consistent parsing.\n",
      "  df['Date_of_Hire'] = pd.to_datetime(df['Date_of_Hire'])\n",
      "/var/folders/4s/ssj6hqrx2pd25m6n5s48w37h0000gn/T/ipykernel_1052/1583702905.py:3: UserWarning: Parsing '20-01-2015' in DD/MM/YYYY format. Provide format or specify infer_datetime_format=True for consistent parsing.\n",
      "  df['Date_of_Hire'] = pd.to_datetime(df['Date_of_Hire'])\n",
      "/var/folders/4s/ssj6hqrx2pd25m6n5s48w37h0000gn/T/ipykernel_1052/1583702905.py:3: UserWarning: Parsing '30-05-2015' in DD/MM/YYYY format. Provide format or specify infer_datetime_format=True for consistent parsing.\n",
      "  df['Date_of_Hire'] = pd.to_datetime(df['Date_of_Hire'])\n",
      "/var/folders/4s/ssj6hqrx2pd25m6n5s48w37h0000gn/T/ipykernel_1052/1583702905.py:3: UserWarning: Parsing '22-06-2015' in DD/MM/YYYY format. Provide format or specify infer_datetime_format=True for consistent parsing.\n",
      "  df['Date_of_Hire'] = pd.to_datetime(df['Date_of_Hire'])\n",
      "/var/folders/4s/ssj6hqrx2pd25m6n5s48w37h0000gn/T/ipykernel_1052/1583702905.py:3: UserWarning: Parsing '18-03-2015' in DD/MM/YYYY format. Provide format or specify infer_datetime_format=True for consistent parsing.\n",
      "  df['Date_of_Hire'] = pd.to_datetime(df['Date_of_Hire'])\n",
      "/var/folders/4s/ssj6hqrx2pd25m6n5s48w37h0000gn/T/ipykernel_1052/1583702905.py:3: UserWarning: Parsing '26-03-2015' in DD/MM/YYYY format. Provide format or specify infer_datetime_format=True for consistent parsing.\n",
      "  df['Date_of_Hire'] = pd.to_datetime(df['Date_of_Hire'])\n",
      "/var/folders/4s/ssj6hqrx2pd25m6n5s48w37h0000gn/T/ipykernel_1052/1583702905.py:3: UserWarning: Parsing '16-05-2015' in DD/MM/YYYY format. Provide format or specify infer_datetime_format=True for consistent parsing.\n",
      "  df['Date_of_Hire'] = pd.to_datetime(df['Date_of_Hire'])\n",
      "/var/folders/4s/ssj6hqrx2pd25m6n5s48w37h0000gn/T/ipykernel_1052/1583702905.py:3: UserWarning: Parsing '27-06-2015' in DD/MM/YYYY format. Provide format or specify infer_datetime_format=True for consistent parsing.\n",
      "  df['Date_of_Hire'] = pd.to_datetime(df['Date_of_Hire'])\n",
      "/var/folders/4s/ssj6hqrx2pd25m6n5s48w37h0000gn/T/ipykernel_1052/1583702905.py:3: UserWarning: Parsing '28-05-2015' in DD/MM/YYYY format. Provide format or specify infer_datetime_format=True for consistent parsing.\n",
      "  df['Date_of_Hire'] = pd.to_datetime(df['Date_of_Hire'])\n",
      "/var/folders/4s/ssj6hqrx2pd25m6n5s48w37h0000gn/T/ipykernel_1052/1583702905.py:3: UserWarning: Parsing '26-05-2015' in DD/MM/YYYY format. Provide format or specify infer_datetime_format=True for consistent parsing.\n",
      "  df['Date_of_Hire'] = pd.to_datetime(df['Date_of_Hire'])\n",
      "/var/folders/4s/ssj6hqrx2pd25m6n5s48w37h0000gn/T/ipykernel_1052/1583702905.py:3: UserWarning: Parsing '14-05-2015' in DD/MM/YYYY format. Provide format or specify infer_datetime_format=True for consistent parsing.\n",
      "  df['Date_of_Hire'] = pd.to_datetime(df['Date_of_Hire'])\n",
      "/var/folders/4s/ssj6hqrx2pd25m6n5s48w37h0000gn/T/ipykernel_1052/1583702905.py:3: UserWarning: Parsing '23-01-2015' in DD/MM/YYYY format. Provide format or specify infer_datetime_format=True for consistent parsing.\n",
      "  df['Date_of_Hire'] = pd.to_datetime(df['Date_of_Hire'])\n",
      "/var/folders/4s/ssj6hqrx2pd25m6n5s48w37h0000gn/T/ipykernel_1052/1583702905.py:3: UserWarning: Parsing '20-05-2015' in DD/MM/YYYY format. Provide format or specify infer_datetime_format=True for consistent parsing.\n",
      "  df['Date_of_Hire'] = pd.to_datetime(df['Date_of_Hire'])\n",
      "/var/folders/4s/ssj6hqrx2pd25m6n5s48w37h0000gn/T/ipykernel_1052/1583702905.py:3: UserWarning: Parsing '14-01-2015' in DD/MM/YYYY format. Provide format or specify infer_datetime_format=True for consistent parsing.\n",
      "  df['Date_of_Hire'] = pd.to_datetime(df['Date_of_Hire'])\n",
      "/var/folders/4s/ssj6hqrx2pd25m6n5s48w37h0000gn/T/ipykernel_1052/1583702905.py:3: UserWarning: Parsing '27-03-2015' in DD/MM/YYYY format. Provide format or specify infer_datetime_format=True for consistent parsing.\n",
      "  df['Date_of_Hire'] = pd.to_datetime(df['Date_of_Hire'])\n",
      "/var/folders/4s/ssj6hqrx2pd25m6n5s48w37h0000gn/T/ipykernel_1052/1583702905.py:3: UserWarning: Parsing '25-01-2015' in DD/MM/YYYY format. Provide format or specify infer_datetime_format=True for consistent parsing.\n",
      "  df['Date_of_Hire'] = pd.to_datetime(df['Date_of_Hire'])\n",
      "/var/folders/4s/ssj6hqrx2pd25m6n5s48w37h0000gn/T/ipykernel_1052/1583702905.py:3: UserWarning: Parsing '30-03-2015' in DD/MM/YYYY format. Provide format or specify infer_datetime_format=True for consistent parsing.\n",
      "  df['Date_of_Hire'] = pd.to_datetime(df['Date_of_Hire'])\n",
      "/var/folders/4s/ssj6hqrx2pd25m6n5s48w37h0000gn/T/ipykernel_1052/1583702905.py:3: UserWarning: Parsing '24-03-2015' in DD/MM/YYYY format. Provide format or specify infer_datetime_format=True for consistent parsing.\n",
      "  df['Date_of_Hire'] = pd.to_datetime(df['Date_of_Hire'])\n",
      "/var/folders/4s/ssj6hqrx2pd25m6n5s48w37h0000gn/T/ipykernel_1052/1583702905.py:3: UserWarning: Parsing '14-04-2015' in DD/MM/YYYY format. Provide format or specify infer_datetime_format=True for consistent parsing.\n",
      "  df['Date_of_Hire'] = pd.to_datetime(df['Date_of_Hire'])\n",
      "/var/folders/4s/ssj6hqrx2pd25m6n5s48w37h0000gn/T/ipykernel_1052/1583702905.py:3: UserWarning: Parsing '25-03-2015' in DD/MM/YYYY format. Provide format or specify infer_datetime_format=True for consistent parsing.\n",
      "  df['Date_of_Hire'] = pd.to_datetime(df['Date_of_Hire'])\n",
      "/var/folders/4s/ssj6hqrx2pd25m6n5s48w37h0000gn/T/ipykernel_1052/1583702905.py:3: UserWarning: Parsing '18-05-2015' in DD/MM/YYYY format. Provide format or specify infer_datetime_format=True for consistent parsing.\n",
      "  df['Date_of_Hire'] = pd.to_datetime(df['Date_of_Hire'])\n",
      "/var/folders/4s/ssj6hqrx2pd25m6n5s48w37h0000gn/T/ipykernel_1052/1583702905.py:3: UserWarning: Parsing '31-05-2015' in DD/MM/YYYY format. Provide format or specify infer_datetime_format=True for consistent parsing.\n",
      "  df['Date_of_Hire'] = pd.to_datetime(df['Date_of_Hire'])\n",
      "/var/folders/4s/ssj6hqrx2pd25m6n5s48w37h0000gn/T/ipykernel_1052/1583702905.py:3: UserWarning: Parsing '26-04-2015' in DD/MM/YYYY format. Provide format or specify infer_datetime_format=True for consistent parsing.\n",
      "  df['Date_of_Hire'] = pd.to_datetime(df['Date_of_Hire'])\n",
      "/var/folders/4s/ssj6hqrx2pd25m6n5s48w37h0000gn/T/ipykernel_1052/1583702905.py:3: UserWarning: Parsing '16-06-2015' in DD/MM/YYYY format. Provide format or specify infer_datetime_format=True for consistent parsing.\n",
      "  df['Date_of_Hire'] = pd.to_datetime(df['Date_of_Hire'])\n",
      "/var/folders/4s/ssj6hqrx2pd25m6n5s48w37h0000gn/T/ipykernel_1052/1583702905.py:3: UserWarning: Parsing '24-06-2015' in DD/MM/YYYY format. Provide format or specify infer_datetime_format=True for consistent parsing.\n",
      "  df['Date_of_Hire'] = pd.to_datetime(df['Date_of_Hire'])\n",
      "/var/folders/4s/ssj6hqrx2pd25m6n5s48w37h0000gn/T/ipykernel_1052/1583702905.py:3: UserWarning: Parsing '13-02-2015' in DD/MM/YYYY format. Provide format or specify infer_datetime_format=True for consistent parsing.\n",
      "  df['Date_of_Hire'] = pd.to_datetime(df['Date_of_Hire'])\n",
      "/var/folders/4s/ssj6hqrx2pd25m6n5s48w37h0000gn/T/ipykernel_1052/1583702905.py:3: UserWarning: Parsing '31-03-2015' in DD/MM/YYYY format. Provide format or specify infer_datetime_format=True for consistent parsing.\n",
      "  df['Date_of_Hire'] = pd.to_datetime(df['Date_of_Hire'])\n",
      "/var/folders/4s/ssj6hqrx2pd25m6n5s48w37h0000gn/T/ipykernel_1052/1583702905.py:3: UserWarning: Parsing '27-01-2015' in DD/MM/YYYY format. Provide format or specify infer_datetime_format=True for consistent parsing.\n",
      "  df['Date_of_Hire'] = pd.to_datetime(df['Date_of_Hire'])\n",
      "/var/folders/4s/ssj6hqrx2pd25m6n5s48w37h0000gn/T/ipykernel_1052/1583702905.py:3: UserWarning: Parsing '28-03-2014' in DD/MM/YYYY format. Provide format or specify infer_datetime_format=True for consistent parsing.\n",
      "  df['Date_of_Hire'] = pd.to_datetime(df['Date_of_Hire'])\n",
      "/var/folders/4s/ssj6hqrx2pd25m6n5s48w37h0000gn/T/ipykernel_1052/1583702905.py:3: UserWarning: Parsing '31-03-2014' in DD/MM/YYYY format. Provide format or specify infer_datetime_format=True for consistent parsing.\n",
      "  df['Date_of_Hire'] = pd.to_datetime(df['Date_of_Hire'])\n",
      "/var/folders/4s/ssj6hqrx2pd25m6n5s48w37h0000gn/T/ipykernel_1052/1583702905.py:3: UserWarning: Parsing '20-04-2014' in DD/MM/YYYY format. Provide format or specify infer_datetime_format=True for consistent parsing.\n",
      "  df['Date_of_Hire'] = pd.to_datetime(df['Date_of_Hire'])\n",
      "/var/folders/4s/ssj6hqrx2pd25m6n5s48w37h0000gn/T/ipykernel_1052/1583702905.py:3: UserWarning: Parsing '22-06-2014' in DD/MM/YYYY format. Provide format or specify infer_datetime_format=True for consistent parsing.\n",
      "  df['Date_of_Hire'] = pd.to_datetime(df['Date_of_Hire'])\n",
      "/var/folders/4s/ssj6hqrx2pd25m6n5s48w37h0000gn/T/ipykernel_1052/1583702905.py:3: UserWarning: Parsing '17-06-2014' in DD/MM/YYYY format. Provide format or specify infer_datetime_format=True for consistent parsing.\n",
      "  df['Date_of_Hire'] = pd.to_datetime(df['Date_of_Hire'])\n",
      "/var/folders/4s/ssj6hqrx2pd25m6n5s48w37h0000gn/T/ipykernel_1052/1583702905.py:3: UserWarning: Parsing '21-04-2014' in DD/MM/YYYY format. Provide format or specify infer_datetime_format=True for consistent parsing.\n",
      "  df['Date_of_Hire'] = pd.to_datetime(df['Date_of_Hire'])\n",
      "/var/folders/4s/ssj6hqrx2pd25m6n5s48w37h0000gn/T/ipykernel_1052/1583702905.py:3: UserWarning: Parsing '25-04-2014' in DD/MM/YYYY format. Provide format or specify infer_datetime_format=True for consistent parsing.\n",
      "  df['Date_of_Hire'] = pd.to_datetime(df['Date_of_Hire'])\n",
      "/var/folders/4s/ssj6hqrx2pd25m6n5s48w37h0000gn/T/ipykernel_1052/1583702905.py:3: UserWarning: Parsing '19-01-2014' in DD/MM/YYYY format. Provide format or specify infer_datetime_format=True for consistent parsing.\n",
      "  df['Date_of_Hire'] = pd.to_datetime(df['Date_of_Hire'])\n",
      "/var/folders/4s/ssj6hqrx2pd25m6n5s48w37h0000gn/T/ipykernel_1052/1583702905.py:3: UserWarning: Parsing '17-05-2014' in DD/MM/YYYY format. Provide format or specify infer_datetime_format=True for consistent parsing.\n",
      "  df['Date_of_Hire'] = pd.to_datetime(df['Date_of_Hire'])\n",
      "/var/folders/4s/ssj6hqrx2pd25m6n5s48w37h0000gn/T/ipykernel_1052/1583702905.py:3: UserWarning: Parsing '27-03-2014' in DD/MM/YYYY format. Provide format or specify infer_datetime_format=True for consistent parsing.\n",
      "  df['Date_of_Hire'] = pd.to_datetime(df['Date_of_Hire'])\n",
      "/var/folders/4s/ssj6hqrx2pd25m6n5s48w37h0000gn/T/ipykernel_1052/1583702905.py:3: UserWarning: Parsing '29-03-2014' in DD/MM/YYYY format. Provide format or specify infer_datetime_format=True for consistent parsing.\n",
      "  df['Date_of_Hire'] = pd.to_datetime(df['Date_of_Hire'])\n",
      "/var/folders/4s/ssj6hqrx2pd25m6n5s48w37h0000gn/T/ipykernel_1052/1583702905.py:3: UserWarning: Parsing '28-01-2014' in DD/MM/YYYY format. Provide format or specify infer_datetime_format=True for consistent parsing.\n",
      "  df['Date_of_Hire'] = pd.to_datetime(df['Date_of_Hire'])\n",
      "/var/folders/4s/ssj6hqrx2pd25m6n5s48w37h0000gn/T/ipykernel_1052/1583702905.py:3: UserWarning: Parsing '26-03-2014' in DD/MM/YYYY format. Provide format or specify infer_datetime_format=True for consistent parsing.\n",
      "  df['Date_of_Hire'] = pd.to_datetime(df['Date_of_Hire'])\n",
      "/var/folders/4s/ssj6hqrx2pd25m6n5s48w37h0000gn/T/ipykernel_1052/1583702905.py:3: UserWarning: Parsing '19-03-2014' in DD/MM/YYYY format. Provide format or specify infer_datetime_format=True for consistent parsing.\n",
      "  df['Date_of_Hire'] = pd.to_datetime(df['Date_of_Hire'])\n",
      "/var/folders/4s/ssj6hqrx2pd25m6n5s48w37h0000gn/T/ipykernel_1052/1583702905.py:3: UserWarning: Parsing '23-05-2014' in DD/MM/YYYY format. Provide format or specify infer_datetime_format=True for consistent parsing.\n",
      "  df['Date_of_Hire'] = pd.to_datetime(df['Date_of_Hire'])\n",
      "/var/folders/4s/ssj6hqrx2pd25m6n5s48w37h0000gn/T/ipykernel_1052/1583702905.py:3: UserWarning: Parsing '17-04-2014' in DD/MM/YYYY format. Provide format or specify infer_datetime_format=True for consistent parsing.\n",
      "  df['Date_of_Hire'] = pd.to_datetime(df['Date_of_Hire'])\n",
      "/var/folders/4s/ssj6hqrx2pd25m6n5s48w37h0000gn/T/ipykernel_1052/1583702905.py:3: UserWarning: Parsing '23-06-2014' in DD/MM/YYYY format. Provide format or specify infer_datetime_format=True for consistent parsing.\n",
      "  df['Date_of_Hire'] = pd.to_datetime(df['Date_of_Hire'])\n",
      "/var/folders/4s/ssj6hqrx2pd25m6n5s48w37h0000gn/T/ipykernel_1052/1583702905.py:3: UserWarning: Parsing '19-04-2014' in DD/MM/YYYY format. Provide format or specify infer_datetime_format=True for consistent parsing.\n",
      "  df['Date_of_Hire'] = pd.to_datetime(df['Date_of_Hire'])\n",
      "/var/folders/4s/ssj6hqrx2pd25m6n5s48w37h0000gn/T/ipykernel_1052/1583702905.py:3: UserWarning: Parsing '30-05-2014' in DD/MM/YYYY format. Provide format or specify infer_datetime_format=True for consistent parsing.\n",
      "  df['Date_of_Hire'] = pd.to_datetime(df['Date_of_Hire'])\n",
      "/var/folders/4s/ssj6hqrx2pd25m6n5s48w37h0000gn/T/ipykernel_1052/1583702905.py:3: UserWarning: Parsing '18-02-2014' in DD/MM/YYYY format. Provide format or specify infer_datetime_format=True for consistent parsing.\n",
      "  df['Date_of_Hire'] = pd.to_datetime(df['Date_of_Hire'])\n",
      "/var/folders/4s/ssj6hqrx2pd25m6n5s48w37h0000gn/T/ipykernel_1052/1583702905.py:3: UserWarning: Parsing '14-01-2014' in DD/MM/YYYY format. Provide format or specify infer_datetime_format=True for consistent parsing.\n",
      "  df['Date_of_Hire'] = pd.to_datetime(df['Date_of_Hire'])\n",
      "/var/folders/4s/ssj6hqrx2pd25m6n5s48w37h0000gn/T/ipykernel_1052/1583702905.py:3: UserWarning: Parsing '23-02-2014' in DD/MM/YYYY format. Provide format or specify infer_datetime_format=True for consistent parsing.\n",
      "  df['Date_of_Hire'] = pd.to_datetime(df['Date_of_Hire'])\n",
      "/var/folders/4s/ssj6hqrx2pd25m6n5s48w37h0000gn/T/ipykernel_1052/1583702905.py:3: UserWarning: Parsing '19-02-2014' in DD/MM/YYYY format. Provide format or specify infer_datetime_format=True for consistent parsing.\n",
      "  df['Date_of_Hire'] = pd.to_datetime(df['Date_of_Hire'])\n",
      "/var/folders/4s/ssj6hqrx2pd25m6n5s48w37h0000gn/T/ipykernel_1052/1583702905.py:3: UserWarning: Parsing '13-06-2014' in DD/MM/YYYY format. Provide format or specify infer_datetime_format=True for consistent parsing.\n",
      "  df['Date_of_Hire'] = pd.to_datetime(df['Date_of_Hire'])\n",
      "/var/folders/4s/ssj6hqrx2pd25m6n5s48w37h0000gn/T/ipykernel_1052/1583702905.py:3: UserWarning: Parsing '13-01-2014' in DD/MM/YYYY format. Provide format or specify infer_datetime_format=True for consistent parsing.\n",
      "  df['Date_of_Hire'] = pd.to_datetime(df['Date_of_Hire'])\n",
      "/var/folders/4s/ssj6hqrx2pd25m6n5s48w37h0000gn/T/ipykernel_1052/1583702905.py:3: UserWarning: Parsing '24-02-2014' in DD/MM/YYYY format. Provide format or specify infer_datetime_format=True for consistent parsing.\n",
      "  df['Date_of_Hire'] = pd.to_datetime(df['Date_of_Hire'])\n",
      "/var/folders/4s/ssj6hqrx2pd25m6n5s48w37h0000gn/T/ipykernel_1052/1583702905.py:3: UserWarning: Parsing '14-06-2014' in DD/MM/YYYY format. Provide format or specify infer_datetime_format=True for consistent parsing.\n",
      "  df['Date_of_Hire'] = pd.to_datetime(df['Date_of_Hire'])\n",
      "/var/folders/4s/ssj6hqrx2pd25m6n5s48w37h0000gn/T/ipykernel_1052/1583702905.py:3: UserWarning: Parsing '15-05-2014' in DD/MM/YYYY format. Provide format or specify infer_datetime_format=True for consistent parsing.\n",
      "  df['Date_of_Hire'] = pd.to_datetime(df['Date_of_Hire'])\n",
      "/var/folders/4s/ssj6hqrx2pd25m6n5s48w37h0000gn/T/ipykernel_1052/1583702905.py:3: UserWarning: Parsing '27-04-2014' in DD/MM/YYYY format. Provide format or specify infer_datetime_format=True for consistent parsing.\n",
      "  df['Date_of_Hire'] = pd.to_datetime(df['Date_of_Hire'])\n",
      "/var/folders/4s/ssj6hqrx2pd25m6n5s48w37h0000gn/T/ipykernel_1052/1583702905.py:3: UserWarning: Parsing '22-01-2014' in DD/MM/YYYY format. Provide format or specify infer_datetime_format=True for consistent parsing.\n",
      "  df['Date_of_Hire'] = pd.to_datetime(df['Date_of_Hire'])\n",
      "/var/folders/4s/ssj6hqrx2pd25m6n5s48w37h0000gn/T/ipykernel_1052/1583702905.py:3: UserWarning: Parsing '15-03-2014' in DD/MM/YYYY format. Provide format or specify infer_datetime_format=True for consistent parsing.\n",
      "  df['Date_of_Hire'] = pd.to_datetime(df['Date_of_Hire'])\n",
      "/var/folders/4s/ssj6hqrx2pd25m6n5s48w37h0000gn/T/ipykernel_1052/1583702905.py:3: UserWarning: Parsing '22-04-2014' in DD/MM/YYYY format. Provide format or specify infer_datetime_format=True for consistent parsing.\n",
      "  df['Date_of_Hire'] = pd.to_datetime(df['Date_of_Hire'])\n",
      "/var/folders/4s/ssj6hqrx2pd25m6n5s48w37h0000gn/T/ipykernel_1052/1583702905.py:3: UserWarning: Parsing '20-05-2014' in DD/MM/YYYY format. Provide format or specify infer_datetime_format=True for consistent parsing.\n",
      "  df['Date_of_Hire'] = pd.to_datetime(df['Date_of_Hire'])\n",
      "/var/folders/4s/ssj6hqrx2pd25m6n5s48w37h0000gn/T/ipykernel_1052/1583702905.py:3: UserWarning: Parsing '16-01-2014' in DD/MM/YYYY format. Provide format or specify infer_datetime_format=True for consistent parsing.\n",
      "  df['Date_of_Hire'] = pd.to_datetime(df['Date_of_Hire'])\n",
      "/var/folders/4s/ssj6hqrx2pd25m6n5s48w37h0000gn/T/ipykernel_1052/1583702905.py:3: UserWarning: Parsing '14-04-2014' in DD/MM/YYYY format. Provide format or specify infer_datetime_format=True for consistent parsing.\n",
      "  df['Date_of_Hire'] = pd.to_datetime(df['Date_of_Hire'])\n",
      "/var/folders/4s/ssj6hqrx2pd25m6n5s48w37h0000gn/T/ipykernel_1052/1583702905.py:3: UserWarning: Parsing '16-02-2014' in DD/MM/YYYY format. Provide format or specify infer_datetime_format=True for consistent parsing.\n",
      "  df['Date_of_Hire'] = pd.to_datetime(df['Date_of_Hire'])\n",
      "/var/folders/4s/ssj6hqrx2pd25m6n5s48w37h0000gn/T/ipykernel_1052/1583702905.py:3: UserWarning: Parsing '24-05-2014' in DD/MM/YYYY format. Provide format or specify infer_datetime_format=True for consistent parsing.\n",
      "  df['Date_of_Hire'] = pd.to_datetime(df['Date_of_Hire'])\n",
      "/var/folders/4s/ssj6hqrx2pd25m6n5s48w37h0000gn/T/ipykernel_1052/1583702905.py:3: UserWarning: Parsing '14-02-2014' in DD/MM/YYYY format. Provide format or specify infer_datetime_format=True for consistent parsing.\n",
      "  df['Date_of_Hire'] = pd.to_datetime(df['Date_of_Hire'])\n",
      "/var/folders/4s/ssj6hqrx2pd25m6n5s48w37h0000gn/T/ipykernel_1052/1583702905.py:3: UserWarning: Parsing '28-06-2014' in DD/MM/YYYY format. Provide format or specify infer_datetime_format=True for consistent parsing.\n",
      "  df['Date_of_Hire'] = pd.to_datetime(df['Date_of_Hire'])\n",
      "/var/folders/4s/ssj6hqrx2pd25m6n5s48w37h0000gn/T/ipykernel_1052/1583702905.py:3: UserWarning: Parsing '14-05-2014' in DD/MM/YYYY format. Provide format or specify infer_datetime_format=True for consistent parsing.\n",
      "  df['Date_of_Hire'] = pd.to_datetime(df['Date_of_Hire'])\n",
      "/var/folders/4s/ssj6hqrx2pd25m6n5s48w37h0000gn/T/ipykernel_1052/1583702905.py:3: UserWarning: Parsing '22-02-2014' in DD/MM/YYYY format. Provide format or specify infer_datetime_format=True for consistent parsing.\n",
      "  df['Date_of_Hire'] = pd.to_datetime(df['Date_of_Hire'])\n",
      "/var/folders/4s/ssj6hqrx2pd25m6n5s48w37h0000gn/T/ipykernel_1052/1583702905.py:3: UserWarning: Parsing '15-04-2014' in DD/MM/YYYY format. Provide format or specify infer_datetime_format=True for consistent parsing.\n",
      "  df['Date_of_Hire'] = pd.to_datetime(df['Date_of_Hire'])\n",
      "/var/folders/4s/ssj6hqrx2pd25m6n5s48w37h0000gn/T/ipykernel_1052/1583702905.py:3: UserWarning: Parsing '23-03-2014' in DD/MM/YYYY format. Provide format or specify infer_datetime_format=True for consistent parsing.\n",
      "  df['Date_of_Hire'] = pd.to_datetime(df['Date_of_Hire'])\n",
      "/var/folders/4s/ssj6hqrx2pd25m6n5s48w37h0000gn/T/ipykernel_1052/1583702905.py:3: UserWarning: Parsing '20-03-2014' in DD/MM/YYYY format. Provide format or specify infer_datetime_format=True for consistent parsing.\n",
      "  df['Date_of_Hire'] = pd.to_datetime(df['Date_of_Hire'])\n",
      "/var/folders/4s/ssj6hqrx2pd25m6n5s48w37h0000gn/T/ipykernel_1052/1583702905.py:3: UserWarning: Parsing '31-01-2014' in DD/MM/YYYY format. Provide format or specify infer_datetime_format=True for consistent parsing.\n",
      "  df['Date_of_Hire'] = pd.to_datetime(df['Date_of_Hire'])\n",
      "/var/folders/4s/ssj6hqrx2pd25m6n5s48w37h0000gn/T/ipykernel_1052/1583702905.py:3: UserWarning: Parsing '26-04-2013' in DD/MM/YYYY format. Provide format or specify infer_datetime_format=True for consistent parsing.\n",
      "  df['Date_of_Hire'] = pd.to_datetime(df['Date_of_Hire'])\n",
      "/var/folders/4s/ssj6hqrx2pd25m6n5s48w37h0000gn/T/ipykernel_1052/1583702905.py:3: UserWarning: Parsing '30-03-2013' in DD/MM/YYYY format. Provide format or specify infer_datetime_format=True for consistent parsing.\n",
      "  df['Date_of_Hire'] = pd.to_datetime(df['Date_of_Hire'])\n",
      "/var/folders/4s/ssj6hqrx2pd25m6n5s48w37h0000gn/T/ipykernel_1052/1583702905.py:3: UserWarning: Parsing '13-02-2013' in DD/MM/YYYY format. Provide format or specify infer_datetime_format=True for consistent parsing.\n",
      "  df['Date_of_Hire'] = pd.to_datetime(df['Date_of_Hire'])\n",
      "/var/folders/4s/ssj6hqrx2pd25m6n5s48w37h0000gn/T/ipykernel_1052/1583702905.py:3: UserWarning: Parsing '27-03-2013' in DD/MM/YYYY format. Provide format or specify infer_datetime_format=True for consistent parsing.\n",
      "  df['Date_of_Hire'] = pd.to_datetime(df['Date_of_Hire'])\n",
      "/var/folders/4s/ssj6hqrx2pd25m6n5s48w37h0000gn/T/ipykernel_1052/1583702905.py:3: UserWarning: Parsing '22-01-2013' in DD/MM/YYYY format. Provide format or specify infer_datetime_format=True for consistent parsing.\n",
      "  df['Date_of_Hire'] = pd.to_datetime(df['Date_of_Hire'])\n",
      "/var/folders/4s/ssj6hqrx2pd25m6n5s48w37h0000gn/T/ipykernel_1052/1583702905.py:3: UserWarning: Parsing '18-04-2013' in DD/MM/YYYY format. Provide format or specify infer_datetime_format=True for consistent parsing.\n",
      "  df['Date_of_Hire'] = pd.to_datetime(df['Date_of_Hire'])\n",
      "/var/folders/4s/ssj6hqrx2pd25m6n5s48w37h0000gn/T/ipykernel_1052/1583702905.py:3: UserWarning: Parsing '23-01-2013' in DD/MM/YYYY format. Provide format or specify infer_datetime_format=True for consistent parsing.\n",
      "  df['Date_of_Hire'] = pd.to_datetime(df['Date_of_Hire'])\n",
      "/var/folders/4s/ssj6hqrx2pd25m6n5s48w37h0000gn/T/ipykernel_1052/1583702905.py:3: UserWarning: Parsing '24-06-2013' in DD/MM/YYYY format. Provide format or specify infer_datetime_format=True for consistent parsing.\n",
      "  df['Date_of_Hire'] = pd.to_datetime(df['Date_of_Hire'])\n",
      "/var/folders/4s/ssj6hqrx2pd25m6n5s48w37h0000gn/T/ipykernel_1052/1583702905.py:3: UserWarning: Parsing '26-01-2013' in DD/MM/YYYY format. Provide format or specify infer_datetime_format=True for consistent parsing.\n",
      "  df['Date_of_Hire'] = pd.to_datetime(df['Date_of_Hire'])\n",
      "/var/folders/4s/ssj6hqrx2pd25m6n5s48w37h0000gn/T/ipykernel_1052/1583702905.py:3: UserWarning: Parsing '17-02-2013' in DD/MM/YYYY format. Provide format or specify infer_datetime_format=True for consistent parsing.\n",
      "  df['Date_of_Hire'] = pd.to_datetime(df['Date_of_Hire'])\n",
      "/var/folders/4s/ssj6hqrx2pd25m6n5s48w37h0000gn/T/ipykernel_1052/1583702905.py:3: UserWarning: Parsing '28-03-2013' in DD/MM/YYYY format. Provide format or specify infer_datetime_format=True for consistent parsing.\n",
      "  df['Date_of_Hire'] = pd.to_datetime(df['Date_of_Hire'])\n",
      "/var/folders/4s/ssj6hqrx2pd25m6n5s48w37h0000gn/T/ipykernel_1052/1583702905.py:3: UserWarning: Parsing '25-06-2013' in DD/MM/YYYY format. Provide format or specify infer_datetime_format=True for consistent parsing.\n",
      "  df['Date_of_Hire'] = pd.to_datetime(df['Date_of_Hire'])\n",
      "/var/folders/4s/ssj6hqrx2pd25m6n5s48w37h0000gn/T/ipykernel_1052/1583702905.py:3: UserWarning: Parsing '28-06-2013' in DD/MM/YYYY format. Provide format or specify infer_datetime_format=True for consistent parsing.\n",
      "  df['Date_of_Hire'] = pd.to_datetime(df['Date_of_Hire'])\n",
      "/var/folders/4s/ssj6hqrx2pd25m6n5s48w37h0000gn/T/ipykernel_1052/1583702905.py:3: UserWarning: Parsing '25-04-2013' in DD/MM/YYYY format. Provide format or specify infer_datetime_format=True for consistent parsing.\n",
      "  df['Date_of_Hire'] = pd.to_datetime(df['Date_of_Hire'])\n",
      "/var/folders/4s/ssj6hqrx2pd25m6n5s48w37h0000gn/T/ipykernel_1052/1583702905.py:3: UserWarning: Parsing '25-03-2013' in DD/MM/YYYY format. Provide format or specify infer_datetime_format=True for consistent parsing.\n",
      "  df['Date_of_Hire'] = pd.to_datetime(df['Date_of_Hire'])\n",
      "/var/folders/4s/ssj6hqrx2pd25m6n5s48w37h0000gn/T/ipykernel_1052/1583702905.py:3: UserWarning: Parsing '13-05-2013' in DD/MM/YYYY format. Provide format or specify infer_datetime_format=True for consistent parsing.\n",
      "  df['Date_of_Hire'] = pd.to_datetime(df['Date_of_Hire'])\n",
      "/var/folders/4s/ssj6hqrx2pd25m6n5s48w37h0000gn/T/ipykernel_1052/1583702905.py:3: UserWarning: Parsing '26-03-2013' in DD/MM/YYYY format. Provide format or specify infer_datetime_format=True for consistent parsing.\n",
      "  df['Date_of_Hire'] = pd.to_datetime(df['Date_of_Hire'])\n",
      "/var/folders/4s/ssj6hqrx2pd25m6n5s48w37h0000gn/T/ipykernel_1052/1583702905.py:3: UserWarning: Parsing '13-03-2013' in DD/MM/YYYY format. Provide format or specify infer_datetime_format=True for consistent parsing.\n",
      "  df['Date_of_Hire'] = pd.to_datetime(df['Date_of_Hire'])\n",
      "/var/folders/4s/ssj6hqrx2pd25m6n5s48w37h0000gn/T/ipykernel_1052/1583702905.py:3: UserWarning: Parsing '20-01-2013' in DD/MM/YYYY format. Provide format or specify infer_datetime_format=True for consistent parsing.\n",
      "  df['Date_of_Hire'] = pd.to_datetime(df['Date_of_Hire'])\n",
      "/var/folders/4s/ssj6hqrx2pd25m6n5s48w37h0000gn/T/ipykernel_1052/1583702905.py:3: UserWarning: Parsing '24-02-2013' in DD/MM/YYYY format. Provide format or specify infer_datetime_format=True for consistent parsing.\n",
      "  df['Date_of_Hire'] = pd.to_datetime(df['Date_of_Hire'])\n",
      "/var/folders/4s/ssj6hqrx2pd25m6n5s48w37h0000gn/T/ipykernel_1052/1583702905.py:3: UserWarning: Parsing '24-01-2013' in DD/MM/YYYY format. Provide format or specify infer_datetime_format=True for consistent parsing.\n",
      "  df['Date_of_Hire'] = pd.to_datetime(df['Date_of_Hire'])\n",
      "/var/folders/4s/ssj6hqrx2pd25m6n5s48w37h0000gn/T/ipykernel_1052/1583702905.py:3: UserWarning: Parsing '17-03-2013' in DD/MM/YYYY format. Provide format or specify infer_datetime_format=True for consistent parsing.\n",
      "  df['Date_of_Hire'] = pd.to_datetime(df['Date_of_Hire'])\n",
      "/var/folders/4s/ssj6hqrx2pd25m6n5s48w37h0000gn/T/ipykernel_1052/1583702905.py:3: UserWarning: Parsing '31-03-2013' in DD/MM/YYYY format. Provide format or specify infer_datetime_format=True for consistent parsing.\n",
      "  df['Date_of_Hire'] = pd.to_datetime(df['Date_of_Hire'])\n",
      "/var/folders/4s/ssj6hqrx2pd25m6n5s48w37h0000gn/T/ipykernel_1052/1583702905.py:3: UserWarning: Parsing '17-05-2013' in DD/MM/YYYY format. Provide format or specify infer_datetime_format=True for consistent parsing.\n",
      "  df['Date_of_Hire'] = pd.to_datetime(df['Date_of_Hire'])\n",
      "/var/folders/4s/ssj6hqrx2pd25m6n5s48w37h0000gn/T/ipykernel_1052/1583702905.py:3: UserWarning: Parsing '23-02-2013' in DD/MM/YYYY format. Provide format or specify infer_datetime_format=True for consistent parsing.\n",
      "  df['Date_of_Hire'] = pd.to_datetime(df['Date_of_Hire'])\n",
      "/var/folders/4s/ssj6hqrx2pd25m6n5s48w37h0000gn/T/ipykernel_1052/1583702905.py:3: UserWarning: Parsing '27-04-2013' in DD/MM/YYYY format. Provide format or specify infer_datetime_format=True for consistent parsing.\n",
      "  df['Date_of_Hire'] = pd.to_datetime(df['Date_of_Hire'])\n",
      "/var/folders/4s/ssj6hqrx2pd25m6n5s48w37h0000gn/T/ipykernel_1052/1583702905.py:3: UserWarning: Parsing '30-01-2013' in DD/MM/YYYY format. Provide format or specify infer_datetime_format=True for consistent parsing.\n",
      "  df['Date_of_Hire'] = pd.to_datetime(df['Date_of_Hire'])\n",
      "/var/folders/4s/ssj6hqrx2pd25m6n5s48w37h0000gn/T/ipykernel_1052/1583702905.py:3: UserWarning: Parsing '16-04-2013' in DD/MM/YYYY format. Provide format or specify infer_datetime_format=True for consistent parsing.\n",
      "  df['Date_of_Hire'] = pd.to_datetime(df['Date_of_Hire'])\n",
      "/var/folders/4s/ssj6hqrx2pd25m6n5s48w37h0000gn/T/ipykernel_1052/1583702905.py:3: UserWarning: Parsing '20-02-2013' in DD/MM/YYYY format. Provide format or specify infer_datetime_format=True for consistent parsing.\n",
      "  df['Date_of_Hire'] = pd.to_datetime(df['Date_of_Hire'])\n",
      "/var/folders/4s/ssj6hqrx2pd25m6n5s48w37h0000gn/T/ipykernel_1052/1583702905.py:3: UserWarning: Parsing '19-03-2013' in DD/MM/YYYY format. Provide format or specify infer_datetime_format=True for consistent parsing.\n",
      "  df['Date_of_Hire'] = pd.to_datetime(df['Date_of_Hire'])\n",
      "/var/folders/4s/ssj6hqrx2pd25m6n5s48w37h0000gn/T/ipykernel_1052/1583702905.py:3: UserWarning: Parsing '25-05-2013' in DD/MM/YYYY format. Provide format or specify infer_datetime_format=True for consistent parsing.\n",
      "  df['Date_of_Hire'] = pd.to_datetime(df['Date_of_Hire'])\n",
      "/var/folders/4s/ssj6hqrx2pd25m6n5s48w37h0000gn/T/ipykernel_1052/1583702905.py:3: UserWarning: Parsing '15-01-2013' in DD/MM/YYYY format. Provide format or specify infer_datetime_format=True for consistent parsing.\n",
      "  df['Date_of_Hire'] = pd.to_datetime(df['Date_of_Hire'])\n",
      "/var/folders/4s/ssj6hqrx2pd25m6n5s48w37h0000gn/T/ipykernel_1052/1583702905.py:3: UserWarning: Parsing '16-03-2013' in DD/MM/YYYY format. Provide format or specify infer_datetime_format=True for consistent parsing.\n",
      "  df['Date_of_Hire'] = pd.to_datetime(df['Date_of_Hire'])\n",
      "/var/folders/4s/ssj6hqrx2pd25m6n5s48w37h0000gn/T/ipykernel_1052/1583702905.py:3: UserWarning: Parsing '21-01-2013' in DD/MM/YYYY format. Provide format or specify infer_datetime_format=True for consistent parsing.\n",
      "  df['Date_of_Hire'] = pd.to_datetime(df['Date_of_Hire'])\n",
      "/var/folders/4s/ssj6hqrx2pd25m6n5s48w37h0000gn/T/ipykernel_1052/1583702905.py:3: UserWarning: Parsing '16-05-2013' in DD/MM/YYYY format. Provide format or specify infer_datetime_format=True for consistent parsing.\n",
      "  df['Date_of_Hire'] = pd.to_datetime(df['Date_of_Hire'])\n",
      "/var/folders/4s/ssj6hqrx2pd25m6n5s48w37h0000gn/T/ipykernel_1052/1583702905.py:3: UserWarning: Parsing '23-05-2013' in DD/MM/YYYY format. Provide format or specify infer_datetime_format=True for consistent parsing.\n",
      "  df['Date_of_Hire'] = pd.to_datetime(df['Date_of_Hire'])\n",
      "/var/folders/4s/ssj6hqrx2pd25m6n5s48w37h0000gn/T/ipykernel_1052/1583702905.py:3: UserWarning: Parsing '20-04-2013' in DD/MM/YYYY format. Provide format or specify infer_datetime_format=True for consistent parsing.\n",
      "  df['Date_of_Hire'] = pd.to_datetime(df['Date_of_Hire'])\n",
      "/var/folders/4s/ssj6hqrx2pd25m6n5s48w37h0000gn/T/ipykernel_1052/1583702905.py:3: UserWarning: Parsing '15-06-2013' in DD/MM/YYYY format. Provide format or specify infer_datetime_format=True for consistent parsing.\n",
      "  df['Date_of_Hire'] = pd.to_datetime(df['Date_of_Hire'])\n",
      "/var/folders/4s/ssj6hqrx2pd25m6n5s48w37h0000gn/T/ipykernel_1052/1583702905.py:3: UserWarning: Parsing '13-06-2013' in DD/MM/YYYY format. Provide format or specify infer_datetime_format=True for consistent parsing.\n",
      "  df['Date_of_Hire'] = pd.to_datetime(df['Date_of_Hire'])\n",
      "/var/folders/4s/ssj6hqrx2pd25m6n5s48w37h0000gn/T/ipykernel_1052/1583702905.py:3: UserWarning: Parsing '16-02-2013' in DD/MM/YYYY format. Provide format or specify infer_datetime_format=True for consistent parsing.\n",
      "  df['Date_of_Hire'] = pd.to_datetime(df['Date_of_Hire'])\n",
      "/var/folders/4s/ssj6hqrx2pd25m6n5s48w37h0000gn/T/ipykernel_1052/1583702905.py:3: UserWarning: Parsing '18-02-2013' in DD/MM/YYYY format. Provide format or specify infer_datetime_format=True for consistent parsing.\n",
      "  df['Date_of_Hire'] = pd.to_datetime(df['Date_of_Hire'])\n",
      "/var/folders/4s/ssj6hqrx2pd25m6n5s48w37h0000gn/T/ipykernel_1052/1583702905.py:3: UserWarning: Parsing '22-06-2013' in DD/MM/YYYY format. Provide format or specify infer_datetime_format=True for consistent parsing.\n",
      "  df['Date_of_Hire'] = pd.to_datetime(df['Date_of_Hire'])\n",
      "/var/folders/4s/ssj6hqrx2pd25m6n5s48w37h0000gn/T/ipykernel_1052/1583702905.py:3: UserWarning: Parsing '26-05-2013' in DD/MM/YYYY format. Provide format or specify infer_datetime_format=True for consistent parsing.\n",
      "  df['Date_of_Hire'] = pd.to_datetime(df['Date_of_Hire'])\n",
      "/var/folders/4s/ssj6hqrx2pd25m6n5s48w37h0000gn/T/ipykernel_1052/1583702905.py:3: UserWarning: Parsing '14-05-2012' in DD/MM/YYYY format. Provide format or specify infer_datetime_format=True for consistent parsing.\n",
      "  df['Date_of_Hire'] = pd.to_datetime(df['Date_of_Hire'])\n",
      "/var/folders/4s/ssj6hqrx2pd25m6n5s48w37h0000gn/T/ipykernel_1052/1583702905.py:3: UserWarning: Parsing '24-04-2012' in DD/MM/YYYY format. Provide format or specify infer_datetime_format=True for consistent parsing.\n",
      "  df['Date_of_Hire'] = pd.to_datetime(df['Date_of_Hire'])\n",
      "/var/folders/4s/ssj6hqrx2pd25m6n5s48w37h0000gn/T/ipykernel_1052/1583702905.py:3: UserWarning: Parsing '21-02-2012' in DD/MM/YYYY format. Provide format or specify infer_datetime_format=True for consistent parsing.\n",
      "  df['Date_of_Hire'] = pd.to_datetime(df['Date_of_Hire'])\n",
      "/var/folders/4s/ssj6hqrx2pd25m6n5s48w37h0000gn/T/ipykernel_1052/1583702905.py:3: UserWarning: Parsing '27-06-2012' in DD/MM/YYYY format. Provide format or specify infer_datetime_format=True for consistent parsing.\n",
      "  df['Date_of_Hire'] = pd.to_datetime(df['Date_of_Hire'])\n",
      "/var/folders/4s/ssj6hqrx2pd25m6n5s48w37h0000gn/T/ipykernel_1052/1583702905.py:3: UserWarning: Parsing '25-04-2012' in DD/MM/YYYY format. Provide format or specify infer_datetime_format=True for consistent parsing.\n",
      "  df['Date_of_Hire'] = pd.to_datetime(df['Date_of_Hire'])\n",
      "/var/folders/4s/ssj6hqrx2pd25m6n5s48w37h0000gn/T/ipykernel_1052/1583702905.py:3: UserWarning: Parsing '19-05-2012' in DD/MM/YYYY format. Provide format or specify infer_datetime_format=True for consistent parsing.\n",
      "  df['Date_of_Hire'] = pd.to_datetime(df['Date_of_Hire'])\n",
      "/var/folders/4s/ssj6hqrx2pd25m6n5s48w37h0000gn/T/ipykernel_1052/1583702905.py:3: UserWarning: Parsing '26-04-2012' in DD/MM/YYYY format. Provide format or specify infer_datetime_format=True for consistent parsing.\n",
      "  df['Date_of_Hire'] = pd.to_datetime(df['Date_of_Hire'])\n",
      "/var/folders/4s/ssj6hqrx2pd25m6n5s48w37h0000gn/T/ipykernel_1052/1583702905.py:3: UserWarning: Parsing '20-02-2012' in DD/MM/YYYY format. Provide format or specify infer_datetime_format=True for consistent parsing.\n",
      "  df['Date_of_Hire'] = pd.to_datetime(df['Date_of_Hire'])\n",
      "/var/folders/4s/ssj6hqrx2pd25m6n5s48w37h0000gn/T/ipykernel_1052/1583702905.py:3: UserWarning: Parsing '22-04-2012' in DD/MM/YYYY format. Provide format or specify infer_datetime_format=True for consistent parsing.\n",
      "  df['Date_of_Hire'] = pd.to_datetime(df['Date_of_Hire'])\n",
      "/var/folders/4s/ssj6hqrx2pd25m6n5s48w37h0000gn/T/ipykernel_1052/1583702905.py:3: UserWarning: Parsing '17-02-2012' in DD/MM/YYYY format. Provide format or specify infer_datetime_format=True for consistent parsing.\n",
      "  df['Date_of_Hire'] = pd.to_datetime(df['Date_of_Hire'])\n",
      "/var/folders/4s/ssj6hqrx2pd25m6n5s48w37h0000gn/T/ipykernel_1052/1583702905.py:3: UserWarning: Parsing '23-02-2012' in DD/MM/YYYY format. Provide format or specify infer_datetime_format=True for consistent parsing.\n",
      "  df['Date_of_Hire'] = pd.to_datetime(df['Date_of_Hire'])\n",
      "/var/folders/4s/ssj6hqrx2pd25m6n5s48w37h0000gn/T/ipykernel_1052/1583702905.py:3: UserWarning: Parsing '13-04-2012' in DD/MM/YYYY format. Provide format or specify infer_datetime_format=True for consistent parsing.\n",
      "  df['Date_of_Hire'] = pd.to_datetime(df['Date_of_Hire'])\n",
      "/var/folders/4s/ssj6hqrx2pd25m6n5s48w37h0000gn/T/ipykernel_1052/1583702905.py:3: UserWarning: Parsing '15-02-2012' in DD/MM/YYYY format. Provide format or specify infer_datetime_format=True for consistent parsing.\n",
      "  df['Date_of_Hire'] = pd.to_datetime(df['Date_of_Hire'])\n",
      "/var/folders/4s/ssj6hqrx2pd25m6n5s48w37h0000gn/T/ipykernel_1052/1583702905.py:3: UserWarning: Parsing '15-01-2012' in DD/MM/YYYY format. Provide format or specify infer_datetime_format=True for consistent parsing.\n",
      "  df['Date_of_Hire'] = pd.to_datetime(df['Date_of_Hire'])\n",
      "/var/folders/4s/ssj6hqrx2pd25m6n5s48w37h0000gn/T/ipykernel_1052/1583702905.py:3: UserWarning: Parsing '28-03-2012' in DD/MM/YYYY format. Provide format or specify infer_datetime_format=True for consistent parsing.\n",
      "  df['Date_of_Hire'] = pd.to_datetime(df['Date_of_Hire'])\n",
      "/var/folders/4s/ssj6hqrx2pd25m6n5s48w37h0000gn/T/ipykernel_1052/1583702905.py:3: UserWarning: Parsing '15-05-2012' in DD/MM/YYYY format. Provide format or specify infer_datetime_format=True for consistent parsing.\n",
      "  df['Date_of_Hire'] = pd.to_datetime(df['Date_of_Hire'])\n",
      "/var/folders/4s/ssj6hqrx2pd25m6n5s48w37h0000gn/T/ipykernel_1052/1583702905.py:3: UserWarning: Parsing '13-06-2012' in DD/MM/YYYY format. Provide format or specify infer_datetime_format=True for consistent parsing.\n",
      "  df['Date_of_Hire'] = pd.to_datetime(df['Date_of_Hire'])\n",
      "/var/folders/4s/ssj6hqrx2pd25m6n5s48w37h0000gn/T/ipykernel_1052/1583702905.py:3: UserWarning: Parsing '18-02-2012' in DD/MM/YYYY format. Provide format or specify infer_datetime_format=True for consistent parsing.\n",
      "  df['Date_of_Hire'] = pd.to_datetime(df['Date_of_Hire'])\n",
      "/var/folders/4s/ssj6hqrx2pd25m6n5s48w37h0000gn/T/ipykernel_1052/1583702905.py:3: UserWarning: Parsing '19-06-2012' in DD/MM/YYYY format. Provide format or specify infer_datetime_format=True for consistent parsing.\n",
      "  df['Date_of_Hire'] = pd.to_datetime(df['Date_of_Hire'])\n",
      "/var/folders/4s/ssj6hqrx2pd25m6n5s48w37h0000gn/T/ipykernel_1052/1583702905.py:3: UserWarning: Parsing '30-04-2012' in DD/MM/YYYY format. Provide format or specify infer_datetime_format=True for consistent parsing.\n",
      "  df['Date_of_Hire'] = pd.to_datetime(df['Date_of_Hire'])\n",
      "/var/folders/4s/ssj6hqrx2pd25m6n5s48w37h0000gn/T/ipykernel_1052/1583702905.py:3: UserWarning: Parsing '24-03-2012' in DD/MM/YYYY format. Provide format or specify infer_datetime_format=True for consistent parsing.\n",
      "  df['Date_of_Hire'] = pd.to_datetime(df['Date_of_Hire'])\n",
      "/var/folders/4s/ssj6hqrx2pd25m6n5s48w37h0000gn/T/ipykernel_1052/1583702905.py:3: UserWarning: Parsing '16-05-2012' in DD/MM/YYYY format. Provide format or specify infer_datetime_format=True for consistent parsing.\n",
      "  df['Date_of_Hire'] = pd.to_datetime(df['Date_of_Hire'])\n",
      "/var/folders/4s/ssj6hqrx2pd25m6n5s48w37h0000gn/T/ipykernel_1052/1583702905.py:3: UserWarning: Parsing '14-06-2012' in DD/MM/YYYY format. Provide format or specify infer_datetime_format=True for consistent parsing.\n",
      "  df['Date_of_Hire'] = pd.to_datetime(df['Date_of_Hire'])\n",
      "/var/folders/4s/ssj6hqrx2pd25m6n5s48w37h0000gn/T/ipykernel_1052/1583702905.py:3: UserWarning: Parsing '20-03-2012' in DD/MM/YYYY format. Provide format or specify infer_datetime_format=True for consistent parsing.\n",
      "  df['Date_of_Hire'] = pd.to_datetime(df['Date_of_Hire'])\n",
      "/var/folders/4s/ssj6hqrx2pd25m6n5s48w37h0000gn/T/ipykernel_1052/1583702905.py:3: UserWarning: Parsing '29-02-2012' in DD/MM/YYYY format. Provide format or specify infer_datetime_format=True for consistent parsing.\n",
      "  df['Date_of_Hire'] = pd.to_datetime(df['Date_of_Hire'])\n",
      "/var/folders/4s/ssj6hqrx2pd25m6n5s48w37h0000gn/T/ipykernel_1052/1583702905.py:3: UserWarning: Parsing '18-04-2012' in DD/MM/YYYY format. Provide format or specify infer_datetime_format=True for consistent parsing.\n",
      "  df['Date_of_Hire'] = pd.to_datetime(df['Date_of_Hire'])\n",
      "/var/folders/4s/ssj6hqrx2pd25m6n5s48w37h0000gn/T/ipykernel_1052/1583702905.py:3: UserWarning: Parsing '15-03-2012' in DD/MM/YYYY format. Provide format or specify infer_datetime_format=True for consistent parsing.\n",
      "  df['Date_of_Hire'] = pd.to_datetime(df['Date_of_Hire'])\n",
      "/var/folders/4s/ssj6hqrx2pd25m6n5s48w37h0000gn/T/ipykernel_1052/1583702905.py:3: UserWarning: Parsing '16-03-2012' in DD/MM/YYYY format. Provide format or specify infer_datetime_format=True for consistent parsing.\n",
      "  df['Date_of_Hire'] = pd.to_datetime(df['Date_of_Hire'])\n",
      "/var/folders/4s/ssj6hqrx2pd25m6n5s48w37h0000gn/T/ipykernel_1052/1583702905.py:3: UserWarning: Parsing '28-04-2012' in DD/MM/YYYY format. Provide format or specify infer_datetime_format=True for consistent parsing.\n",
      "  df['Date_of_Hire'] = pd.to_datetime(df['Date_of_Hire'])\n",
      "/var/folders/4s/ssj6hqrx2pd25m6n5s48w37h0000gn/T/ipykernel_1052/1583702905.py:3: UserWarning: Parsing '28-01-2012' in DD/MM/YYYY format. Provide format or specify infer_datetime_format=True for consistent parsing.\n",
      "  df['Date_of_Hire'] = pd.to_datetime(df['Date_of_Hire'])\n",
      "/var/folders/4s/ssj6hqrx2pd25m6n5s48w37h0000gn/T/ipykernel_1052/1583702905.py:3: UserWarning: Parsing '16-02-2012' in DD/MM/YYYY format. Provide format or specify infer_datetime_format=True for consistent parsing.\n",
      "  df['Date_of_Hire'] = pd.to_datetime(df['Date_of_Hire'])\n",
      "/var/folders/4s/ssj6hqrx2pd25m6n5s48w37h0000gn/T/ipykernel_1052/1583702905.py:3: UserWarning: Parsing '30-06-2012' in DD/MM/YYYY format. Provide format or specify infer_datetime_format=True for consistent parsing.\n",
      "  df['Date_of_Hire'] = pd.to_datetime(df['Date_of_Hire'])\n",
      "/var/folders/4s/ssj6hqrx2pd25m6n5s48w37h0000gn/T/ipykernel_1052/1583702905.py:3: UserWarning: Parsing '19-02-2012' in DD/MM/YYYY format. Provide format or specify infer_datetime_format=True for consistent parsing.\n",
      "  df['Date_of_Hire'] = pd.to_datetime(df['Date_of_Hire'])\n",
      "/var/folders/4s/ssj6hqrx2pd25m6n5s48w37h0000gn/T/ipykernel_1052/1583702905.py:3: UserWarning: Parsing '28-05-2012' in DD/MM/YYYY format. Provide format or specify infer_datetime_format=True for consistent parsing.\n",
      "  df['Date_of_Hire'] = pd.to_datetime(df['Date_of_Hire'])\n",
      "/var/folders/4s/ssj6hqrx2pd25m6n5s48w37h0000gn/T/ipykernel_1052/1583702905.py:3: UserWarning: Parsing '23-06-2012' in DD/MM/YYYY format. Provide format or specify infer_datetime_format=True for consistent parsing.\n",
      "  df['Date_of_Hire'] = pd.to_datetime(df['Date_of_Hire'])\n",
      "/var/folders/4s/ssj6hqrx2pd25m6n5s48w37h0000gn/T/ipykernel_1052/1583702905.py:3: UserWarning: Parsing '26-06-2012' in DD/MM/YYYY format. Provide format or specify infer_datetime_format=True for consistent parsing.\n",
      "  df['Date_of_Hire'] = pd.to_datetime(df['Date_of_Hire'])\n",
      "/var/folders/4s/ssj6hqrx2pd25m6n5s48w37h0000gn/T/ipykernel_1052/1583702905.py:3: UserWarning: Parsing '16-06-2012' in DD/MM/YYYY format. Provide format or specify infer_datetime_format=True for consistent parsing.\n",
      "  df['Date_of_Hire'] = pd.to_datetime(df['Date_of_Hire'])\n",
      "/var/folders/4s/ssj6hqrx2pd25m6n5s48w37h0000gn/T/ipykernel_1052/1583702905.py:3: UserWarning: Parsing '24-02-2012' in DD/MM/YYYY format. Provide format or specify infer_datetime_format=True for consistent parsing.\n",
      "  df['Date_of_Hire'] = pd.to_datetime(df['Date_of_Hire'])\n",
      "/var/folders/4s/ssj6hqrx2pd25m6n5s48w37h0000gn/T/ipykernel_1052/1583702905.py:3: UserWarning: Parsing '17-03-2012' in DD/MM/YYYY format. Provide format or specify infer_datetime_format=True for consistent parsing.\n",
      "  df['Date_of_Hire'] = pd.to_datetime(df['Date_of_Hire'])\n",
      "/var/folders/4s/ssj6hqrx2pd25m6n5s48w37h0000gn/T/ipykernel_1052/1583702905.py:3: UserWarning: Parsing '27-03-2011' in DD/MM/YYYY format. Provide format or specify infer_datetime_format=True for consistent parsing.\n",
      "  df['Date_of_Hire'] = pd.to_datetime(df['Date_of_Hire'])\n",
      "/var/folders/4s/ssj6hqrx2pd25m6n5s48w37h0000gn/T/ipykernel_1052/1583702905.py:3: UserWarning: Parsing '20-06-2011' in DD/MM/YYYY format. Provide format or specify infer_datetime_format=True for consistent parsing.\n",
      "  df['Date_of_Hire'] = pd.to_datetime(df['Date_of_Hire'])\n",
      "/var/folders/4s/ssj6hqrx2pd25m6n5s48w37h0000gn/T/ipykernel_1052/1583702905.py:3: UserWarning: Parsing '22-03-2011' in DD/MM/YYYY format. Provide format or specify infer_datetime_format=True for consistent parsing.\n",
      "  df['Date_of_Hire'] = pd.to_datetime(df['Date_of_Hire'])\n",
      "/var/folders/4s/ssj6hqrx2pd25m6n5s48w37h0000gn/T/ipykernel_1052/1583702905.py:3: UserWarning: Parsing '15-05-2011' in DD/MM/YYYY format. Provide format or specify infer_datetime_format=True for consistent parsing.\n",
      "  df['Date_of_Hire'] = pd.to_datetime(df['Date_of_Hire'])\n",
      "/var/folders/4s/ssj6hqrx2pd25m6n5s48w37h0000gn/T/ipykernel_1052/1583702905.py:3: UserWarning: Parsing '30-06-2011' in DD/MM/YYYY format. Provide format or specify infer_datetime_format=True for consistent parsing.\n",
      "  df['Date_of_Hire'] = pd.to_datetime(df['Date_of_Hire'])\n",
      "/var/folders/4s/ssj6hqrx2pd25m6n5s48w37h0000gn/T/ipykernel_1052/1583702905.py:3: UserWarning: Parsing '27-04-2011' in DD/MM/YYYY format. Provide format or specify infer_datetime_format=True for consistent parsing.\n",
      "  df['Date_of_Hire'] = pd.to_datetime(df['Date_of_Hire'])\n",
      "/var/folders/4s/ssj6hqrx2pd25m6n5s48w37h0000gn/T/ipykernel_1052/1583702905.py:3: UserWarning: Parsing '21-06-2011' in DD/MM/YYYY format. Provide format or specify infer_datetime_format=True for consistent parsing.\n",
      "  df['Date_of_Hire'] = pd.to_datetime(df['Date_of_Hire'])\n",
      "/var/folders/4s/ssj6hqrx2pd25m6n5s48w37h0000gn/T/ipykernel_1052/1583702905.py:3: UserWarning: Parsing '21-04-2011' in DD/MM/YYYY format. Provide format or specify infer_datetime_format=True for consistent parsing.\n",
      "  df['Date_of_Hire'] = pd.to_datetime(df['Date_of_Hire'])\n",
      "/var/folders/4s/ssj6hqrx2pd25m6n5s48w37h0000gn/T/ipykernel_1052/1583702905.py:3: UserWarning: Parsing '18-02-2011' in DD/MM/YYYY format. Provide format or specify infer_datetime_format=True for consistent parsing.\n",
      "  df['Date_of_Hire'] = pd.to_datetime(df['Date_of_Hire'])\n",
      "/var/folders/4s/ssj6hqrx2pd25m6n5s48w37h0000gn/T/ipykernel_1052/1583702905.py:3: UserWarning: Parsing '24-05-2011' in DD/MM/YYYY format. Provide format or specify infer_datetime_format=True for consistent parsing.\n",
      "  df['Date_of_Hire'] = pd.to_datetime(df['Date_of_Hire'])\n",
      "/var/folders/4s/ssj6hqrx2pd25m6n5s48w37h0000gn/T/ipykernel_1052/1583702905.py:3: UserWarning: Parsing '20-04-2011' in DD/MM/YYYY format. Provide format or specify infer_datetime_format=True for consistent parsing.\n",
      "  df['Date_of_Hire'] = pd.to_datetime(df['Date_of_Hire'])\n",
      "/var/folders/4s/ssj6hqrx2pd25m6n5s48w37h0000gn/T/ipykernel_1052/1583702905.py:3: UserWarning: Parsing '17-04-2011' in DD/MM/YYYY format. Provide format or specify infer_datetime_format=True for consistent parsing.\n",
      "  df['Date_of_Hire'] = pd.to_datetime(df['Date_of_Hire'])\n",
      "/var/folders/4s/ssj6hqrx2pd25m6n5s48w37h0000gn/T/ipykernel_1052/1583702905.py:3: UserWarning: Parsing '13-01-2011' in DD/MM/YYYY format. Provide format or specify infer_datetime_format=True for consistent parsing.\n",
      "  df['Date_of_Hire'] = pd.to_datetime(df['Date_of_Hire'])\n",
      "/var/folders/4s/ssj6hqrx2pd25m6n5s48w37h0000gn/T/ipykernel_1052/1583702905.py:3: UserWarning: Parsing '31-01-2011' in DD/MM/YYYY format. Provide format or specify infer_datetime_format=True for consistent parsing.\n",
      "  df['Date_of_Hire'] = pd.to_datetime(df['Date_of_Hire'])\n",
      "/var/folders/4s/ssj6hqrx2pd25m6n5s48w37h0000gn/T/ipykernel_1052/1583702905.py:3: UserWarning: Parsing '17-06-2011' in DD/MM/YYYY format. Provide format or specify infer_datetime_format=True for consistent parsing.\n",
      "  df['Date_of_Hire'] = pd.to_datetime(df['Date_of_Hire'])\n",
      "/var/folders/4s/ssj6hqrx2pd25m6n5s48w37h0000gn/T/ipykernel_1052/1583702905.py:3: UserWarning: Parsing '30-05-2011' in DD/MM/YYYY format. Provide format or specify infer_datetime_format=True for consistent parsing.\n",
      "  df['Date_of_Hire'] = pd.to_datetime(df['Date_of_Hire'])\n",
      "/var/folders/4s/ssj6hqrx2pd25m6n5s48w37h0000gn/T/ipykernel_1052/1583702905.py:3: UserWarning: Parsing '17-01-2011' in DD/MM/YYYY format. Provide format or specify infer_datetime_format=True for consistent parsing.\n",
      "  df['Date_of_Hire'] = pd.to_datetime(df['Date_of_Hire'])\n",
      "/var/folders/4s/ssj6hqrx2pd25m6n5s48w37h0000gn/T/ipykernel_1052/1583702905.py:3: UserWarning: Parsing '23-05-2011' in DD/MM/YYYY format. Provide format or specify infer_datetime_format=True for consistent parsing.\n",
      "  df['Date_of_Hire'] = pd.to_datetime(df['Date_of_Hire'])\n",
      "/var/folders/4s/ssj6hqrx2pd25m6n5s48w37h0000gn/T/ipykernel_1052/1583702905.py:3: UserWarning: Parsing '21-03-2011' in DD/MM/YYYY format. Provide format or specify infer_datetime_format=True for consistent parsing.\n",
      "  df['Date_of_Hire'] = pd.to_datetime(df['Date_of_Hire'])\n",
      "/var/folders/4s/ssj6hqrx2pd25m6n5s48w37h0000gn/T/ipykernel_1052/1583702905.py:3: UserWarning: Parsing '23-01-2011' in DD/MM/YYYY format. Provide format or specify infer_datetime_format=True for consistent parsing.\n",
      "  df['Date_of_Hire'] = pd.to_datetime(df['Date_of_Hire'])\n",
      "/var/folders/4s/ssj6hqrx2pd25m6n5s48w37h0000gn/T/ipykernel_1052/1583702905.py:3: UserWarning: Parsing '27-02-2011' in DD/MM/YYYY format. Provide format or specify infer_datetime_format=True for consistent parsing.\n",
      "  df['Date_of_Hire'] = pd.to_datetime(df['Date_of_Hire'])\n",
      "/var/folders/4s/ssj6hqrx2pd25m6n5s48w37h0000gn/T/ipykernel_1052/1583702905.py:3: UserWarning: Parsing '16-01-2011' in DD/MM/YYYY format. Provide format or specify infer_datetime_format=True for consistent parsing.\n",
      "  df['Date_of_Hire'] = pd.to_datetime(df['Date_of_Hire'])\n",
      "/var/folders/4s/ssj6hqrx2pd25m6n5s48w37h0000gn/T/ipykernel_1052/1583702905.py:3: UserWarning: Parsing '22-04-2011' in DD/MM/YYYY format. Provide format or specify infer_datetime_format=True for consistent parsing.\n",
      "  df['Date_of_Hire'] = pd.to_datetime(df['Date_of_Hire'])\n",
      "/var/folders/4s/ssj6hqrx2pd25m6n5s48w37h0000gn/T/ipykernel_1052/1583702905.py:3: UserWarning: Parsing '29-01-2011' in DD/MM/YYYY format. Provide format or specify infer_datetime_format=True for consistent parsing.\n",
      "  df['Date_of_Hire'] = pd.to_datetime(df['Date_of_Hire'])\n",
      "/var/folders/4s/ssj6hqrx2pd25m6n5s48w37h0000gn/T/ipykernel_1052/1583702905.py:3: UserWarning: Parsing '13-04-2011' in DD/MM/YYYY format. Provide format or specify infer_datetime_format=True for consistent parsing.\n",
      "  df['Date_of_Hire'] = pd.to_datetime(df['Date_of_Hire'])\n",
      "/var/folders/4s/ssj6hqrx2pd25m6n5s48w37h0000gn/T/ipykernel_1052/1583702905.py:3: UserWarning: Parsing '27-06-2011' in DD/MM/YYYY format. Provide format or specify infer_datetime_format=True for consistent parsing.\n",
      "  df['Date_of_Hire'] = pd.to_datetime(df['Date_of_Hire'])\n",
      "/var/folders/4s/ssj6hqrx2pd25m6n5s48w37h0000gn/T/ipykernel_1052/1583702905.py:3: UserWarning: Parsing '19-02-2011' in DD/MM/YYYY format. Provide format or specify infer_datetime_format=True for consistent parsing.\n",
      "  df['Date_of_Hire'] = pd.to_datetime(df['Date_of_Hire'])\n",
      "/var/folders/4s/ssj6hqrx2pd25m6n5s48w37h0000gn/T/ipykernel_1052/1583702905.py:3: UserWarning: Parsing '18-05-2011' in DD/MM/YYYY format. Provide format or specify infer_datetime_format=True for consistent parsing.\n",
      "  df['Date_of_Hire'] = pd.to_datetime(df['Date_of_Hire'])\n",
      "/var/folders/4s/ssj6hqrx2pd25m6n5s48w37h0000gn/T/ipykernel_1052/1583702905.py:3: UserWarning: Parsing '27-05-2011' in DD/MM/YYYY format. Provide format or specify infer_datetime_format=True for consistent parsing.\n",
      "  df['Date_of_Hire'] = pd.to_datetime(df['Date_of_Hire'])\n",
      "/var/folders/4s/ssj6hqrx2pd25m6n5s48w37h0000gn/T/ipykernel_1052/1583702905.py:3: UserWarning: Parsing '23-03-2011' in DD/MM/YYYY format. Provide format or specify infer_datetime_format=True for consistent parsing.\n",
      "  df['Date_of_Hire'] = pd.to_datetime(df['Date_of_Hire'])\n",
      "/var/folders/4s/ssj6hqrx2pd25m6n5s48w37h0000gn/T/ipykernel_1052/1583702905.py:3: UserWarning: Parsing '26-05-2011' in DD/MM/YYYY format. Provide format or specify infer_datetime_format=True for consistent parsing.\n",
      "  df['Date_of_Hire'] = pd.to_datetime(df['Date_of_Hire'])\n",
      "/var/folders/4s/ssj6hqrx2pd25m6n5s48w37h0000gn/T/ipykernel_1052/1583702905.py:3: UserWarning: Parsing '25-04-2011' in DD/MM/YYYY format. Provide format or specify infer_datetime_format=True for consistent parsing.\n",
      "  df['Date_of_Hire'] = pd.to_datetime(df['Date_of_Hire'])\n",
      "/var/folders/4s/ssj6hqrx2pd25m6n5s48w37h0000gn/T/ipykernel_1052/1583702905.py:3: UserWarning: Parsing '21-01-2011' in DD/MM/YYYY format. Provide format or specify infer_datetime_format=True for consistent parsing.\n",
      "  df['Date_of_Hire'] = pd.to_datetime(df['Date_of_Hire'])\n",
      "/var/folders/4s/ssj6hqrx2pd25m6n5s48w37h0000gn/T/ipykernel_1052/1583702905.py:3: UserWarning: Parsing '25-05-2011' in DD/MM/YYYY format. Provide format or specify infer_datetime_format=True for consistent parsing.\n",
      "  df['Date_of_Hire'] = pd.to_datetime(df['Date_of_Hire'])\n",
      "/var/folders/4s/ssj6hqrx2pd25m6n5s48w37h0000gn/T/ipykernel_1052/1583702905.py:3: UserWarning: Parsing '16-05-2011' in DD/MM/YYYY format. Provide format or specify infer_datetime_format=True for consistent parsing.\n",
      "  df['Date_of_Hire'] = pd.to_datetime(df['Date_of_Hire'])\n",
      "/var/folders/4s/ssj6hqrx2pd25m6n5s48w37h0000gn/T/ipykernel_1052/1583702905.py:3: UserWarning: Parsing '28-06-2011' in DD/MM/YYYY format. Provide format or specify infer_datetime_format=True for consistent parsing.\n",
      "  df['Date_of_Hire'] = pd.to_datetime(df['Date_of_Hire'])\n",
      "/var/folders/4s/ssj6hqrx2pd25m6n5s48w37h0000gn/T/ipykernel_1052/1583702905.py:3: UserWarning: Parsing '22-05-2011' in DD/MM/YYYY format. Provide format or specify infer_datetime_format=True for consistent parsing.\n",
      "  df['Date_of_Hire'] = pd.to_datetime(df['Date_of_Hire'])\n",
      "/var/folders/4s/ssj6hqrx2pd25m6n5s48w37h0000gn/T/ipykernel_1052/1583702905.py:3: UserWarning: Parsing '19-03-2011' in DD/MM/YYYY format. Provide format or specify infer_datetime_format=True for consistent parsing.\n",
      "  df['Date_of_Hire'] = pd.to_datetime(df['Date_of_Hire'])\n",
      "/var/folders/4s/ssj6hqrx2pd25m6n5s48w37h0000gn/T/ipykernel_1052/1583702905.py:3: UserWarning: Parsing '30-03-2011' in DD/MM/YYYY format. Provide format or specify infer_datetime_format=True for consistent parsing.\n",
      "  df['Date_of_Hire'] = pd.to_datetime(df['Date_of_Hire'])\n",
      "/var/folders/4s/ssj6hqrx2pd25m6n5s48w37h0000gn/T/ipykernel_1052/1583702905.py:3: UserWarning: Parsing '26-02-2011' in DD/MM/YYYY format. Provide format or specify infer_datetime_format=True for consistent parsing.\n",
      "  df['Date_of_Hire'] = pd.to_datetime(df['Date_of_Hire'])\n",
      "/var/folders/4s/ssj6hqrx2pd25m6n5s48w37h0000gn/T/ipykernel_1052/1583702905.py:3: UserWarning: Parsing '28-02-2011' in DD/MM/YYYY format. Provide format or specify infer_datetime_format=True for consistent parsing.\n",
      "  df['Date_of_Hire'] = pd.to_datetime(df['Date_of_Hire'])\n",
      "/var/folders/4s/ssj6hqrx2pd25m6n5s48w37h0000gn/T/ipykernel_1052/1583702905.py:3: UserWarning: Parsing '24-02-2011' in DD/MM/YYYY format. Provide format or specify infer_datetime_format=True for consistent parsing.\n",
      "  df['Date_of_Hire'] = pd.to_datetime(df['Date_of_Hire'])\n",
      "/var/folders/4s/ssj6hqrx2pd25m6n5s48w37h0000gn/T/ipykernel_1052/1583702905.py:3: UserWarning: Parsing '26-03-2011' in DD/MM/YYYY format. Provide format or specify infer_datetime_format=True for consistent parsing.\n",
      "  df['Date_of_Hire'] = pd.to_datetime(df['Date_of_Hire'])\n",
      "/var/folders/4s/ssj6hqrx2pd25m6n5s48w37h0000gn/T/ipykernel_1052/1583702905.py:3: UserWarning: Parsing '16-03-2011' in DD/MM/YYYY format. Provide format or specify infer_datetime_format=True for consistent parsing.\n",
      "  df['Date_of_Hire'] = pd.to_datetime(df['Date_of_Hire'])\n",
      "/var/folders/4s/ssj6hqrx2pd25m6n5s48w37h0000gn/T/ipykernel_1052/1583702905.py:3: UserWarning: Parsing '20-03-2011' in DD/MM/YYYY format. Provide format or specify infer_datetime_format=True for consistent parsing.\n",
      "  df['Date_of_Hire'] = pd.to_datetime(df['Date_of_Hire'])\n",
      "/var/folders/4s/ssj6hqrx2pd25m6n5s48w37h0000gn/T/ipykernel_1052/1583702905.py:3: UserWarning: Parsing '18-01-2011' in DD/MM/YYYY format. Provide format or specify infer_datetime_format=True for consistent parsing.\n",
      "  df['Date_of_Hire'] = pd.to_datetime(df['Date_of_Hire'])\n",
      "/var/folders/4s/ssj6hqrx2pd25m6n5s48w37h0000gn/T/ipykernel_1052/1583702905.py:3: UserWarning: Parsing '18-04-2011' in DD/MM/YYYY format. Provide format or specify infer_datetime_format=True for consistent parsing.\n",
      "  df['Date_of_Hire'] = pd.to_datetime(df['Date_of_Hire'])\n",
      "/var/folders/4s/ssj6hqrx2pd25m6n5s48w37h0000gn/T/ipykernel_1052/1583702905.py:3: UserWarning: Parsing '23-02-2011' in DD/MM/YYYY format. Provide format or specify infer_datetime_format=True for consistent parsing.\n",
      "  df['Date_of_Hire'] = pd.to_datetime(df['Date_of_Hire'])\n",
      "/var/folders/4s/ssj6hqrx2pd25m6n5s48w37h0000gn/T/ipykernel_1052/1583702905.py:3: UserWarning: Parsing '19-04-2011' in DD/MM/YYYY format. Provide format or specify infer_datetime_format=True for consistent parsing.\n",
      "  df['Date_of_Hire'] = pd.to_datetime(df['Date_of_Hire'])\n",
      "/var/folders/4s/ssj6hqrx2pd25m6n5s48w37h0000gn/T/ipykernel_1052/1583702905.py:3: UserWarning: Parsing '23-03-2010' in DD/MM/YYYY format. Provide format or specify infer_datetime_format=True for consistent parsing.\n",
      "  df['Date_of_Hire'] = pd.to_datetime(df['Date_of_Hire'])\n",
      "/var/folders/4s/ssj6hqrx2pd25m6n5s48w37h0000gn/T/ipykernel_1052/1583702905.py:3: UserWarning: Parsing '28-05-2010' in DD/MM/YYYY format. Provide format or specify infer_datetime_format=True for consistent parsing.\n",
      "  df['Date_of_Hire'] = pd.to_datetime(df['Date_of_Hire'])\n",
      "/var/folders/4s/ssj6hqrx2pd25m6n5s48w37h0000gn/T/ipykernel_1052/1583702905.py:3: UserWarning: Parsing '21-06-2010' in DD/MM/YYYY format. Provide format or specify infer_datetime_format=True for consistent parsing.\n",
      "  df['Date_of_Hire'] = pd.to_datetime(df['Date_of_Hire'])\n",
      "/var/folders/4s/ssj6hqrx2pd25m6n5s48w37h0000gn/T/ipykernel_1052/1583702905.py:3: UserWarning: Parsing '17-01-2010' in DD/MM/YYYY format. Provide format or specify infer_datetime_format=True for consistent parsing.\n",
      "  df['Date_of_Hire'] = pd.to_datetime(df['Date_of_Hire'])\n",
      "/var/folders/4s/ssj6hqrx2pd25m6n5s48w37h0000gn/T/ipykernel_1052/1583702905.py:3: UserWarning: Parsing '29-06-2010' in DD/MM/YYYY format. Provide format or specify infer_datetime_format=True for consistent parsing.\n",
      "  df['Date_of_Hire'] = pd.to_datetime(df['Date_of_Hire'])\n",
      "/var/folders/4s/ssj6hqrx2pd25m6n5s48w37h0000gn/T/ipykernel_1052/1583702905.py:3: UserWarning: Parsing '14-01-2010' in DD/MM/YYYY format. Provide format or specify infer_datetime_format=True for consistent parsing.\n",
      "  df['Date_of_Hire'] = pd.to_datetime(df['Date_of_Hire'])\n",
      "/var/folders/4s/ssj6hqrx2pd25m6n5s48w37h0000gn/T/ipykernel_1052/1583702905.py:3: UserWarning: Parsing '29-03-2010' in DD/MM/YYYY format. Provide format or specify infer_datetime_format=True for consistent parsing.\n",
      "  df['Date_of_Hire'] = pd.to_datetime(df['Date_of_Hire'])\n",
      "/var/folders/4s/ssj6hqrx2pd25m6n5s48w37h0000gn/T/ipykernel_1052/1583702905.py:3: UserWarning: Parsing '30-03-2010' in DD/MM/YYYY format. Provide format or specify infer_datetime_format=True for consistent parsing.\n",
      "  df['Date_of_Hire'] = pd.to_datetime(df['Date_of_Hire'])\n",
      "/var/folders/4s/ssj6hqrx2pd25m6n5s48w37h0000gn/T/ipykernel_1052/1583702905.py:3: UserWarning: Parsing '18-03-2010' in DD/MM/YYYY format. Provide format or specify infer_datetime_format=True for consistent parsing.\n",
      "  df['Date_of_Hire'] = pd.to_datetime(df['Date_of_Hire'])\n",
      "/var/folders/4s/ssj6hqrx2pd25m6n5s48w37h0000gn/T/ipykernel_1052/1583702905.py:3: UserWarning: Parsing '22-06-2010' in DD/MM/YYYY format. Provide format or specify infer_datetime_format=True for consistent parsing.\n",
      "  df['Date_of_Hire'] = pd.to_datetime(df['Date_of_Hire'])\n",
      "/var/folders/4s/ssj6hqrx2pd25m6n5s48w37h0000gn/T/ipykernel_1052/1583702905.py:3: UserWarning: Parsing '19-03-2010' in DD/MM/YYYY format. Provide format or specify infer_datetime_format=True for consistent parsing.\n",
      "  df['Date_of_Hire'] = pd.to_datetime(df['Date_of_Hire'])\n",
      "/var/folders/4s/ssj6hqrx2pd25m6n5s48w37h0000gn/T/ipykernel_1052/1583702905.py:3: UserWarning: Parsing '19-06-2010' in DD/MM/YYYY format. Provide format or specify infer_datetime_format=True for consistent parsing.\n",
      "  df['Date_of_Hire'] = pd.to_datetime(df['Date_of_Hire'])\n",
      "/var/folders/4s/ssj6hqrx2pd25m6n5s48w37h0000gn/T/ipykernel_1052/1583702905.py:3: UserWarning: Parsing '15-04-2010' in DD/MM/YYYY format. Provide format or specify infer_datetime_format=True for consistent parsing.\n",
      "  df['Date_of_Hire'] = pd.to_datetime(df['Date_of_Hire'])\n",
      "/var/folders/4s/ssj6hqrx2pd25m6n5s48w37h0000gn/T/ipykernel_1052/1583702905.py:3: UserWarning: Parsing '24-06-2010' in DD/MM/YYYY format. Provide format or specify infer_datetime_format=True for consistent parsing.\n",
      "  df['Date_of_Hire'] = pd.to_datetime(df['Date_of_Hire'])\n",
      "/var/folders/4s/ssj6hqrx2pd25m6n5s48w37h0000gn/T/ipykernel_1052/1583702905.py:3: UserWarning: Parsing '24-02-2010' in DD/MM/YYYY format. Provide format or specify infer_datetime_format=True for consistent parsing.\n",
      "  df['Date_of_Hire'] = pd.to_datetime(df['Date_of_Hire'])\n",
      "/var/folders/4s/ssj6hqrx2pd25m6n5s48w37h0000gn/T/ipykernel_1052/1583702905.py:3: UserWarning: Parsing '15-06-2010' in DD/MM/YYYY format. Provide format or specify infer_datetime_format=True for consistent parsing.\n",
      "  df['Date_of_Hire'] = pd.to_datetime(df['Date_of_Hire'])\n",
      "/var/folders/4s/ssj6hqrx2pd25m6n5s48w37h0000gn/T/ipykernel_1052/1583702905.py:3: UserWarning: Parsing '28-06-2010' in DD/MM/YYYY format. Provide format or specify infer_datetime_format=True for consistent parsing.\n",
      "  df['Date_of_Hire'] = pd.to_datetime(df['Date_of_Hire'])\n",
      "/var/folders/4s/ssj6hqrx2pd25m6n5s48w37h0000gn/T/ipykernel_1052/1583702905.py:3: UserWarning: Parsing '24-05-2010' in DD/MM/YYYY format. Provide format or specify infer_datetime_format=True for consistent parsing.\n",
      "  df['Date_of_Hire'] = pd.to_datetime(df['Date_of_Hire'])\n",
      "/var/folders/4s/ssj6hqrx2pd25m6n5s48w37h0000gn/T/ipykernel_1052/1583702905.py:3: UserWarning: Parsing '15-03-2010' in DD/MM/YYYY format. Provide format or specify infer_datetime_format=True for consistent parsing.\n",
      "  df['Date_of_Hire'] = pd.to_datetime(df['Date_of_Hire'])\n",
      "/var/folders/4s/ssj6hqrx2pd25m6n5s48w37h0000gn/T/ipykernel_1052/1583702905.py:3: UserWarning: Parsing '26-06-2010' in DD/MM/YYYY format. Provide format or specify infer_datetime_format=True for consistent parsing.\n",
      "  df['Date_of_Hire'] = pd.to_datetime(df['Date_of_Hire'])\n",
      "/var/folders/4s/ssj6hqrx2pd25m6n5s48w37h0000gn/T/ipykernel_1052/1583702905.py:3: UserWarning: Parsing '16-04-2010' in DD/MM/YYYY format. Provide format or specify infer_datetime_format=True for consistent parsing.\n",
      "  df['Date_of_Hire'] = pd.to_datetime(df['Date_of_Hire'])\n",
      "/var/folders/4s/ssj6hqrx2pd25m6n5s48w37h0000gn/T/ipykernel_1052/1583702905.py:3: UserWarning: Parsing '18-04-2010' in DD/MM/YYYY format. Provide format or specify infer_datetime_format=True for consistent parsing.\n",
      "  df['Date_of_Hire'] = pd.to_datetime(df['Date_of_Hire'])\n",
      "/var/folders/4s/ssj6hqrx2pd25m6n5s48w37h0000gn/T/ipykernel_1052/1583702905.py:3: UserWarning: Parsing '13-04-2010' in DD/MM/YYYY format. Provide format or specify infer_datetime_format=True for consistent parsing.\n",
      "  df['Date_of_Hire'] = pd.to_datetime(df['Date_of_Hire'])\n",
      "/var/folders/4s/ssj6hqrx2pd25m6n5s48w37h0000gn/T/ipykernel_1052/1583702905.py:3: UserWarning: Parsing '28-04-2010' in DD/MM/YYYY format. Provide format or specify infer_datetime_format=True for consistent parsing.\n",
      "  df['Date_of_Hire'] = pd.to_datetime(df['Date_of_Hire'])\n",
      "/var/folders/4s/ssj6hqrx2pd25m6n5s48w37h0000gn/T/ipykernel_1052/1583702905.py:3: UserWarning: Parsing '13-06-2010' in DD/MM/YYYY format. Provide format or specify infer_datetime_format=True for consistent parsing.\n",
      "  df['Date_of_Hire'] = pd.to_datetime(df['Date_of_Hire'])\n",
      "/var/folders/4s/ssj6hqrx2pd25m6n5s48w37h0000gn/T/ipykernel_1052/1583702905.py:3: UserWarning: Parsing '25-02-2009' in DD/MM/YYYY format. Provide format or specify infer_datetime_format=True for consistent parsing.\n",
      "  df['Date_of_Hire'] = pd.to_datetime(df['Date_of_Hire'])\n",
      "/var/folders/4s/ssj6hqrx2pd25m6n5s48w37h0000gn/T/ipykernel_1052/1583702905.py:3: UserWarning: Parsing '25-05-2009' in DD/MM/YYYY format. Provide format or specify infer_datetime_format=True for consistent parsing.\n",
      "  df['Date_of_Hire'] = pd.to_datetime(df['Date_of_Hire'])\n",
      "/var/folders/4s/ssj6hqrx2pd25m6n5s48w37h0000gn/T/ipykernel_1052/1583702905.py:3: UserWarning: Parsing '31-03-2009' in DD/MM/YYYY format. Provide format or specify infer_datetime_format=True for consistent parsing.\n",
      "  df['Date_of_Hire'] = pd.to_datetime(df['Date_of_Hire'])\n",
      "/var/folders/4s/ssj6hqrx2pd25m6n5s48w37h0000gn/T/ipykernel_1052/1583702905.py:3: UserWarning: Parsing '19-01-2009' in DD/MM/YYYY format. Provide format or specify infer_datetime_format=True for consistent parsing.\n",
      "  df['Date_of_Hire'] = pd.to_datetime(df['Date_of_Hire'])\n",
      "/var/folders/4s/ssj6hqrx2pd25m6n5s48w37h0000gn/T/ipykernel_1052/1583702905.py:3: UserWarning: Parsing '25-03-2009' in DD/MM/YYYY format. Provide format or specify infer_datetime_format=True for consistent parsing.\n",
      "  df['Date_of_Hire'] = pd.to_datetime(df['Date_of_Hire'])\n",
      "/var/folders/4s/ssj6hqrx2pd25m6n5s48w37h0000gn/T/ipykernel_1052/1583702905.py:3: UserWarning: Parsing '16-03-2009' in DD/MM/YYYY format. Provide format or specify infer_datetime_format=True for consistent parsing.\n",
      "  df['Date_of_Hire'] = pd.to_datetime(df['Date_of_Hire'])\n",
      "/var/folders/4s/ssj6hqrx2pd25m6n5s48w37h0000gn/T/ipykernel_1052/1583702905.py:3: UserWarning: Parsing '30-04-2009' in DD/MM/YYYY format. Provide format or specify infer_datetime_format=True for consistent parsing.\n",
      "  df['Date_of_Hire'] = pd.to_datetime(df['Date_of_Hire'])\n",
      "/var/folders/4s/ssj6hqrx2pd25m6n5s48w37h0000gn/T/ipykernel_1052/1583702905.py:3: UserWarning: Parsing '23-02-2008' in DD/MM/YYYY format. Provide format or specify infer_datetime_format=True for consistent parsing.\n",
      "  df['Date_of_Hire'] = pd.to_datetime(df['Date_of_Hire'])\n",
      "/var/folders/4s/ssj6hqrx2pd25m6n5s48w37h0000gn/T/ipykernel_1052/1583702905.py:3: UserWarning: Parsing '22-02-2008' in DD/MM/YYYY format. Provide format or specify infer_datetime_format=True for consistent parsing.\n",
      "  df['Date_of_Hire'] = pd.to_datetime(df['Date_of_Hire'])\n",
      "/var/folders/4s/ssj6hqrx2pd25m6n5s48w37h0000gn/T/ipykernel_1052/1583702905.py:3: UserWarning: Parsing '18-05-2008' in DD/MM/YYYY format. Provide format or specify infer_datetime_format=True for consistent parsing.\n",
      "  df['Date_of_Hire'] = pd.to_datetime(df['Date_of_Hire'])\n",
      "/var/folders/4s/ssj6hqrx2pd25m6n5s48w37h0000gn/T/ipykernel_1052/1583702905.py:3: UserWarning: Parsing '20-02-2008' in DD/MM/YYYY format. Provide format or specify infer_datetime_format=True for consistent parsing.\n",
      "  df['Date_of_Hire'] = pd.to_datetime(df['Date_of_Hire'])\n",
      "/var/folders/4s/ssj6hqrx2pd25m6n5s48w37h0000gn/T/ipykernel_1052/1583702905.py:3: UserWarning: Parsing '29-05-2008' in DD/MM/YYYY format. Provide format or specify infer_datetime_format=True for consistent parsing.\n",
      "  df['Date_of_Hire'] = pd.to_datetime(df['Date_of_Hire'])\n",
      "/var/folders/4s/ssj6hqrx2pd25m6n5s48w37h0000gn/T/ipykernel_1052/1583702905.py:3: UserWarning: Parsing '22-01-2008' in DD/MM/YYYY format. Provide format or specify infer_datetime_format=True for consistent parsing.\n",
      "  df['Date_of_Hire'] = pd.to_datetime(df['Date_of_Hire'])\n",
      "/var/folders/4s/ssj6hqrx2pd25m6n5s48w37h0000gn/T/ipykernel_1052/1583702905.py:3: UserWarning: Parsing '21-01-2008' in DD/MM/YYYY format. Provide format or specify infer_datetime_format=True for consistent parsing.\n",
      "  df['Date_of_Hire'] = pd.to_datetime(df['Date_of_Hire'])\n",
      "/var/folders/4s/ssj6hqrx2pd25m6n5s48w37h0000gn/T/ipykernel_1052/1583702905.py:3: UserWarning: Parsing '25-05-2008' in DD/MM/YYYY format. Provide format or specify infer_datetime_format=True for consistent parsing.\n",
      "  df['Date_of_Hire'] = pd.to_datetime(df['Date_of_Hire'])\n",
      "/var/folders/4s/ssj6hqrx2pd25m6n5s48w37h0000gn/T/ipykernel_1052/1583702905.py:3: UserWarning: Parsing '15-03-2008' in DD/MM/YYYY format. Provide format or specify infer_datetime_format=True for consistent parsing.\n",
      "  df['Date_of_Hire'] = pd.to_datetime(df['Date_of_Hire'])\n",
      "/var/folders/4s/ssj6hqrx2pd25m6n5s48w37h0000gn/T/ipykernel_1052/1583702905.py:3: UserWarning: Parsing '24-03-2008' in DD/MM/YYYY format. Provide format or specify infer_datetime_format=True for consistent parsing.\n",
      "  df['Date_of_Hire'] = pd.to_datetime(df['Date_of_Hire'])\n",
      "/var/folders/4s/ssj6hqrx2pd25m6n5s48w37h0000gn/T/ipykernel_1052/1583702905.py:3: UserWarning: Parsing '20-04-2008' in DD/MM/YYYY format. Provide format or specify infer_datetime_format=True for consistent parsing.\n",
      "  df['Date_of_Hire'] = pd.to_datetime(df['Date_of_Hire'])\n",
      "/var/folders/4s/ssj6hqrx2pd25m6n5s48w37h0000gn/T/ipykernel_1052/1583702905.py:3: UserWarning: Parsing '22-06-2008' in DD/MM/YYYY format. Provide format or specify infer_datetime_format=True for consistent parsing.\n",
      "  df['Date_of_Hire'] = pd.to_datetime(df['Date_of_Hire'])\n",
      "/var/folders/4s/ssj6hqrx2pd25m6n5s48w37h0000gn/T/ipykernel_1052/1583702905.py:3: UserWarning: Parsing '19-04-2008' in DD/MM/YYYY format. Provide format or specify infer_datetime_format=True for consistent parsing.\n",
      "  df['Date_of_Hire'] = pd.to_datetime(df['Date_of_Hire'])\n",
      "/var/folders/4s/ssj6hqrx2pd25m6n5s48w37h0000gn/T/ipykernel_1052/1583702905.py:3: UserWarning: Parsing '24-06-2008' in DD/MM/YYYY format. Provide format or specify infer_datetime_format=True for consistent parsing.\n",
      "  df['Date_of_Hire'] = pd.to_datetime(df['Date_of_Hire'])\n",
      "/var/folders/4s/ssj6hqrx2pd25m6n5s48w37h0000gn/T/ipykernel_1052/1583702905.py:3: UserWarning: Parsing '13-03-2007' in DD/MM/YYYY format. Provide format or specify infer_datetime_format=True for consistent parsing.\n",
      "  df['Date_of_Hire'] = pd.to_datetime(df['Date_of_Hire'])\n",
      "/var/folders/4s/ssj6hqrx2pd25m6n5s48w37h0000gn/T/ipykernel_1052/1583702905.py:3: UserWarning: Parsing '25-03-2007' in DD/MM/YYYY format. Provide format or specify infer_datetime_format=True for consistent parsing.\n",
      "  df['Date_of_Hire'] = pd.to_datetime(df['Date_of_Hire'])\n",
      "/var/folders/4s/ssj6hqrx2pd25m6n5s48w37h0000gn/T/ipykernel_1052/1583702905.py:3: UserWarning: Parsing '27-05-2007' in DD/MM/YYYY format. Provide format or specify infer_datetime_format=True for consistent parsing.\n",
      "  df['Date_of_Hire'] = pd.to_datetime(df['Date_of_Hire'])\n",
      "/var/folders/4s/ssj6hqrx2pd25m6n5s48w37h0000gn/T/ipykernel_1052/1583702905.py:3: UserWarning: Parsing '16-02-2007' in DD/MM/YYYY format. Provide format or specify infer_datetime_format=True for consistent parsing.\n",
      "  df['Date_of_Hire'] = pd.to_datetime(df['Date_of_Hire'])\n",
      "/var/folders/4s/ssj6hqrx2pd25m6n5s48w37h0000gn/T/ipykernel_1052/1583702905.py:3: UserWarning: Parsing '15-03-2007' in DD/MM/YYYY format. Provide format or specify infer_datetime_format=True for consistent parsing.\n",
      "  df['Date_of_Hire'] = pd.to_datetime(df['Date_of_Hire'])\n",
      "/var/folders/4s/ssj6hqrx2pd25m6n5s48w37h0000gn/T/ipykernel_1052/1583702905.py:3: UserWarning: Parsing '27-06-2007' in DD/MM/YYYY format. Provide format or specify infer_datetime_format=True for consistent parsing.\n",
      "  df['Date_of_Hire'] = pd.to_datetime(df['Date_of_Hire'])\n",
      "/var/folders/4s/ssj6hqrx2pd25m6n5s48w37h0000gn/T/ipykernel_1052/1583702905.py:3: UserWarning: Parsing '19-04-2007' in DD/MM/YYYY format. Provide format or specify infer_datetime_format=True for consistent parsing.\n",
      "  df['Date_of_Hire'] = pd.to_datetime(df['Date_of_Hire'])\n",
      "/var/folders/4s/ssj6hqrx2pd25m6n5s48w37h0000gn/T/ipykernel_1052/1583702905.py:3: UserWarning: Parsing '19-03-2007' in DD/MM/YYYY format. Provide format or specify infer_datetime_format=True for consistent parsing.\n",
      "  df['Date_of_Hire'] = pd.to_datetime(df['Date_of_Hire'])\n",
      "/var/folders/4s/ssj6hqrx2pd25m6n5s48w37h0000gn/T/ipykernel_1052/1583702905.py:3: UserWarning: Parsing '18-04-2007' in DD/MM/YYYY format. Provide format or specify infer_datetime_format=True for consistent parsing.\n",
      "  df['Date_of_Hire'] = pd.to_datetime(df['Date_of_Hire'])\n",
      "/var/folders/4s/ssj6hqrx2pd25m6n5s48w37h0000gn/T/ipykernel_1052/1583702905.py:3: UserWarning: Parsing '31-05-2006' in DD/MM/YYYY format. Provide format or specify infer_datetime_format=True for consistent parsing.\n",
      "  df['Date_of_Hire'] = pd.to_datetime(df['Date_of_Hire'])\n",
      "/var/folders/4s/ssj6hqrx2pd25m6n5s48w37h0000gn/T/ipykernel_1052/1583702905.py:3: UserWarning: Parsing '25-06-2006' in DD/MM/YYYY format. Provide format or specify infer_datetime_format=True for consistent parsing.\n",
      "  df['Date_of_Hire'] = pd.to_datetime(df['Date_of_Hire'])\n",
      "/var/folders/4s/ssj6hqrx2pd25m6n5s48w37h0000gn/T/ipykernel_1052/1583702905.py:3: UserWarning: Parsing '17-05-2006' in DD/MM/YYYY format. Provide format or specify infer_datetime_format=True for consistent parsing.\n",
      "  df['Date_of_Hire'] = pd.to_datetime(df['Date_of_Hire'])\n",
      "/var/folders/4s/ssj6hqrx2pd25m6n5s48w37h0000gn/T/ipykernel_1052/1583702905.py:3: UserWarning: Parsing '23-05-2006' in DD/MM/YYYY format. Provide format or specify infer_datetime_format=True for consistent parsing.\n",
      "  df['Date_of_Hire'] = pd.to_datetime(df['Date_of_Hire'])\n",
      "/var/folders/4s/ssj6hqrx2pd25m6n5s48w37h0000gn/T/ipykernel_1052/1583702905.py:3: UserWarning: Parsing '30-04-2006' in DD/MM/YYYY format. Provide format or specify infer_datetime_format=True for consistent parsing.\n",
      "  df['Date_of_Hire'] = pd.to_datetime(df['Date_of_Hire'])\n",
      "/var/folders/4s/ssj6hqrx2pd25m6n5s48w37h0000gn/T/ipykernel_1052/1583702905.py:3: UserWarning: Parsing '13-06-2006' in DD/MM/YYYY format. Provide format or specify infer_datetime_format=True for consistent parsing.\n",
      "  df['Date_of_Hire'] = pd.to_datetime(df['Date_of_Hire'])\n",
      "/var/folders/4s/ssj6hqrx2pd25m6n5s48w37h0000gn/T/ipykernel_1052/1583702905.py:3: UserWarning: Parsing '28-03-2006' in DD/MM/YYYY format. Provide format or specify infer_datetime_format=True for consistent parsing.\n",
      "  df['Date_of_Hire'] = pd.to_datetime(df['Date_of_Hire'])\n",
      "/var/folders/4s/ssj6hqrx2pd25m6n5s48w37h0000gn/T/ipykernel_1052/1583702905.py:3: UserWarning: Parsing '14-06-2006' in DD/MM/YYYY format. Provide format or specify infer_datetime_format=True for consistent parsing.\n",
      "  df['Date_of_Hire'] = pd.to_datetime(df['Date_of_Hire'])\n",
      "/var/folders/4s/ssj6hqrx2pd25m6n5s48w37h0000gn/T/ipykernel_1052/1583702905.py:3: UserWarning: Parsing '24-03-2006' in DD/MM/YYYY format. Provide format or specify infer_datetime_format=True for consistent parsing.\n",
      "  df['Date_of_Hire'] = pd.to_datetime(df['Date_of_Hire'])\n",
      "/var/folders/4s/ssj6hqrx2pd25m6n5s48w37h0000gn/T/ipykernel_1052/1583702905.py:3: UserWarning: Parsing '30-05-2006' in DD/MM/YYYY format. Provide format or specify infer_datetime_format=True for consistent parsing.\n",
      "  df['Date_of_Hire'] = pd.to_datetime(df['Date_of_Hire'])\n",
      "/var/folders/4s/ssj6hqrx2pd25m6n5s48w37h0000gn/T/ipykernel_1052/1583702905.py:3: UserWarning: Parsing '25-02-2006' in DD/MM/YYYY format. Provide format or specify infer_datetime_format=True for consistent parsing.\n",
      "  df['Date_of_Hire'] = pd.to_datetime(df['Date_of_Hire'])\n",
      "/var/folders/4s/ssj6hqrx2pd25m6n5s48w37h0000gn/T/ipykernel_1052/1583702905.py:3: UserWarning: Parsing '24-04-2006' in DD/MM/YYYY format. Provide format or specify infer_datetime_format=True for consistent parsing.\n",
      "  df['Date_of_Hire'] = pd.to_datetime(df['Date_of_Hire'])\n",
      "/var/folders/4s/ssj6hqrx2pd25m6n5s48w37h0000gn/T/ipykernel_1052/1583702905.py:3: UserWarning: Parsing '26-03-2005' in DD/MM/YYYY format. Provide format or specify infer_datetime_format=True for consistent parsing.\n",
      "  df['Date_of_Hire'] = pd.to_datetime(df['Date_of_Hire'])\n",
      "/var/folders/4s/ssj6hqrx2pd25m6n5s48w37h0000gn/T/ipykernel_1052/1583702905.py:3: UserWarning: Parsing '17-04-2005' in DD/MM/YYYY format. Provide format or specify infer_datetime_format=True for consistent parsing.\n",
      "  df['Date_of_Hire'] = pd.to_datetime(df['Date_of_Hire'])\n",
      "/var/folders/4s/ssj6hqrx2pd25m6n5s48w37h0000gn/T/ipykernel_1052/1583702905.py:3: UserWarning: Parsing '28-02-2005' in DD/MM/YYYY format. Provide format or specify infer_datetime_format=True for consistent parsing.\n",
      "  df['Date_of_Hire'] = pd.to_datetime(df['Date_of_Hire'])\n",
      "/var/folders/4s/ssj6hqrx2pd25m6n5s48w37h0000gn/T/ipykernel_1052/1583702905.py:3: UserWarning: Parsing '23-03-2005' in DD/MM/YYYY format. Provide format or specify infer_datetime_format=True for consistent parsing.\n",
      "  df['Date_of_Hire'] = pd.to_datetime(df['Date_of_Hire'])\n",
      "/var/folders/4s/ssj6hqrx2pd25m6n5s48w37h0000gn/T/ipykernel_1052/1583702905.py:3: UserWarning: Parsing '18-05-2005' in DD/MM/YYYY format. Provide format or specify infer_datetime_format=True for consistent parsing.\n",
      "  df['Date_of_Hire'] = pd.to_datetime(df['Date_of_Hire'])\n",
      "/var/folders/4s/ssj6hqrx2pd25m6n5s48w37h0000gn/T/ipykernel_1052/1583702905.py:3: UserWarning: Parsing '25-05-2005' in DD/MM/YYYY format. Provide format or specify infer_datetime_format=True for consistent parsing.\n",
      "  df['Date_of_Hire'] = pd.to_datetime(df['Date_of_Hire'])\n",
      "/var/folders/4s/ssj6hqrx2pd25m6n5s48w37h0000gn/T/ipykernel_1052/1583702905.py:3: UserWarning: Parsing '20-01-2005' in DD/MM/YYYY format. Provide format or specify infer_datetime_format=True for consistent parsing.\n",
      "  df['Date_of_Hire'] = pd.to_datetime(df['Date_of_Hire'])\n",
      "/var/folders/4s/ssj6hqrx2pd25m6n5s48w37h0000gn/T/ipykernel_1052/1583702905.py:3: UserWarning: Parsing '15-03-2005' in DD/MM/YYYY format. Provide format or specify infer_datetime_format=True for consistent parsing.\n",
      "  df['Date_of_Hire'] = pd.to_datetime(df['Date_of_Hire'])\n",
      "/var/folders/4s/ssj6hqrx2pd25m6n5s48w37h0000gn/T/ipykernel_1052/1583702905.py:3: UserWarning: Parsing '23-06-2005' in DD/MM/YYYY format. Provide format or specify infer_datetime_format=True for consistent parsing.\n",
      "  df['Date_of_Hire'] = pd.to_datetime(df['Date_of_Hire'])\n",
      "/var/folders/4s/ssj6hqrx2pd25m6n5s48w37h0000gn/T/ipykernel_1052/1583702905.py:3: UserWarning: Parsing '14-06-2005' in DD/MM/YYYY format. Provide format or specify infer_datetime_format=True for consistent parsing.\n",
      "  df['Date_of_Hire'] = pd.to_datetime(df['Date_of_Hire'])\n",
      "/var/folders/4s/ssj6hqrx2pd25m6n5s48w37h0000gn/T/ipykernel_1052/1583702905.py:3: UserWarning: Parsing '23-05-2004' in DD/MM/YYYY format. Provide format or specify infer_datetime_format=True for consistent parsing.\n",
      "  df['Date_of_Hire'] = pd.to_datetime(df['Date_of_Hire'])\n",
      "/var/folders/4s/ssj6hqrx2pd25m6n5s48w37h0000gn/T/ipykernel_1052/1583702905.py:3: UserWarning: Parsing '27-05-2004' in DD/MM/YYYY format. Provide format or specify infer_datetime_format=True for consistent parsing.\n",
      "  df['Date_of_Hire'] = pd.to_datetime(df['Date_of_Hire'])\n",
      "/var/folders/4s/ssj6hqrx2pd25m6n5s48w37h0000gn/T/ipykernel_1052/1583702905.py:3: UserWarning: Parsing '22-01-2004' in DD/MM/YYYY format. Provide format or specify infer_datetime_format=True for consistent parsing.\n",
      "  df['Date_of_Hire'] = pd.to_datetime(df['Date_of_Hire'])\n",
      "/var/folders/4s/ssj6hqrx2pd25m6n5s48w37h0000gn/T/ipykernel_1052/1583702905.py:3: UserWarning: Parsing '19-03-2004' in DD/MM/YYYY format. Provide format or specify infer_datetime_format=True for consistent parsing.\n",
      "  df['Date_of_Hire'] = pd.to_datetime(df['Date_of_Hire'])\n",
      "/var/folders/4s/ssj6hqrx2pd25m6n5s48w37h0000gn/T/ipykernel_1052/1583702905.py:3: UserWarning: Parsing '21-06-2004' in DD/MM/YYYY format. Provide format or specify infer_datetime_format=True for consistent parsing.\n",
      "  df['Date_of_Hire'] = pd.to_datetime(df['Date_of_Hire'])\n",
      "/var/folders/4s/ssj6hqrx2pd25m6n5s48w37h0000gn/T/ipykernel_1052/1583702905.py:3: UserWarning: Parsing '16-06-2004' in DD/MM/YYYY format. Provide format or specify infer_datetime_format=True for consistent parsing.\n",
      "  df['Date_of_Hire'] = pd.to_datetime(df['Date_of_Hire'])\n",
      "/var/folders/4s/ssj6hqrx2pd25m6n5s48w37h0000gn/T/ipykernel_1052/1583702905.py:3: UserWarning: Parsing '31-05-2003' in DD/MM/YYYY format. Provide format or specify infer_datetime_format=True for consistent parsing.\n",
      "  df['Date_of_Hire'] = pd.to_datetime(df['Date_of_Hire'])\n",
      "/var/folders/4s/ssj6hqrx2pd25m6n5s48w37h0000gn/T/ipykernel_1052/1583702905.py:3: UserWarning: Parsing '22-04-2003' in DD/MM/YYYY format. Provide format or specify infer_datetime_format=True for consistent parsing.\n",
      "  df['Date_of_Hire'] = pd.to_datetime(df['Date_of_Hire'])\n",
      "/var/folders/4s/ssj6hqrx2pd25m6n5s48w37h0000gn/T/ipykernel_1052/1583702905.py:3: UserWarning: Parsing '19-02-2003' in DD/MM/YYYY format. Provide format or specify infer_datetime_format=True for consistent parsing.\n",
      "  df['Date_of_Hire'] = pd.to_datetime(df['Date_of_Hire'])\n",
      "/var/folders/4s/ssj6hqrx2pd25m6n5s48w37h0000gn/T/ipykernel_1052/1583702905.py:3: UserWarning: Parsing '28-06-2003' in DD/MM/YYYY format. Provide format or specify infer_datetime_format=True for consistent parsing.\n",
      "  df['Date_of_Hire'] = pd.to_datetime(df['Date_of_Hire'])\n",
      "/var/folders/4s/ssj6hqrx2pd25m6n5s48w37h0000gn/T/ipykernel_1052/1583702905.py:3: UserWarning: Parsing '17-03-2003' in DD/MM/YYYY format. Provide format or specify infer_datetime_format=True for consistent parsing.\n",
      "  df['Date_of_Hire'] = pd.to_datetime(df['Date_of_Hire'])\n",
      "/var/folders/4s/ssj6hqrx2pd25m6n5s48w37h0000gn/T/ipykernel_1052/1583702905.py:3: UserWarning: Parsing '23-06-2003' in DD/MM/YYYY format. Provide format or specify infer_datetime_format=True for consistent parsing.\n",
      "  df['Date_of_Hire'] = pd.to_datetime(df['Date_of_Hire'])\n",
      "/var/folders/4s/ssj6hqrx2pd25m6n5s48w37h0000gn/T/ipykernel_1052/1583702905.py:3: UserWarning: Parsing '27-01-2003' in DD/MM/YYYY format. Provide format or specify infer_datetime_format=True for consistent parsing.\n",
      "  df['Date_of_Hire'] = pd.to_datetime(df['Date_of_Hire'])\n",
      "/var/folders/4s/ssj6hqrx2pd25m6n5s48w37h0000gn/T/ipykernel_1052/1583702905.py:3: UserWarning: Parsing '27-01-2002' in DD/MM/YYYY format. Provide format or specify infer_datetime_format=True for consistent parsing.\n",
      "  df['Date_of_Hire'] = pd.to_datetime(df['Date_of_Hire'])\n",
      "/var/folders/4s/ssj6hqrx2pd25m6n5s48w37h0000gn/T/ipykernel_1052/1583702905.py:3: UserWarning: Parsing '14-06-2002' in DD/MM/YYYY format. Provide format or specify infer_datetime_format=True for consistent parsing.\n",
      "  df['Date_of_Hire'] = pd.to_datetime(df['Date_of_Hire'])\n",
      "/var/folders/4s/ssj6hqrx2pd25m6n5s48w37h0000gn/T/ipykernel_1052/1583702905.py:3: UserWarning: Parsing '30-03-2002' in DD/MM/YYYY format. Provide format or specify infer_datetime_format=True for consistent parsing.\n",
      "  df['Date_of_Hire'] = pd.to_datetime(df['Date_of_Hire'])\n",
      "/var/folders/4s/ssj6hqrx2pd25m6n5s48w37h0000gn/T/ipykernel_1052/1583702905.py:3: UserWarning: Parsing '30-01-2002' in DD/MM/YYYY format. Provide format or specify infer_datetime_format=True for consistent parsing.\n",
      "  df['Date_of_Hire'] = pd.to_datetime(df['Date_of_Hire'])\n",
      "/var/folders/4s/ssj6hqrx2pd25m6n5s48w37h0000gn/T/ipykernel_1052/1583702905.py:3: UserWarning: Parsing '24-03-2002' in DD/MM/YYYY format. Provide format or specify infer_datetime_format=True for consistent parsing.\n",
      "  df['Date_of_Hire'] = pd.to_datetime(df['Date_of_Hire'])\n",
      "/var/folders/4s/ssj6hqrx2pd25m6n5s48w37h0000gn/T/ipykernel_1052/1583702905.py:3: UserWarning: Parsing '23-02-2002' in DD/MM/YYYY format. Provide format or specify infer_datetime_format=True for consistent parsing.\n",
      "  df['Date_of_Hire'] = pd.to_datetime(df['Date_of_Hire'])\n",
      "/var/folders/4s/ssj6hqrx2pd25m6n5s48w37h0000gn/T/ipykernel_1052/1583702905.py:3: UserWarning: Parsing '27-06-2002' in DD/MM/YYYY format. Provide format or specify infer_datetime_format=True for consistent parsing.\n",
      "  df['Date_of_Hire'] = pd.to_datetime(df['Date_of_Hire'])\n",
      "/var/folders/4s/ssj6hqrx2pd25m6n5s48w37h0000gn/T/ipykernel_1052/1583702905.py:3: UserWarning: Parsing '27-06-2001' in DD/MM/YYYY format. Provide format or specify infer_datetime_format=True for consistent parsing.\n",
      "  df['Date_of_Hire'] = pd.to_datetime(df['Date_of_Hire'])\n",
      "/var/folders/4s/ssj6hqrx2pd25m6n5s48w37h0000gn/T/ipykernel_1052/1583702905.py:3: UserWarning: Parsing '15-02-2001' in DD/MM/YYYY format. Provide format or specify infer_datetime_format=True for consistent parsing.\n",
      "  df['Date_of_Hire'] = pd.to_datetime(df['Date_of_Hire'])\n",
      "/var/folders/4s/ssj6hqrx2pd25m6n5s48w37h0000gn/T/ipykernel_1052/1583702905.py:3: UserWarning: Parsing '20-05-2001' in DD/MM/YYYY format. Provide format or specify infer_datetime_format=True for consistent parsing.\n",
      "  df['Date_of_Hire'] = pd.to_datetime(df['Date_of_Hire'])\n",
      "/var/folders/4s/ssj6hqrx2pd25m6n5s48w37h0000gn/T/ipykernel_1052/1583702905.py:3: UserWarning: Parsing '23-04-2001' in DD/MM/YYYY format. Provide format or specify infer_datetime_format=True for consistent parsing.\n",
      "  df['Date_of_Hire'] = pd.to_datetime(df['Date_of_Hire'])\n",
      "/var/folders/4s/ssj6hqrx2pd25m6n5s48w37h0000gn/T/ipykernel_1052/1583702905.py:3: UserWarning: Parsing '25-01-2001' in DD/MM/YYYY format. Provide format or specify infer_datetime_format=True for consistent parsing.\n",
      "  df['Date_of_Hire'] = pd.to_datetime(df['Date_of_Hire'])\n",
      "/var/folders/4s/ssj6hqrx2pd25m6n5s48w37h0000gn/T/ipykernel_1052/1583702905.py:3: UserWarning: Parsing '17-03-2001' in DD/MM/YYYY format. Provide format or specify infer_datetime_format=True for consistent parsing.\n",
      "  df['Date_of_Hire'] = pd.to_datetime(df['Date_of_Hire'])\n",
      "/var/folders/4s/ssj6hqrx2pd25m6n5s48w37h0000gn/T/ipykernel_1052/1583702905.py:3: UserWarning: Parsing '21-02-2001' in DD/MM/YYYY format. Provide format or specify infer_datetime_format=True for consistent parsing.\n",
      "  df['Date_of_Hire'] = pd.to_datetime(df['Date_of_Hire'])\n",
      "/var/folders/4s/ssj6hqrx2pd25m6n5s48w37h0000gn/T/ipykernel_1052/1583702905.py:3: UserWarning: Parsing '19-01-2001' in DD/MM/YYYY format. Provide format or specify infer_datetime_format=True for consistent parsing.\n",
      "  df['Date_of_Hire'] = pd.to_datetime(df['Date_of_Hire'])\n",
      "/var/folders/4s/ssj6hqrx2pd25m6n5s48w37h0000gn/T/ipykernel_1052/1583702905.py:3: UserWarning: Parsing '15-06-2001' in DD/MM/YYYY format. Provide format or specify infer_datetime_format=True for consistent parsing.\n",
      "  df['Date_of_Hire'] = pd.to_datetime(df['Date_of_Hire'])\n",
      "/var/folders/4s/ssj6hqrx2pd25m6n5s48w37h0000gn/T/ipykernel_1052/1583702905.py:3: UserWarning: Parsing '21-03-2001' in DD/MM/YYYY format. Provide format or specify infer_datetime_format=True for consistent parsing.\n",
      "  df['Date_of_Hire'] = pd.to_datetime(df['Date_of_Hire'])\n",
      "/var/folders/4s/ssj6hqrx2pd25m6n5s48w37h0000gn/T/ipykernel_1052/1583702905.py:3: UserWarning: Parsing '22-05-2001' in DD/MM/YYYY format. Provide format or specify infer_datetime_format=True for consistent parsing.\n",
      "  df['Date_of_Hire'] = pd.to_datetime(df['Date_of_Hire'])\n",
      "/var/folders/4s/ssj6hqrx2pd25m6n5s48w37h0000gn/T/ipykernel_1052/1583702905.py:3: UserWarning: Parsing '17-01-2001' in DD/MM/YYYY format. Provide format or specify infer_datetime_format=True for consistent parsing.\n",
      "  df['Date_of_Hire'] = pd.to_datetime(df['Date_of_Hire'])\n",
      "/var/folders/4s/ssj6hqrx2pd25m6n5s48w37h0000gn/T/ipykernel_1052/1583702905.py:3: UserWarning: Parsing '23-01-2001' in DD/MM/YYYY format. Provide format or specify infer_datetime_format=True for consistent parsing.\n",
      "  df['Date_of_Hire'] = pd.to_datetime(df['Date_of_Hire'])\n",
      "/var/folders/4s/ssj6hqrx2pd25m6n5s48w37h0000gn/T/ipykernel_1052/1583702905.py:3: UserWarning: Parsing '29-06-2001' in DD/MM/YYYY format. Provide format or specify infer_datetime_format=True for consistent parsing.\n",
      "  df['Date_of_Hire'] = pd.to_datetime(df['Date_of_Hire'])\n",
      "/var/folders/4s/ssj6hqrx2pd25m6n5s48w37h0000gn/T/ipykernel_1052/1583702905.py:3: UserWarning: Parsing '29-02-2000' in DD/MM/YYYY format. Provide format or specify infer_datetime_format=True for consistent parsing.\n",
      "  df['Date_of_Hire'] = pd.to_datetime(df['Date_of_Hire'])\n",
      "/var/folders/4s/ssj6hqrx2pd25m6n5s48w37h0000gn/T/ipykernel_1052/1583702905.py:3: UserWarning: Parsing '13-02-2000' in DD/MM/YYYY format. Provide format or specify infer_datetime_format=True for consistent parsing.\n",
      "  df['Date_of_Hire'] = pd.to_datetime(df['Date_of_Hire'])\n",
      "/var/folders/4s/ssj6hqrx2pd25m6n5s48w37h0000gn/T/ipykernel_1052/1583702905.py:3: UserWarning: Parsing '27-02-2000' in DD/MM/YYYY format. Provide format or specify infer_datetime_format=True for consistent parsing.\n",
      "  df['Date_of_Hire'] = pd.to_datetime(df['Date_of_Hire'])\n",
      "/var/folders/4s/ssj6hqrx2pd25m6n5s48w37h0000gn/T/ipykernel_1052/1583702905.py:3: UserWarning: Parsing '26-05-2000' in DD/MM/YYYY format. Provide format or specify infer_datetime_format=True for consistent parsing.\n",
      "  df['Date_of_Hire'] = pd.to_datetime(df['Date_of_Hire'])\n",
      "/var/folders/4s/ssj6hqrx2pd25m6n5s48w37h0000gn/T/ipykernel_1052/1583702905.py:3: UserWarning: Parsing '16-03-2000' in DD/MM/YYYY format. Provide format or specify infer_datetime_format=True for consistent parsing.\n",
      "  df['Date_of_Hire'] = pd.to_datetime(df['Date_of_Hire'])\n",
      "/var/folders/4s/ssj6hqrx2pd25m6n5s48w37h0000gn/T/ipykernel_1052/1583702905.py:3: UserWarning: Parsing '25-04-2000' in DD/MM/YYYY format. Provide format or specify infer_datetime_format=True for consistent parsing.\n",
      "  df['Date_of_Hire'] = pd.to_datetime(df['Date_of_Hire'])\n",
      "/var/folders/4s/ssj6hqrx2pd25m6n5s48w37h0000gn/T/ipykernel_1052/1583702905.py:3: UserWarning: Parsing '15-02-2000' in DD/MM/YYYY format. Provide format or specify infer_datetime_format=True for consistent parsing.\n",
      "  df['Date_of_Hire'] = pd.to_datetime(df['Date_of_Hire'])\n",
      "/var/folders/4s/ssj6hqrx2pd25m6n5s48w37h0000gn/T/ipykernel_1052/1583702905.py:3: UserWarning: Parsing '18-01-2000' in DD/MM/YYYY format. Provide format or specify infer_datetime_format=True for consistent parsing.\n",
      "  df['Date_of_Hire'] = pd.to_datetime(df['Date_of_Hire'])\n",
      "/var/folders/4s/ssj6hqrx2pd25m6n5s48w37h0000gn/T/ipykernel_1052/1583702905.py:3: UserWarning: Parsing '20-03-1999' in DD/MM/YYYY format. Provide format or specify infer_datetime_format=True for consistent parsing.\n",
      "  df['Date_of_Hire'] = pd.to_datetime(df['Date_of_Hire'])\n",
      "/var/folders/4s/ssj6hqrx2pd25m6n5s48w37h0000gn/T/ipykernel_1052/1583702905.py:3: UserWarning: Parsing '24-02-1999' in DD/MM/YYYY format. Provide format or specify infer_datetime_format=True for consistent parsing.\n",
      "  df['Date_of_Hire'] = pd.to_datetime(df['Date_of_Hire'])\n",
      "/var/folders/4s/ssj6hqrx2pd25m6n5s48w37h0000gn/T/ipykernel_1052/1583702905.py:3: UserWarning: Parsing '29-01-1999' in DD/MM/YYYY format. Provide format or specify infer_datetime_format=True for consistent parsing.\n",
      "  df['Date_of_Hire'] = pd.to_datetime(df['Date_of_Hire'])\n",
      "/var/folders/4s/ssj6hqrx2pd25m6n5s48w37h0000gn/T/ipykernel_1052/1583702905.py:3: UserWarning: Parsing '22-06-1999' in DD/MM/YYYY format. Provide format or specify infer_datetime_format=True for consistent parsing.\n",
      "  df['Date_of_Hire'] = pd.to_datetime(df['Date_of_Hire'])\n",
      "/var/folders/4s/ssj6hqrx2pd25m6n5s48w37h0000gn/T/ipykernel_1052/1583702905.py:3: UserWarning: Parsing '20-02-1999' in DD/MM/YYYY format. Provide format or specify infer_datetime_format=True for consistent parsing.\n",
      "  df['Date_of_Hire'] = pd.to_datetime(df['Date_of_Hire'])\n",
      "/var/folders/4s/ssj6hqrx2pd25m6n5s48w37h0000gn/T/ipykernel_1052/1583702905.py:3: UserWarning: Parsing '25-06-1999' in DD/MM/YYYY format. Provide format or specify infer_datetime_format=True for consistent parsing.\n",
      "  df['Date_of_Hire'] = pd.to_datetime(df['Date_of_Hire'])\n",
      "/var/folders/4s/ssj6hqrx2pd25m6n5s48w37h0000gn/T/ipykernel_1052/1583702905.py:3: UserWarning: Parsing '19-05-1999' in DD/MM/YYYY format. Provide format or specify infer_datetime_format=True for consistent parsing.\n",
      "  df['Date_of_Hire'] = pd.to_datetime(df['Date_of_Hire'])\n",
      "/var/folders/4s/ssj6hqrx2pd25m6n5s48w37h0000gn/T/ipykernel_1052/1583702905.py:3: UserWarning: Parsing '20-01-1999' in DD/MM/YYYY format. Provide format or specify infer_datetime_format=True for consistent parsing.\n",
      "  df['Date_of_Hire'] = pd.to_datetime(df['Date_of_Hire'])\n",
      "/var/folders/4s/ssj6hqrx2pd25m6n5s48w37h0000gn/T/ipykernel_1052/1583702905.py:3: UserWarning: Parsing '17-04-1999' in DD/MM/YYYY format. Provide format or specify infer_datetime_format=True for consistent parsing.\n",
      "  df['Date_of_Hire'] = pd.to_datetime(df['Date_of_Hire'])\n",
      "/var/folders/4s/ssj6hqrx2pd25m6n5s48w37h0000gn/T/ipykernel_1052/1583702905.py:3: UserWarning: Parsing '23-03-1998' in DD/MM/YYYY format. Provide format or specify infer_datetime_format=True for consistent parsing.\n",
      "  df['Date_of_Hire'] = pd.to_datetime(df['Date_of_Hire'])\n",
      "/var/folders/4s/ssj6hqrx2pd25m6n5s48w37h0000gn/T/ipykernel_1052/1583702905.py:3: UserWarning: Parsing '18-05-1998' in DD/MM/YYYY format. Provide format or specify infer_datetime_format=True for consistent parsing.\n",
      "  df['Date_of_Hire'] = pd.to_datetime(df['Date_of_Hire'])\n",
      "/var/folders/4s/ssj6hqrx2pd25m6n5s48w37h0000gn/T/ipykernel_1052/1583702905.py:3: UserWarning: Parsing '23-05-1997' in DD/MM/YYYY format. Provide format or specify infer_datetime_format=True for consistent parsing.\n",
      "  df['Date_of_Hire'] = pd.to_datetime(df['Date_of_Hire'])\n",
      "/var/folders/4s/ssj6hqrx2pd25m6n5s48w37h0000gn/T/ipykernel_1052/1583702905.py:3: UserWarning: Parsing '30-05-1997' in DD/MM/YYYY format. Provide format or specify infer_datetime_format=True for consistent parsing.\n",
      "  df['Date_of_Hire'] = pd.to_datetime(df['Date_of_Hire'])\n",
      "/var/folders/4s/ssj6hqrx2pd25m6n5s48w37h0000gn/T/ipykernel_1052/1583702905.py:3: UserWarning: Parsing '16-04-1997' in DD/MM/YYYY format. Provide format or specify infer_datetime_format=True for consistent parsing.\n",
      "  df['Date_of_Hire'] = pd.to_datetime(df['Date_of_Hire'])\n",
      "/var/folders/4s/ssj6hqrx2pd25m6n5s48w37h0000gn/T/ipykernel_1052/1583702905.py:3: UserWarning: Parsing '20-02-1997' in DD/MM/YYYY format. Provide format or specify infer_datetime_format=True for consistent parsing.\n",
      "  df['Date_of_Hire'] = pd.to_datetime(df['Date_of_Hire'])\n",
      "/var/folders/4s/ssj6hqrx2pd25m6n5s48w37h0000gn/T/ipykernel_1052/1583702905.py:3: UserWarning: Parsing '30-03-1997' in DD/MM/YYYY format. Provide format or specify infer_datetime_format=True for consistent parsing.\n",
      "  df['Date_of_Hire'] = pd.to_datetime(df['Date_of_Hire'])\n",
      "/var/folders/4s/ssj6hqrx2pd25m6n5s48w37h0000gn/T/ipykernel_1052/1583702905.py:3: UserWarning: Parsing '13-05-1997' in DD/MM/YYYY format. Provide format or specify infer_datetime_format=True for consistent parsing.\n",
      "  df['Date_of_Hire'] = pd.to_datetime(df['Date_of_Hire'])\n",
      "/var/folders/4s/ssj6hqrx2pd25m6n5s48w37h0000gn/T/ipykernel_1052/1583702905.py:3: UserWarning: Parsing '19-06-1969' in DD/MM/YYYY format. Provide format or specify infer_datetime_format=True for consistent parsing.\n",
      "  df['Date_of_Hire'] = pd.to_datetime(df['Date_of_Hire'])\n",
      "/var/folders/4s/ssj6hqrx2pd25m6n5s48w37h0000gn/T/ipykernel_1052/1583702905.py:3: UserWarning: Parsing '13-04-1995' in DD/MM/YYYY format. Provide format or specify infer_datetime_format=True for consistent parsing.\n",
      "  df['Date_of_Hire'] = pd.to_datetime(df['Date_of_Hire'])\n",
      "/var/folders/4s/ssj6hqrx2pd25m6n5s48w37h0000gn/T/ipykernel_1052/1583702905.py:3: UserWarning: Parsing '27-02-1995' in DD/MM/YYYY format. Provide format or specify infer_datetime_format=True for consistent parsing.\n",
      "  df['Date_of_Hire'] = pd.to_datetime(df['Date_of_Hire'])\n",
      "/var/folders/4s/ssj6hqrx2pd25m6n5s48w37h0000gn/T/ipykernel_1052/1583702905.py:3: UserWarning: Parsing '19-06-1995' in DD/MM/YYYY format. Provide format or specify infer_datetime_format=True for consistent parsing.\n",
      "  df['Date_of_Hire'] = pd.to_datetime(df['Date_of_Hire'])\n",
      "/var/folders/4s/ssj6hqrx2pd25m6n5s48w37h0000gn/T/ipykernel_1052/1583702905.py:3: UserWarning: Parsing '29-06-1994' in DD/MM/YYYY format. Provide format or specify infer_datetime_format=True for consistent parsing.\n",
      "  df['Date_of_Hire'] = pd.to_datetime(df['Date_of_Hire'])\n",
      "/var/folders/4s/ssj6hqrx2pd25m6n5s48w37h0000gn/T/ipykernel_1052/1583702905.py:3: UserWarning: Parsing '30-04-1994' in DD/MM/YYYY format. Provide format or specify infer_datetime_format=True for consistent parsing.\n",
      "  df['Date_of_Hire'] = pd.to_datetime(df['Date_of_Hire'])\n",
      "/var/folders/4s/ssj6hqrx2pd25m6n5s48w37h0000gn/T/ipykernel_1052/1583702905.py:3: UserWarning: Parsing '29-02-1992' in DD/MM/YYYY format. Provide format or specify infer_datetime_format=True for consistent parsing.\n",
      "  df['Date_of_Hire'] = pd.to_datetime(df['Date_of_Hire'])\n",
      "/var/folders/4s/ssj6hqrx2pd25m6n5s48w37h0000gn/T/ipykernel_1052/1583702905.py:3: UserWarning: Parsing '31-03-1992' in DD/MM/YYYY format. Provide format or specify infer_datetime_format=True for consistent parsing.\n",
      "  df['Date_of_Hire'] = pd.to_datetime(df['Date_of_Hire'])\n",
      "/var/folders/4s/ssj6hqrx2pd25m6n5s48w37h0000gn/T/ipykernel_1052/1583702905.py:3: UserWarning: Parsing '13-05-1990' in DD/MM/YYYY format. Provide format or specify infer_datetime_format=True for consistent parsing.\n",
      "  df['Date_of_Hire'] = pd.to_datetime(df['Date_of_Hire'])\n",
      "/var/folders/4s/ssj6hqrx2pd25m6n5s48w37h0000gn/T/ipykernel_1052/1583702905.py:3: UserWarning: Parsing '13-04-1990' in DD/MM/YYYY format. Provide format or specify infer_datetime_format=True for consistent parsing.\n",
      "  df['Date_of_Hire'] = pd.to_datetime(df['Date_of_Hire'])\n",
      "/var/folders/4s/ssj6hqrx2pd25m6n5s48w37h0000gn/T/ipykernel_1052/1583702905.py:3: UserWarning: Parsing '19-06-1989' in DD/MM/YYYY format. Provide format or specify infer_datetime_format=True for consistent parsing.\n",
      "  df['Date_of_Hire'] = pd.to_datetime(df['Date_of_Hire'])\n",
      "/var/folders/4s/ssj6hqrx2pd25m6n5s48w37h0000gn/T/ipykernel_1052/1583702905.py:3: UserWarning: Parsing '17-05-1989' in DD/MM/YYYY format. Provide format or specify infer_datetime_format=True for consistent parsing.\n",
      "  df['Date_of_Hire'] = pd.to_datetime(df['Date_of_Hire'])\n",
      "/var/folders/4s/ssj6hqrx2pd25m6n5s48w37h0000gn/T/ipykernel_1052/1583702905.py:3: UserWarning: Parsing '30-03-1989' in DD/MM/YYYY format. Provide format or specify infer_datetime_format=True for consistent parsing.\n",
      "  df['Date_of_Hire'] = pd.to_datetime(df['Date_of_Hire'])\n",
      "/var/folders/4s/ssj6hqrx2pd25m6n5s48w37h0000gn/T/ipykernel_1052/1583702905.py:3: UserWarning: Parsing '14-03-1988' in DD/MM/YYYY format. Provide format or specify infer_datetime_format=True for consistent parsing.\n",
      "  df['Date_of_Hire'] = pd.to_datetime(df['Date_of_Hire'])\n",
      "/var/folders/4s/ssj6hqrx2pd25m6n5s48w37h0000gn/T/ipykernel_1052/1583702905.py:3: UserWarning: Parsing '20-06-1988' in DD/MM/YYYY format. Provide format or specify infer_datetime_format=True for consistent parsing.\n",
      "  df['Date_of_Hire'] = pd.to_datetime(df['Date_of_Hire'])\n",
      "/var/folders/4s/ssj6hqrx2pd25m6n5s48w37h0000gn/T/ipykernel_1052/1583702905.py:3: UserWarning: Parsing '20-01-1985' in DD/MM/YYYY format. Provide format or specify infer_datetime_format=True for consistent parsing.\n",
      "  df['Date_of_Hire'] = pd.to_datetime(df['Date_of_Hire'])\n",
      "/var/folders/4s/ssj6hqrx2pd25m6n5s48w37h0000gn/T/ipykernel_1052/1583702905.py:3: UserWarning: Parsing '17-02-1985' in DD/MM/YYYY format. Provide format or specify infer_datetime_format=True for consistent parsing.\n",
      "  df['Date_of_Hire'] = pd.to_datetime(df['Date_of_Hire'])\n",
      "/var/folders/4s/ssj6hqrx2pd25m6n5s48w37h0000gn/T/ipykernel_1052/1583702905.py:3: UserWarning: Parsing '29-06-1984' in DD/MM/YYYY format. Provide format or specify infer_datetime_format=True for consistent parsing.\n",
      "  df['Date_of_Hire'] = pd.to_datetime(df['Date_of_Hire'])\n"
     ]
    }
   ],
   "source": [
    "# Transformamos la columna 'Date_of_Hire' para datetime y separamos por año\n",
    "\n",
    "df['Date_of_Hire'] = pd.to_datetime(df['Date_of_Hire'])\n",
    "df['Year_of_Hire']=df['Date_of_Hire'].dt.year\n",
    "\n",
    "df = df.drop(['Date_of_Hire'],axis=1)"
   ]
  },
  {
   "cell_type": "code",
   "execution_count": 10,
   "metadata": {},
   "outputs": [
    {
     "data": {
      "text/plain": [
       "Age                          43\n",
       "Attrition                     2\n",
       "BusinessTravel                3\n",
       "Department                    3\n",
       "DistanceFromHome             29\n",
       "Gender                        2\n",
       "JobInvolvement                4\n",
       "JobLevel                      5\n",
       "JobRole                       9\n",
       "JobSatisfaction               4\n",
       "MaritalStatus                 3\n",
       "MonthlyIncome              1349\n",
       "NumCompaniesWorked           10\n",
       "OverTime                      2\n",
       "PercentSalaryHike            15\n",
       "PerformanceRating             2\n",
       "StockOptionLevel              4\n",
       "TotalWorkingYears            40\n",
       "TrainingTimesLastYear         7\n",
       "YearsAtCompany               37\n",
       "YearsSinceLastPromotion      16\n",
       "YearsWithCurrManager         18\n",
       "Higher_Education              4\n",
       "Status_of_leaving             5\n",
       "Mode_of_work                  2\n",
       "Leaves                        6\n",
       "Absenteeism                   4\n",
       "Work_accident                 2\n",
       "Source_of_Hire                4\n",
       "Job_mode                      3\n",
       "Year_of_Hire                 38\n",
       "dtype: int64"
      ]
     },
     "execution_count": 10,
     "metadata": {},
     "output_type": "execute_result"
    }
   ],
   "source": [
    "df.nunique()"
   ]
  },
  {
   "cell_type": "markdown",
   "metadata": {},
   "source": [
    "## 3. Análisis Exploratorio de los Datos (EDA)\n",
    "\n",
    "Después de relizar una primera limpieza de los datos, es posible empezar a analizarlos."
   ]
  },
  {
   "cell_type": "markdown",
   "metadata": {},
   "source": [
    "### 3.1. Distribución del dataset\n",
    "\n",
    "Empezamos mirando las distribución del dataset que queremos analizar.\n",
    "\n",
    "De primeras ya nos damos cuenta de que el dataset no es equilibrado, contamos con una tasa de abandono del 16%.\n",
    "\n",
    "Por ahora, para realizar el EDA, dejaremos el dataset como está. Sin embargo, para realizar el modelo de clasificación volveremos a mirar esta distribución para entender si es necesario aplicar algún metodo de resampling en la muestra."
   ]
  },
  {
   "cell_type": "code",
   "execution_count": 12,
   "metadata": {},
   "outputs": [
    {
     "data": {
      "image/png": "[encoded data removed]",
      "text/plain": [
       "<Figure size 720x216 with 1 Axes>"
      ]
     },
     "metadata": {
      "needs_background": "dark"
     },
     "output_type": "display_data"
    }
   ],
   "source": [
    "plot_distribution(df,'Attrition','Yes','No','attrition_dist')"
   ]
  },
  {
   "cell_type": "markdown",
   "metadata": {},
   "source": [
    "### 3.2. Análisis Bivariante\n",
    "\n",
    "El análisis bivariante permite estudiar la relación que existe entre dos variables.\n",
    "\n",
    "En este caso, queremos identificar la relación que existe entre la variable 'Atrrition' con las otras variables del dataset. En otras palabras, queremos tener una primera visión de si algún factor podría tener alta correlación con el hecho de que un empleado abandone su puesto de trabajo.\n",
    "\n",
    "Para ello, divideremos el análisis entre las variables categóricas y las variables numericas."
   ]
  },
  {
   "cell_type": "markdown",
   "metadata": {},
   "source": [
    "#### 3.2.1. Variables categoricas\n",
    "\n",
    "Creamos una lista de las variables categoricas para analizar la relación de dichas variables con el hecho de que un empleado renuncie o no a su trabajo en IBM.\n",
    "\n",
    "Podemos identificar que viajar con alta frecuencia, ser un 'Sales Representative', ser soltero/a y trabajar más horas de lo previsto (OverTime) pueden ser factores que lleven al abandono del puesto de trabajo. \n",
    "\n",
    "Sin embargo, otras variables como el género y el grado de estudios no parecen influir en la variables 'Attrition'."
   ]
  },
  {
   "cell_type": "code",
   "execution_count": 13,
   "metadata": {},
   "outputs": [
    {
     "name": "stdout",
     "output_type": "stream",
     "text": [
      "El dataset cuenta con un total de 13 variables que no son numericas\n"
     ]
    },
    {
     "data": {
      "text/plain": [
       "['Attrition',\n",
       " 'BusinessTravel',\n",
       " 'Department',\n",
       " 'Gender',\n",
       " 'JobRole',\n",
       " 'MaritalStatus',\n",
       " 'OverTime',\n",
       " 'Higher_Education',\n",
       " 'Status_of_leaving',\n",
       " 'Mode_of_work',\n",
       " 'Work_accident',\n",
       " 'Source_of_Hire',\n",
       " 'Job_mode']"
      ]
     },
     "execution_count": 13,
     "metadata": {},
     "output_type": "execute_result"
    }
   ],
   "source": [
    "categorical = df.select_dtypes(include=['object']).columns.tolist()\n",
    "print(f'El dataset cuenta con un total de {len(categorical)} variables que no son numericas')\n",
    "categorical"
   ]
  },
  {
   "cell_type": "code",
   "execution_count": 15,
   "metadata": {},
   "outputs": [
    {
     "name": "stderr",
     "output_type": "stream",
     "text": [
      "/Users/leticiamazarinmolina/Documents/THE_BRIDGE/ML/SRC/UTILS/functions.py:140: UserWarning: FixedFormatter should only be used together with FixedLocator\n",
      "  ax.set_yticklabels(data_ratio.index, fontsize=11, color=color_)\n"
     ]
    },
    {
     "data": {
      "image/png": "[encoded data removed]",
      "text/plain": [
       "<Figure size 720x432 with 1 Axes>"
      ]
     },
     "metadata": {
      "needs_background": "light"
     },
     "output_type": "display_data"
    },
    {
     "name": "stderr",
     "output_type": "stream",
     "text": [
      "/Users/leticiamazarinmolina/Documents/THE_BRIDGE/ML/SRC/UTILS/functions.py:140: UserWarning: FixedFormatter should only be used together with FixedLocator\n",
      "  ax.set_yticklabels(data_ratio.index, fontsize=11, color=color_)\n"
     ]
    },
    {
     "name": "stdout",
     "output_type": "stream",
     "text": [
      "None\n"
     ]
    },
    {
     "data": {
      "image/png": "[encoded data removed]",
      "text/plain": [
       "<Figure size 720x432 with 1 Axes>"
      ]
     },
     "metadata": {
      "needs_background": "light"
     },
     "output_type": "display_data"
    },
    {
     "name": "stdout",
     "output_type": "stream",
     "text": [
      "None\n"
     ]
    },
    {
     "name": "stderr",
     "output_type": "stream",
     "text": [
      "/Users/leticiamazarinmolina/Documents/THE_BRIDGE/ML/SRC/UTILS/functions.py:140: UserWarning: FixedFormatter should only be used together with FixedLocator\n",
      "  ax.set_yticklabels(data_ratio.index, fontsize=11, color=color_)\n"
     ]
    },
    {
     "data": {
      "image/png": "[encoded data removed]",
      "text/plain": [
       "<Figure size 720x432 with 1 Axes>"
      ]
     },
     "metadata": {
      "needs_background": "light"
     },
     "output_type": "display_data"
    },
    {
     "name": "stderr",
     "output_type": "stream",
     "text": [
      "/Users/leticiamazarinmolina/Documents/THE_BRIDGE/ML/SRC/UTILS/functions.py:140: UserWarning: FixedFormatter should only be used together with FixedLocator\n",
      "  ax.set_yticklabels(data_ratio.index, fontsize=11, color=color_)\n"
     ]
    },
    {
     "name": "stdout",
     "output_type": "stream",
     "text": [
      "None\n"
     ]
    },
    {
     "data": {
      "image/png": "[encoded data removed]",
      "text/plain": [
       "<Figure size 720x432 with 1 Axes>"
      ]
     },
     "metadata": {
      "needs_background": "light"
     },
     "output_type": "display_data"
    },
    {
     "name": "stdout",
     "output_type": "stream",
     "text": [
      "None\n"
     ]
    },
    {
     "name": "stderr",
     "output_type": "stream",
     "text": [
      "/Users/leticiamazarinmolina/Documents/THE_BRIDGE/ML/SRC/UTILS/functions.py:140: UserWarning: FixedFormatter should only be used together with FixedLocator\n",
      "  ax.set_yticklabels(data_ratio.index, fontsize=11, color=color_)\n"
     ]
    },
    {
     "data": {
      "image/png": "[encoded data removed]",
      "text/plain": [
       "<Figure size 720x432 with 1 Axes>"
      ]
     },
     "metadata": {
      "needs_background": "light"
     },
     "output_type": "display_data"
    },
    {
     "name": "stdout",
     "output_type": "stream",
     "text": [
      "None\n"
     ]
    },
    {
     "name": "stderr",
     "output_type": "stream",
     "text": [
      "/Users/leticiamazarinmolina/Documents/THE_BRIDGE/ML/SRC/UTILS/functions.py:140: UserWarning: FixedFormatter should only be used together with FixedLocator\n",
      "  ax.set_yticklabels(data_ratio.index, fontsize=11, color=color_)\n"
     ]
    },
    {
     "data": {
      "image/png": "[encoded data removed]",
      "text/plain": [
       "<Figure size 720x432 with 1 Axes>"
      ]
     },
     "metadata": {
      "needs_background": "light"
     },
     "output_type": "display_data"
    },
    {
     "name": "stdout",
     "output_type": "stream",
     "text": [
      "None\n"
     ]
    },
    {
     "name": "stderr",
     "output_type": "stream",
     "text": [
      "/Users/leticiamazarinmolina/Documents/THE_BRIDGE/ML/SRC/UTILS/functions.py:140: UserWarning: FixedFormatter should only be used together with FixedLocator\n",
      "  ax.set_yticklabels(data_ratio.index, fontsize=11, color=color_)\n"
     ]
    },
    {
     "data": {
      "image/png": "[encoded data removed]",
      "text/plain": [
       "<Figure size 720x432 with 1 Axes>"
      ]
     },
     "metadata": {
      "needs_background": "light"
     },
     "output_type": "display_data"
    },
    {
     "name": "stdout",
     "output_type": "stream",
     "text": [
      "None\n"
     ]
    },
    {
     "name": "stderr",
     "output_type": "stream",
     "text": [
      "/Users/leticiamazarinmolina/Documents/THE_BRIDGE/ML/SRC/UTILS/functions.py:140: UserWarning: FixedFormatter should only be used together with FixedLocator\n",
      "  ax.set_yticklabels(data_ratio.index, fontsize=11, color=color_)\n"
     ]
    },
    {
     "data": {
      "image/png": "[encoded data removed]",
      "text/plain": [
       "<Figure size 720x432 with 1 Axes>"
      ]
     },
     "metadata": {
      "needs_background": "light"
     },
     "output_type": "display_data"
    },
    {
     "name": "stdout",
     "output_type": "stream",
     "text": [
      "None\n"
     ]
    },
    {
     "name": "stderr",
     "output_type": "stream",
     "text": [
      "/Users/leticiamazarinmolina/Documents/THE_BRIDGE/ML/SRC/UTILS/functions.py:140: UserWarning: FixedFormatter should only be used together with FixedLocator\n",
      "  ax.set_yticklabels(data_ratio.index, fontsize=11, color=color_)\n"
     ]
    },
    {
     "data": {
      "image/png": "[encoded data removed]",
      "text/plain": [
       "<Figure size 720x432 with 1 Axes>"
      ]
     },
     "metadata": {
      "needs_background": "light"
     },
     "output_type": "display_data"
    },
    {
     "name": "stdout",
     "output_type": "stream",
     "text": [
      "None\n"
     ]
    },
    {
     "name": "stderr",
     "output_type": "stream",
     "text": [
      "/Users/leticiamazarinmolina/Documents/THE_BRIDGE/ML/SRC/UTILS/functions.py:140: UserWarning: FixedFormatter should only be used together with FixedLocator\n",
      "  ax.set_yticklabels(data_ratio.index, fontsize=11, color=color_)\n"
     ]
    },
    {
     "data": {
      "image/png": "[encoded data removed]",
      "text/plain": [
       "<Figure size 720x432 with 1 Axes>"
      ]
     },
     "metadata": {
      "needs_background": "light"
     },
     "output_type": "display_data"
    },
    {
     "name": "stdout",
     "output_type": "stream",
     "text": [
      "None\n"
     ]
    },
    {
     "name": "stderr",
     "output_type": "stream",
     "text": [
      "/Users/leticiamazarinmolina/Documents/THE_BRIDGE/ML/SRC/UTILS/functions.py:140: UserWarning: FixedFormatter should only be used together with FixedLocator\n",
      "  ax.set_yticklabels(data_ratio.index, fontsize=11, color=color_)\n"
     ]
    },
    {
     "data": {
      "image/png": "[encoded data removed]",
      "text/plain": [
       "<Figure size 720x432 with 1 Axes>"
      ]
     },
     "metadata": {
      "needs_background": "light"
     },
     "output_type": "display_data"
    },
    {
     "name": "stdout",
     "output_type": "stream",
     "text": [
      "None\n"
     ]
    }
   ],
   "source": [
    "print(attrition_cat(df,'Department', 'Attrition', 'att_department'))\n",
    "print(attrition_cat(df,'Gender', 'Attrition', 'att_gender'))\n",
    "print(attrition_cat(df,'JobRole', 'Attrition', 'att_role'))\n",
    "print(attrition_cat(df,'MaritalStatus', 'Attrition', 'att_marital'))\n",
    "print(attrition_cat(df,'Higher_Education', 'Attrition', 'att_edu'))\n",
    "print(attrition_cat(df,'Status_of_leaving', 'Attrition', 'att_leaving'))\n",
    "print(attrition_cat(df,'Mode_of_work', 'Attrition', 'att_wfh'))\n",
    "print(attrition_cat(df,'Work_accident', 'Attrition', 'att_accident'))\n",
    "print(attrition_cat(df,'Source_of_Hire', 'Attrition', 'att_sourcehiring'))\n",
    "print(attrition_cat(df,'OverTime', 'Attrition', 'att_OverTime'))\n",
    "print(attrition_cat(df,'Job_mode', 'Attrition', 'att_OverTime'))"
   ]
  },
  {
   "cell_type": "markdown",
   "metadata": {},
   "source": [
    "De primeras, podemos concluir que: \n",
    "- Los empleados que tienen que viajar con frecuencia tienen una tasa de abandono más alta de los que viajan poco o que no viajan.\n",
    "- Los representantes de ventas son los que tienen la tasa de abandono más importante.\n",
    "- El estado civil también parece influir. Las personas solteras componen la mayoría de empleados que abandoron el trabajo.\n",
    "- Overtime.\n",
    "- El género, recurso de contratación, modo de trabajo y escolaridad no parecen influir en la tasa de abandono."
   ]
  },
  {
   "cell_type": "markdown",
   "metadata": {},
   "source": [
    "#### 3.3.2. Variables numericas"
   ]
  },
  {
   "cell_type": "markdown",
   "metadata": {},
   "source": [
    "Ahora miramos las varibles numericas"
   ]
  },
  {
   "cell_type": "code",
   "execution_count": 16,
   "metadata": {},
   "outputs": [
    {
     "name": "stdout",
     "output_type": "stream",
     "text": [
      "El dataset cuenta con un total de 18 variables que numericas\n"
     ]
    },
    {
     "data": {
      "text/plain": [
       "Index(['Age', 'DistanceFromHome', 'JobInvolvement', 'JobLevel',\n",
       "       'JobSatisfaction', 'MonthlyIncome', 'NumCompaniesWorked',\n",
       "       'PercentSalaryHike', 'PerformanceRating', 'StockOptionLevel',\n",
       "       'TotalWorkingYears', 'TrainingTimesLastYear', 'YearsAtCompany',\n",
       "       'YearsSinceLastPromotion', 'YearsWithCurrManager', 'Leaves',\n",
       "       'Absenteeism', 'Year_of_Hire'],\n",
       "      dtype='object')"
      ]
     },
     "execution_count": 16,
     "metadata": {},
     "output_type": "execute_result"
    }
   ],
   "source": [
    "numerical= df.select_dtypes(include = 'number').columns\n",
    "print(f'El dataset cuenta con un total de {len(numerical)} variables que numericas')\n",
    "numerical"
   ]
  },
  {
   "cell_type": "code",
   "execution_count": 17,
   "metadata": {},
   "outputs": [
    {
     "name": "stdout",
     "output_type": "stream",
     "text": [
      "Age - [37 21 45 23 22 19 28 29 18 47 48 26 38 34 30 27 50 44 40 24 33 32 42 56\n",
      " 59 39 36 35 31 55 20 51 58 41 43 46 57 54 25 49 60 52 53]\n",
      "DistanceFromHome - [ 2 15  6 22  1  3 10  4 29  5  8 20 17 25  9 16 13 14 11 12 24 19  7 23\n",
      " 18 28 26 21 27]\n",
      "JobInvolvement - [2 3 1 4]\n",
      "JobLevel - [1 3 2 5 4]\n",
      "JobSatisfaction - [3 4 1 2]\n",
      "MonthlyIncome - [ 2090  1232 13245 ... 19586 13872 10312]\n",
      "NumCompaniesWorked - [6 1 4 3 0 2 5 7 8 9]\n",
      "PercentSalaryHike - [15 14 13 19 21 11 12 17 24 20 22 18 16 23 25]\n",
      "PerformanceRating - [3 4]\n",
      "StockOptionLevel - [0 1 2 3]\n",
      "TotalWorkingYears - [ 7  0 17  3  1  5 10 15  8 12 13  6 22  4 14 11 19 23 25  2 24  9 16 18\n",
      " 20 32 21 27 34 29 28 26 30 31 35 33 37 36 40 38]\n",
      "TrainingTimesLastYear - [3 6 5 2 4 0 1]\n",
      "YearsAtCompany - [ 0  1  2  3  4  5  6  7  8  9 10 11 12 13 14 15 16 17 18 19 20 21 22 23\n",
      " 24 25 26 27 29 30 31 32 33 34 36 37 40]\n",
      "YearsSinceLastPromotion - [ 0  1  2  3  4  7  6  5  8  9 10 11 12 14 15 13]\n",
      "YearsWithCurrManager - [ 0  1  2  3  4  5  6  7  8  9 10 11 12 13 14 15 17 16]\n",
      "Leaves - [4 5 1 2 0 3]\n",
      "Absenteeism - [2 3 0 1]\n",
      "Year_of_Hire - [2021 2020 2019 2018 2017 2016 2015 2014 2013 2012 2011 2010 2009 2008\n",
      " 2007 2006 2005 2004 2003 2002 2001 2000 1999 1998 1997 1996 1969 1995\n",
      " 1994 1992 1991 1990 1989 1988 1987 1985 1984 1981]\n"
     ]
    }
   ],
   "source": [
    "for i in numerical:\n",
    "    print(f'{i} - {df[i].unique()}')"
   ]
  },
  {
   "cell_type": "markdown",
   "metadata": {},
   "source": [
    "Podemos concluir que hay algunas variables numericas que realmente son categoricas, como es el caso de 'JobInvolvement', 'JobSatisfaction' y otras.\n",
    "\n",
    "- No es posible entender completamente el significado de la variable 'JobInvolvement', se imagino que cuanto mayor el número, más involucrado está el trabajador con la empresa. Pero se optará por eliminar dicha variable del modelo ya que no es posible saberlo con seguridad.\n",
    "- Lo mismo pasa con la variable 'JobSatisfaction', ya que en un primer momento se podría pensar que cuanto más alto el número, mayor la satisfacción con el trabajo. Sin embargo, lo que pasa es que las puntuaciones 3 y 4 tienen una cuentan con más personas que han abandonado sus trabajos que las puntuaciones 1 y 2.\n",
    "- La variable JobLevel enseña el nivel que tiene cada empleado dentro de la empresa. Aquí podemos ver que, cuanto menor el nivel del puesto de trabajo, mayor es la tasa de abandono.\n",
    "- La variable Absentism no parece influir en la tasa de abandono, además no es se sabe exactamente qué quiere decir cada número, por lo que se optará por eliminarla del modelo."
   ]
  },
  {
   "cell_type": "code",
   "execution_count": 18,
   "metadata": {},
   "outputs": [
    {
     "data": {
      "text/html": [
       "<div>\n",
       "<style scoped>\n",
       "    .dataframe tbody tr th:only-of-type {\n",
       "        vertical-align: middle;\n",
       "    }\n",
       "\n",
       "    .dataframe tbody tr th {\n",
       "        vertical-align: top;\n",
       "    }\n",
       "\n",
       "    .dataframe thead th {\n",
       "        text-align: right;\n",
       "    }\n",
       "</style>\n",
       "<table border=\"1\" class=\"dataframe\">\n",
       "  <thead>\n",
       "    <tr style=\"text-align: right;\">\n",
       "      <th></th>\n",
       "      <th>Attrition</th>\n",
       "    </tr>\n",
       "    <tr>\n",
       "      <th>JobInvolvement</th>\n",
       "      <th></th>\n",
       "    </tr>\n",
       "  </thead>\n",
       "  <tbody>\n",
       "    <tr>\n",
       "      <th>1</th>\n",
       "      <td>0.06</td>\n",
       "    </tr>\n",
       "    <tr>\n",
       "      <th>2</th>\n",
       "      <td>0.26</td>\n",
       "    </tr>\n",
       "    <tr>\n",
       "      <th>3</th>\n",
       "      <td>0.59</td>\n",
       "    </tr>\n",
       "    <tr>\n",
       "      <th>4</th>\n",
       "      <td>0.10</td>\n",
       "    </tr>\n",
       "  </tbody>\n",
       "</table>\n",
       "</div>"
      ],
      "text/plain": [
       "                Attrition\n",
       "JobInvolvement           \n",
       "1                    0.06\n",
       "2                    0.26\n",
       "3                    0.59\n",
       "4                    0.10"
      ]
     },
     "execution_count": 18,
     "metadata": {},
     "output_type": "execute_result"
    }
   ],
   "source": [
    "type_involvement = df.groupby(['JobInvolvement'])['Attrition'].count()\n",
    "ration_attrition_involvement=pd.DataFrame(((type_involvement/len(df))).round(2))\n",
    "\n",
    "ration_attrition_involvement"
   ]
  },
  {
   "cell_type": "code",
   "execution_count": 19,
   "metadata": {},
   "outputs": [
    {
     "data": {
      "text/html": [
       "<div>\n",
       "<style scoped>\n",
       "    .dataframe tbody tr th:only-of-type {\n",
       "        vertical-align: middle;\n",
       "    }\n",
       "\n",
       "    .dataframe tbody tr th {\n",
       "        vertical-align: top;\n",
       "    }\n",
       "\n",
       "    .dataframe thead th {\n",
       "        text-align: right;\n",
       "    }\n",
       "</style>\n",
       "<table border=\"1\" class=\"dataframe\">\n",
       "  <thead>\n",
       "    <tr style=\"text-align: right;\">\n",
       "      <th></th>\n",
       "      <th>Attrition</th>\n",
       "    </tr>\n",
       "    <tr>\n",
       "      <th>JobSatisfaction</th>\n",
       "      <th></th>\n",
       "    </tr>\n",
       "  </thead>\n",
       "  <tbody>\n",
       "    <tr>\n",
       "      <th>1</th>\n",
       "      <td>0.20</td>\n",
       "    </tr>\n",
       "    <tr>\n",
       "      <th>2</th>\n",
       "      <td>0.19</td>\n",
       "    </tr>\n",
       "    <tr>\n",
       "      <th>3</th>\n",
       "      <td>0.30</td>\n",
       "    </tr>\n",
       "    <tr>\n",
       "      <th>4</th>\n",
       "      <td>0.31</td>\n",
       "    </tr>\n",
       "  </tbody>\n",
       "</table>\n",
       "</div>"
      ],
      "text/plain": [
       "                 Attrition\n",
       "JobSatisfaction           \n",
       "1                     0.20\n",
       "2                     0.19\n",
       "3                     0.30\n",
       "4                     0.31"
      ]
     },
     "execution_count": 19,
     "metadata": {},
     "output_type": "execute_result"
    }
   ],
   "source": [
    "type_JobSatisfaction = df.groupby(['JobSatisfaction'])['Attrition'].count()\n",
    "ration_attrition_JobSatisfaction=pd.DataFrame(((type_JobSatisfaction/len(df))).round(2))\n",
    "\n",
    "ration_attrition_JobSatisfaction"
   ]
  },
  {
   "cell_type": "code",
   "execution_count": 20,
   "metadata": {},
   "outputs": [
    {
     "data": {
      "text/html": [
       "<div>\n",
       "<style scoped>\n",
       "    .dataframe tbody tr th:only-of-type {\n",
       "        vertical-align: middle;\n",
       "    }\n",
       "\n",
       "    .dataframe tbody tr th {\n",
       "        vertical-align: top;\n",
       "    }\n",
       "\n",
       "    .dataframe thead th {\n",
       "        text-align: right;\n",
       "    }\n",
       "</style>\n",
       "<table border=\"1\" class=\"dataframe\">\n",
       "  <thead>\n",
       "    <tr style=\"text-align: right;\">\n",
       "      <th></th>\n",
       "      <th>Attrition</th>\n",
       "    </tr>\n",
       "    <tr>\n",
       "      <th>JobLevel</th>\n",
       "      <th></th>\n",
       "    </tr>\n",
       "  </thead>\n",
       "  <tbody>\n",
       "    <tr>\n",
       "      <th>1</th>\n",
       "      <td>0.37</td>\n",
       "    </tr>\n",
       "    <tr>\n",
       "      <th>2</th>\n",
       "      <td>0.36</td>\n",
       "    </tr>\n",
       "    <tr>\n",
       "      <th>3</th>\n",
       "      <td>0.15</td>\n",
       "    </tr>\n",
       "    <tr>\n",
       "      <th>4</th>\n",
       "      <td>0.07</td>\n",
       "    </tr>\n",
       "    <tr>\n",
       "      <th>5</th>\n",
       "      <td>0.05</td>\n",
       "    </tr>\n",
       "  </tbody>\n",
       "</table>\n",
       "</div>"
      ],
      "text/plain": [
       "          Attrition\n",
       "JobLevel           \n",
       "1              0.37\n",
       "2              0.36\n",
       "3              0.15\n",
       "4              0.07\n",
       "5              0.05"
      ]
     },
     "execution_count": 20,
     "metadata": {},
     "output_type": "execute_result"
    }
   ],
   "source": [
    "type_JobLevel = df.groupby(['JobLevel'])['Attrition'].count()\n",
    "ration_attrition_JobLevel=pd.DataFrame(((type_JobLevel/len(df))).round(2))\n",
    "\n",
    "ration_attrition_JobLevel"
   ]
  },
  {
   "cell_type": "code",
   "execution_count": 21,
   "metadata": {},
   "outputs": [
    {
     "data": {
      "text/html": [
       "<div>\n",
       "<style scoped>\n",
       "    .dataframe tbody tr th:only-of-type {\n",
       "        vertical-align: middle;\n",
       "    }\n",
       "\n",
       "    .dataframe tbody tr th {\n",
       "        vertical-align: top;\n",
       "    }\n",
       "\n",
       "    .dataframe thead th {\n",
       "        text-align: right;\n",
       "    }\n",
       "</style>\n",
       "<table border=\"1\" class=\"dataframe\">\n",
       "  <thead>\n",
       "    <tr style=\"text-align: right;\">\n",
       "      <th></th>\n",
       "      <th>Attrition</th>\n",
       "    </tr>\n",
       "    <tr>\n",
       "      <th>Absenteeism</th>\n",
       "      <th></th>\n",
       "    </tr>\n",
       "  </thead>\n",
       "  <tbody>\n",
       "    <tr>\n",
       "      <th>0</th>\n",
       "      <td>0.23</td>\n",
       "    </tr>\n",
       "    <tr>\n",
       "      <th>1</th>\n",
       "      <td>0.27</td>\n",
       "    </tr>\n",
       "    <tr>\n",
       "      <th>2</th>\n",
       "      <td>0.25</td>\n",
       "    </tr>\n",
       "    <tr>\n",
       "      <th>3</th>\n",
       "      <td>0.25</td>\n",
       "    </tr>\n",
       "  </tbody>\n",
       "</table>\n",
       "</div>"
      ],
      "text/plain": [
       "             Attrition\n",
       "Absenteeism           \n",
       "0                 0.23\n",
       "1                 0.27\n",
       "2                 0.25\n",
       "3                 0.25"
      ]
     },
     "execution_count": 21,
     "metadata": {},
     "output_type": "execute_result"
    }
   ],
   "source": [
    "type_Absenteeism = df.groupby(['Absenteeism'])['Attrition'].count()\n",
    "ration_attrition_Absenteeism=pd.DataFrame(((type_Absenteeism/len(df))).round(2))\n",
    "\n",
    "ration_attrition_Absenteeism"
   ]
  },
  {
   "cell_type": "code",
   "execution_count": 22,
   "metadata": {},
   "outputs": [
    {
     "data": {
      "text/html": [
       "<div>\n",
       "<style scoped>\n",
       "    .dataframe tbody tr th:only-of-type {\n",
       "        vertical-align: middle;\n",
       "    }\n",
       "\n",
       "    .dataframe tbody tr th {\n",
       "        vertical-align: top;\n",
       "    }\n",
       "\n",
       "    .dataframe thead th {\n",
       "        text-align: right;\n",
       "    }\n",
       "</style>\n",
       "<table border=\"1\" class=\"dataframe\">\n",
       "  <thead>\n",
       "    <tr style=\"text-align: right;\">\n",
       "      <th></th>\n",
       "      <th>Attrition</th>\n",
       "    </tr>\n",
       "    <tr>\n",
       "      <th>PerformanceRating</th>\n",
       "      <th></th>\n",
       "    </tr>\n",
       "  </thead>\n",
       "  <tbody>\n",
       "    <tr>\n",
       "      <th>3</th>\n",
       "      <td>0.85</td>\n",
       "    </tr>\n",
       "    <tr>\n",
       "      <th>4</th>\n",
       "      <td>0.15</td>\n",
       "    </tr>\n",
       "  </tbody>\n",
       "</table>\n",
       "</div>"
      ],
      "text/plain": [
       "                   Attrition\n",
       "PerformanceRating           \n",
       "3                       0.85\n",
       "4                       0.15"
      ]
     },
     "execution_count": 22,
     "metadata": {},
     "output_type": "execute_result"
    }
   ],
   "source": [
    "type_PerformanceRating = df.groupby(['PerformanceRating'])['Attrition'].count()\n",
    "ration_attrition_PerformanceRating=pd.DataFrame(((type_PerformanceRating/len(df))).round(2))\n",
    "\n",
    "ration_attrition_PerformanceRating"
   ]
  },
  {
   "cell_type": "markdown",
   "metadata": {},
   "source": [
    "##### Número de empresas en las que ha trabajado"
   ]
  },
  {
   "cell_type": "code",
   "execution_count": 23,
   "metadata": {},
   "outputs": [
    {
     "data": {
      "text/plain": [
       "<AxesSubplot:xlabel='Attrition', ylabel='NumCompaniesWorked'>"
      ]
     },
     "execution_count": 23,
     "metadata": {},
     "output_type": "execute_result"
    },
    {
     "data": {
      "image/png": "[encoded data removed]",
      "text/plain": [
       "<Figure size 432x288 with 1 Axes>"
      ]
     },
     "metadata": {
      "needs_background": "light"
     },
     "output_type": "display_data"
    }
   ],
   "source": [
    "sns.boxplot(y='NumCompaniesWorked',x='Attrition',data=df, palette=['#001d6c','#4589ff'], color='black')"
   ]
  },
  {
   "cell_type": "markdown",
   "metadata": {},
   "source": [
    "##### Edad\n",
    "\n",
    "Con relación a la edad de los empleados, podemos concluir que los empleados más jovenes tienen 20 años mientras que los más ancianos tienen 60 años. Además, la mayor concentración de empleados está entre los 30 y los 45 años de edad. También se ve una ligera tenedencia que los más jovenes abandonen sus trabajos más que los más ancianos."
   ]
  },
  {
   "cell_type": "code",
   "execution_count": 24,
   "metadata": {},
   "outputs": [
    {
     "name": "stderr",
     "output_type": "stream",
     "text": [
      "/Users/leticiamazarinmolina/opt/miniconda3/envs/the_bridge/lib/python3.9/site-packages/seaborn/distributions.py:2619: FutureWarning: `distplot` is a deprecated function and will be removed in a future version. Please adapt your code to use either `displot` (a figure-level function with similar flexibility) or `histplot` (an axes-level function for histograms).\n",
      "  warnings.warn(msg, FutureWarning)\n"
     ]
    },
    {
     "data": {
      "text/plain": [
       "<AxesSubplot:xlabel='Age', ylabel='Density'>"
      ]
     },
     "execution_count": 24,
     "metadata": {},
     "output_type": "execute_result"
    },
    {
     "data": {
      "image/png": "[encoded data removed]",
      "text/plain": [
       "<Figure size 432x288 with 1 Axes>"
      ]
     },
     "metadata": {
      "needs_background": "light"
     },
     "output_type": "display_data"
    }
   ],
   "source": [
    "sns.distplot(df['Age'],hist=True,bins=20, color='#ff7eb6')"
   ]
  },
  {
   "cell_type": "code",
   "execution_count": 25,
   "metadata": {},
   "outputs": [
    {
     "data": {
      "text/plain": [
       "<AxesSubplot:xlabel='Attrition', ylabel='Age'>"
      ]
     },
     "execution_count": 25,
     "metadata": {},
     "output_type": "execute_result"
    },
    {
     "data": {
      "image/png": "[encoded data removed]",
      "text/plain": [
       "<Figure size 432x288 with 1 Axes>"
      ]
     },
     "metadata": {
      "needs_background": "light"
     },
     "output_type": "display_data"
    }
   ],
   "source": [
    "sns.boxplot(y='Age',x='Attrition',data=df, palette=['#001d6c','#4589ff'], color='black')"
   ]
  },
  {
   "cell_type": "markdown",
   "metadata": {},
   "source": [
    "##### Distancia de casa\n",
    "\n",
    "La mayoría de los empleados parece vivir cerca del trabajo.\n",
    "\n",
    "También es posible ver, en el diagrama de caja que la media de la distancia del trabajo de los empleados que abandanaron sus puestos es más alta de la media de los que no abandonaron. "
   ]
  },
  {
   "cell_type": "code",
   "execution_count": 26,
   "metadata": {},
   "outputs": [
    {
     "name": "stderr",
     "output_type": "stream",
     "text": [
      "/Users/leticiamazarinmolina/opt/miniconda3/envs/the_bridge/lib/python3.9/site-packages/seaborn/distributions.py:2619: FutureWarning: `distplot` is a deprecated function and will be removed in a future version. Please adapt your code to use either `displot` (a figure-level function with similar flexibility) or `histplot` (an axes-level function for histograms).\n",
      "  warnings.warn(msg, FutureWarning)\n"
     ]
    },
    {
     "data": {
      "text/plain": [
       "<AxesSubplot:xlabel='DistanceFromHome', ylabel='Density'>"
      ]
     },
     "execution_count": 26,
     "metadata": {},
     "output_type": "execute_result"
    },
    {
     "data": {
      "image/png": "[encoded data removed]",
      "text/plain": [
       "<Figure size 432x288 with 1 Axes>"
      ]
     },
     "metadata": {
      "needs_background": "light"
     },
     "output_type": "display_data"
    }
   ],
   "source": [
    "sns.distplot(df['DistanceFromHome'],hist=True,bins=20, color='#ff7eb6')"
   ]
  },
  {
   "cell_type": "code",
   "execution_count": 27,
   "metadata": {},
   "outputs": [
    {
     "data": {
      "text/plain": [
       "<AxesSubplot:xlabel='Attrition', ylabel='DistanceFromHome'>"
      ]
     },
     "execution_count": 27,
     "metadata": {},
     "output_type": "execute_result"
    },
    {
     "data": {
      "image/png": "[encoded data removed]",
      "text/plain": [
       "<Figure size 432x288 with 1 Axes>"
      ]
     },
     "metadata": {
      "needs_background": "light"
     },
     "output_type": "display_data"
    }
   ],
   "source": [
    "sns.boxplot(y='DistanceFromHome',x='Attrition',data=df, palette=['#001d6c','#4589ff'], color='black')"
   ]
  },
  {
   "cell_type": "markdown",
   "metadata": {},
   "source": [
    "##### Sueldos\n",
    "\n",
    "Podemos ver que la mayoría de los empleados tienen sueldos mensuales de entre 2.500 y 5.000. También es posible conluir, al mirar el diagrama de cajas, que la media de los sueldos mensuales de los empleados que abandonan es más baja que la media de los que no abandonan. \n",
    "\n",
    "Vemos que en 'Monthly income' hay outliers que pueden impactar el modelo. Los outliers pueden sesgar las medidas estadísticas y las distribuciones de datos, proporcionando una representación engañosa de los datos y las relaciones subyacentes. La eliminación de estos valores antes del modelado puede dar como resultado un mejor ajuste de los datos y, a su vez, predicciones más hábiles.\n",
    "\n",
    "Se verá más adelante que la variable de sueldos ('MontlyIncome') está muy correlacionada con otras variables como el nivel del puesto de trabajo o el hecho de que alguien sea Director. Además, como vemos que contamos con outliers en esa variable, se optará por eliminarla del modelo para facilitar el analisis. \n",
    "\n"
   ]
  },
  {
   "cell_type": "code",
   "execution_count": 28,
   "metadata": {},
   "outputs": [
    {
     "name": "stderr",
     "output_type": "stream",
     "text": [
      "/Users/leticiamazarinmolina/opt/miniconda3/envs/the_bridge/lib/python3.9/site-packages/seaborn/distributions.py:2619: FutureWarning: `distplot` is a deprecated function and will be removed in a future version. Please adapt your code to use either `displot` (a figure-level function with similar flexibility) or `histplot` (an axes-level function for histograms).\n",
      "  warnings.warn(msg, FutureWarning)\n"
     ]
    },
    {
     "data": {
      "text/plain": [
       "<AxesSubplot:xlabel='MonthlyIncome', ylabel='Density'>"
      ]
     },
     "execution_count": 28,
     "metadata": {},
     "output_type": "execute_result"
    },
    {
     "data": {
      "image/png": "[encoded data removed]",
      "text/plain": [
       "<Figure size 432x288 with 1 Axes>"
      ]
     },
     "metadata": {
      "needs_background": "light"
     },
     "output_type": "display_data"
    }
   ],
   "source": [
    "sns.distplot(df['MonthlyIncome'],hist=True,bins=20, color='#ff7eb6')"
   ]
  },
  {
   "cell_type": "code",
   "execution_count": 29,
   "metadata": {},
   "outputs": [
    {
     "data": {
      "text/plain": [
       "<AxesSubplot:xlabel='Attrition', ylabel='MonthlyIncome'>"
      ]
     },
     "execution_count": 29,
     "metadata": {},
     "output_type": "execute_result"
    },
    {
     "data": {
      "image/png": "[encoded data removed]",
      "text/plain": [
       "<Figure size 432x288 with 1 Axes>"
      ]
     },
     "metadata": {
      "needs_background": "light"
     },
     "output_type": "display_data"
    }
   ],
   "source": [
    "sns.boxplot(y='MonthlyIncome',x='Attrition',data=df, palette=['#001d6c','#4589ff'])"
   ]
  },
  {
   "cell_type": "code",
   "execution_count": 30,
   "metadata": {},
   "outputs": [
    {
     "data": {
      "text/plain": [
       "<AxesSubplot:xlabel='Attrition', ylabel='YearsWithCurrManager'>"
      ]
     },
     "execution_count": 30,
     "metadata": {},
     "output_type": "execute_result"
    },
    {
     "data": {
      "image/png": "[encoded data removed]",
      "text/plain": [
       "<Figure size 432x288 with 1 Axes>"
      ]
     },
     "metadata": {
      "needs_background": "light"
     },
     "output_type": "display_data"
    }
   ],
   "source": [
    "sns.boxplot(y='YearsWithCurrManager',x='Attrition',data=df, palette=['#001d6c','#4589ff'])"
   ]
  },
  {
   "cell_type": "markdown",
   "metadata": {},
   "source": [
    "##### Años con el mismo Manager"
   ]
  },
  {
   "cell_type": "code",
   "execution_count": 31,
   "metadata": {},
   "outputs": [
    {
     "name": "stderr",
     "output_type": "stream",
     "text": [
      "/Users/leticiamazarinmolina/opt/miniconda3/envs/the_bridge/lib/python3.9/site-packages/seaborn/distributions.py:2619: FutureWarning: `distplot` is a deprecated function and will be removed in a future version. Please adapt your code to use either `displot` (a figure-level function with similar flexibility) or `histplot` (an axes-level function for histograms).\n",
      "  warnings.warn(msg, FutureWarning)\n"
     ]
    },
    {
     "data": {
      "text/plain": [
       "<AxesSubplot:xlabel='YearsAtCompany', ylabel='Density'>"
      ]
     },
     "execution_count": 31,
     "metadata": {},
     "output_type": "execute_result"
    },
    {
     "data": {
      "image/png": "[encoded data removed]",
      "text/plain": [
       "<Figure size 432x288 with 1 Axes>"
      ]
     },
     "metadata": {
      "needs_background": "light"
     },
     "output_type": "display_data"
    }
   ],
   "source": [
    "sns.distplot(df['YearsAtCompany'],hist=True,bins=20, color='#ff7eb6')"
   ]
  },
  {
   "cell_type": "code",
   "execution_count": 32,
   "metadata": {},
   "outputs": [
    {
     "data": {
      "text/plain": [
       "<AxesSubplot:xlabel='Attrition', ylabel='YearsAtCompany'>"
      ]
     },
     "execution_count": 32,
     "metadata": {},
     "output_type": "execute_result"
    },
    {
     "data": {
      "image/png": "[encoded data removed]",
      "text/plain": [
       "<Figure size 432x288 with 1 Axes>"
      ]
     },
     "metadata": {
      "needs_background": "light"
     },
     "output_type": "display_data"
    }
   ],
   "source": [
    "sns.boxplot(y='YearsAtCompany',x='Attrition',data=df, palette=['#001d6c','#4589ff'])"
   ]
  },
  {
   "cell_type": "markdown",
   "metadata": {},
   "source": [
    "Aquí también podemos ver la presencia de muchos outliers para esa variable."
   ]
  },
  {
   "cell_type": "markdown",
   "metadata": {},
   "source": [
    "## 3. Transformación de los datos para el modelo"
   ]
  },
  {
   "cell_type": "code",
   "execution_count": 30,
   "metadata": {},
   "outputs": [],
   "source": [
    "df_ = df.copy()"
   ]
  },
  {
   "cell_type": "markdown",
   "metadata": {},
   "source": [
    "Eliminamos columnas que consideramos que no servirán para el modelo, porque vimos ya que no parecen influir en la decisión de renunciar o no el trabajo."
   ]
  },
  {
   "cell_type": "code",
   "execution_count": 31,
   "metadata": {},
   "outputs": [],
   "source": [
    "df.drop(['Source_of_Hire', 'Higher_Education', 'Work_accident', 'Department', 'Mode_of_work', 'JobInvolvement', 'JobSatisfaction', 'Absenteeism'], inplace=True, axis=1)"
   ]
  },
  {
   "cell_type": "code",
   "execution_count": 32,
   "metadata": {},
   "outputs": [],
   "source": [
    "rename_jobrole = {\n",
    "    'Laboratory Technician': 'Lab_Technician', \n",
    "    'Research Scientist': 'Scientist',\n",
    "    'Research Director': 'Director',\n",
    "    'Sales Representative': 'Sales_Rep',\n",
    "    'Sales Executive': 'Sales_Executive',\n",
    "    'Manager': 'Manager',\n",
    "    'Manufacturing Director': 'Director',\n",
    "    'Healthcare Representative': 'Healthcare_Rep',\n",
    "    'Human Resources': 'HR'\n",
    "}\n",
    "\n",
    "df.replace(rename_jobrole, inplace=True)"
   ]
  },
  {
   "cell_type": "code",
   "execution_count": 33,
   "metadata": {},
   "outputs": [],
   "source": [
    "df = pd.get_dummies(df,columns=['Attrition',\n",
    "'BusinessTravel',\n",
    " 'JobRole',\n",
    " 'Gender',\n",
    " 'MaritalStatus',\n",
    " 'OverTime',\n",
    " 'Job_mode',\n",
    " 'Status_of_leaving'], \n",
    " drop_first=True)"
   ]
  },
  {
   "cell_type": "code",
   "execution_count": 34,
   "metadata": {},
   "outputs": [
    {
     "data": {
      "text/plain": [
       "Index(['Age', 'DistanceFromHome', 'JobLevel', 'MonthlyIncome',\n",
       "       'NumCompaniesWorked', 'PercentSalaryHike', 'PerformanceRating',\n",
       "       'StockOptionLevel', 'TotalWorkingYears', 'TrainingTimesLastYear',\n",
       "       'YearsAtCompany', 'YearsSinceLastPromotion', 'YearsWithCurrManager',\n",
       "       'Leaves', 'Year_of_Hire', 'Attrition_Yes',\n",
       "       'BusinessTravel_Travel_Frequently', 'BusinessTravel_Travel_Rarely',\n",
       "       'JobRole_HR', 'JobRole_Healthcare_Rep', 'JobRole_Lab_Technician',\n",
       "       'JobRole_Manager', 'JobRole_Sales_Executive', 'JobRole_Sales_Rep',\n",
       "       'JobRole_Scientist', 'Gender_Male', 'MaritalStatus_Married',\n",
       "       'MaritalStatus_Single', 'OverTime_Yes', 'Job_mode_FullTime',\n",
       "       'Job_mode_Part Time', 'Status_of_leaving_Dept.Head',\n",
       "       'Status_of_leaving_Salary', 'Status_of_leaving_Work Accident',\n",
       "       'Status_of_leaving_Work Environment'],\n",
       "      dtype='object')"
      ]
     },
     "execution_count": 34,
     "metadata": {},
     "output_type": "execute_result"
    }
   ],
   "source": [
    "df.columns"
   ]
  },
  {
   "cell_type": "code",
   "execution_count": 35,
   "metadata": {},
   "outputs": [],
   "source": [
    "rename_columns={\n",
    "    'Attrition_Yes': 'Attrition',\n",
    "    'BusinessTravel_Travel_Frequently': 'Frequently_Travel',\n",
    "    'BusinessTravel_Travel_Rarely': 'Rarely_Travel',\n",
    "    'Gender_Male': 'Male',\n",
    "    'MaritalStatus_Married': 'Married',\n",
    "    'MaritalStatus_Single': 'Single',\n",
    "    'OverTime_Yes': 'OverTime',\n",
    "    'Status_of_leaving_Dept.Head': 'Leaving_DeptHead',\n",
    "    'Status_of_leaving_Salary': 'Leaving_Salary',\n",
    "    'Status_of_leaving_Work Accident': 'Leaving_Accident',\n",
    "    'Status_of_leaving_Work Environment': 'Leaving_Environment',\n",
    "    'JobRole_Lab_Technician': 'Lab_Technician', \n",
    "    'JobRole_Scientist': 'Scientist',\n",
    "    'JobRole_Director': 'Director',\n",
    "    'JobRole_Sales_Rep': 'Sales_Rep',\n",
    "    'JobRole_Sales_Executive': 'Sales_Executive',\n",
    "    'JobRole_Manager': 'Manager',\n",
    "    'JobRole_Healthcare_Rep': 'Healthcare_Rep',\n",
    "    'JobRole_HR': 'HR',\n",
    "    'Job_mode_FullTime': 'FullTime',\n",
    "    'Job_mode_Part Time': 'PartTime'\n",
    "}\n",
    "\n",
    "df.rename(columns = rename_columns, inplace = True)\n"
   ]
  },
  {
   "cell_type": "code",
   "execution_count": 36,
   "metadata": {},
   "outputs": [
    {
     "name": "stdout",
     "output_type": "stream",
     "text": [
      "<class 'pandas.core.frame.DataFrame'>\n",
      "RangeIndex: 1470 entries, 0 to 1469\n",
      "Data columns (total 35 columns):\n",
      " #   Column                   Non-Null Count  Dtype\n",
      "---  ------                   --------------  -----\n",
      " 0   Age                      1470 non-null   int64\n",
      " 1   DistanceFromHome         1470 non-null   int64\n",
      " 2   JobLevel                 1470 non-null   int64\n",
      " 3   MonthlyIncome            1470 non-null   int64\n",
      " 4   NumCompaniesWorked       1470 non-null   int64\n",
      " 5   PercentSalaryHike        1470 non-null   int64\n",
      " 6   PerformanceRating        1470 non-null   int64\n",
      " 7   StockOptionLevel         1470 non-null   int64\n",
      " 8   TotalWorkingYears        1470 non-null   int64\n",
      " 9   TrainingTimesLastYear    1470 non-null   int64\n",
      " 10  YearsAtCompany           1470 non-null   int64\n",
      " 11  YearsSinceLastPromotion  1470 non-null   int64\n",
      " 12  YearsWithCurrManager     1470 non-null   int64\n",
      " 13  Leaves                   1470 non-null   int64\n",
      " 14  Year_of_Hire             1470 non-null   int64\n",
      " 15  Attrition                1470 non-null   uint8\n",
      " 16  Frequently_Travel        1470 non-null   uint8\n",
      " 17  Rarely_Travel            1470 non-null   uint8\n",
      " 18  HR                       1470 non-null   uint8\n",
      " 19  Healthcare_Rep           1470 non-null   uint8\n",
      " 20  Lab_Technician           1470 non-null   uint8\n",
      " 21  Manager                  1470 non-null   uint8\n",
      " 22  Sales_Executive          1470 non-null   uint8\n",
      " 23  Sales_Rep                1470 non-null   uint8\n",
      " 24  Scientist                1470 non-null   uint8\n",
      " 25  Male                     1470 non-null   uint8\n",
      " 26  Married                  1470 non-null   uint8\n",
      " 27  Single                   1470 non-null   uint8\n",
      " 28  OverTime                 1470 non-null   uint8\n",
      " 29  FullTime                 1470 non-null   uint8\n",
      " 30  PartTime                 1470 non-null   uint8\n",
      " 31  Leaving_DeptHead         1470 non-null   uint8\n",
      " 32  Leaving_Salary           1470 non-null   uint8\n",
      " 33  Leaving_Accident         1470 non-null   uint8\n",
      " 34  Leaving_Environment      1470 non-null   uint8\n",
      "dtypes: int64(15), uint8(20)\n",
      "memory usage: 201.1 KB\n"
     ]
    }
   ],
   "source": [
    "df.info()"
   ]
  },
  {
   "cell_type": "code",
   "execution_count": 37,
   "metadata": {},
   "outputs": [
    {
     "data": {
      "text/plain": [
       "Attrition                  1.000000\n",
       "OverTime                   0.246118\n",
       "Single                     0.175419\n",
       "Sales_Rep                  0.157234\n",
       "Year_of_Hire               0.133662\n",
       "Frequently_Travel          0.115143\n",
       "Lab_Technician             0.098290\n",
       "DistanceFromHome           0.077924\n",
       "NumCompaniesWorked         0.043494\n",
       "Leaving_Accident           0.042352\n",
       "HR                         0.036215\n",
       "Male                       0.029453\n",
       "Sales_Executive            0.019774\n",
       "Leaving_Salary             0.018965\n",
       "FullTime                   0.014129\n",
       "PerformanceRating          0.002889\n",
       "Scientist                 -0.000360\n",
       "PercentSalaryHike         -0.013478\n",
       "Leaving_Environment       -0.017456\n",
       "Leaving_DeptHead          -0.020873\n",
       "YearsSinceLastPromotion   -0.033019\n",
       "Leaves                    -0.041820\n",
       "Rarely_Travel             -0.049538\n",
       "PartTime                  -0.055250\n",
       "TrainingTimesLastYear     -0.059478\n",
       "Healthcare_Rep            -0.078696\n",
       "Manager                   -0.083316\n",
       "Married                   -0.090984\n",
       "YearsAtCompany            -0.134392\n",
       "StockOptionLevel          -0.137145\n",
       "YearsWithCurrManager      -0.156199\n",
       "Age                       -0.159205\n",
       "MonthlyIncome             -0.159840\n",
       "JobLevel                  -0.169105\n",
       "TotalWorkingYears         -0.171063\n",
       "Name: Attrition, dtype: float64"
      ]
     },
     "execution_count": 37,
     "metadata": {},
     "output_type": "execute_result"
    }
   ],
   "source": [
    "corr_matrix = df.corr() \n",
    "(corr_matrix['Attrition'].sort_values(ascending = False))"
   ]
  },
  {
   "cell_type": "code",
   "execution_count": 38,
   "metadata": {},
   "outputs": [
    {
     "data": {
      "image/png": "[encoded data removed]",
      "text/plain": [
       "<Figure size 1440x1080 with 2 Axes>"
      ]
     },
     "metadata": {
      "needs_background": "light"
     },
     "output_type": "display_data"
    }
   ],
   "source": [
    "plt.figure(figsize = (20,15))\n",
    "sns.heatmap(df.corr(), annot = False, cmap = 'coolwarm')\n",
    "plt.show()"
   ]
  },
  {
   "cell_type": "markdown",
   "metadata": {},
   "source": [
    "Vemos que algunas variables tienen una correlación muy alta como:\n",
    "- 'Monthly Income' y 'JobLevel'\n",
    "- 'Total working years' y 'Age'\n",
    "- 'Total working years' y 'JobRole'\n",
    "- 'Total working years' y 'Monthly Income'\n",
    "- 'Year with current Manager' y 'Years at company'\n",
    "\n",
    "- 'Year of Hire' y 'Years at Company' están inversamente correlacionadas"
   ]
  },
  {
   "cell_type": "code",
   "execution_count": 39,
   "metadata": {},
   "outputs": [],
   "source": [
    "df_1 = df.drop(['PerformanceRating','YearsAtCompany', 'MonthlyIncome', 'NumCompaniesWorked'], axis=1)"
   ]
  },
  {
   "cell_type": "code",
   "execution_count": 40,
   "metadata": {},
   "outputs": [
    {
     "data": {
      "image/png": "[encoded data removed]",
      "text/plain": [
       "<Figure size 1440x1080 with 2 Axes>"
      ]
     },
     "metadata": {
      "needs_background": "light"
     },
     "output_type": "display_data"
    }
   ],
   "source": [
    "plt.figure(figsize = (20,15))\n",
    "sns.heatmap(df_1.corr(), annot = False, cmap = 'coolwarm')\n",
    "plt.show()"
   ]
  },
  {
   "cell_type": "code",
   "execution_count": 41,
   "metadata": {},
   "outputs": [
    {
     "name": "stdout",
     "output_type": "stream",
     "text": [
      "<class 'pandas.core.frame.DataFrame'>\n",
      "RangeIndex: 1470 entries, 0 to 1469\n",
      "Data columns (total 31 columns):\n",
      " #   Column                   Non-Null Count  Dtype\n",
      "---  ------                   --------------  -----\n",
      " 0   Age                      1470 non-null   int64\n",
      " 1   DistanceFromHome         1470 non-null   int64\n",
      " 2   JobLevel                 1470 non-null   int64\n",
      " 3   PercentSalaryHike        1470 non-null   int64\n",
      " 4   StockOptionLevel         1470 non-null   int64\n",
      " 5   TotalWorkingYears        1470 non-null   int64\n",
      " 6   TrainingTimesLastYear    1470 non-null   int64\n",
      " 7   YearsSinceLastPromotion  1470 non-null   int64\n",
      " 8   YearsWithCurrManager     1470 non-null   int64\n",
      " 9   Leaves                   1470 non-null   int64\n",
      " 10  Year_of_Hire             1470 non-null   int64\n",
      " 11  Attrition                1470 non-null   uint8\n",
      " 12  Frequently_Travel        1470 non-null   uint8\n",
      " 13  Rarely_Travel            1470 non-null   uint8\n",
      " 14  HR                       1470 non-null   uint8\n",
      " 15  Healthcare_Rep           1470 non-null   uint8\n",
      " 16  Lab_Technician           1470 non-null   uint8\n",
      " 17  Manager                  1470 non-null   uint8\n",
      " 18  Sales_Executive          1470 non-null   uint8\n",
      " 19  Sales_Rep                1470 non-null   uint8\n",
      " 20  Scientist                1470 non-null   uint8\n",
      " 21  Male                     1470 non-null   uint8\n",
      " 22  Married                  1470 non-null   uint8\n",
      " 23  Single                   1470 non-null   uint8\n",
      " 24  OverTime                 1470 non-null   uint8\n",
      " 25  FullTime                 1470 non-null   uint8\n",
      " 26  PartTime                 1470 non-null   uint8\n",
      " 27  Leaving_DeptHead         1470 non-null   uint8\n",
      " 28  Leaving_Salary           1470 non-null   uint8\n",
      " 29  Leaving_Accident         1470 non-null   uint8\n",
      " 30  Leaving_Environment      1470 non-null   uint8\n",
      "dtypes: int64(11), uint8(20)\n",
      "memory usage: 155.2 KB\n"
     ]
    }
   ],
   "source": [
    "df_1.info()"
   ]
  },
  {
   "cell_type": "code",
   "execution_count": 99,
   "metadata": {},
   "outputs": [
    {
     "name": "stdout",
     "output_type": "stream",
     "text": [
      "Directory already exists\n"
     ]
    }
   ],
   "source": [
    "# después de tratar los datos, guardamos ese documento para empezar a analizarlos.\n",
    "try:\n",
    "    os.mkdir(f'{os.getcwd()}/DATA/clean/')\n",
    "except:\n",
    "    print('Directory already exists')\n",
    "\n",
    "df_1.to_csv(f'{os.getcwd()}/DATA/clean/Attrition_clean.csv', index=False)"
   ]
  },
  {
   "cell_type": "markdown",
   "metadata": {},
   "source": [
    "## 4. Separamos los datos"
   ]
  },
  {
   "cell_type": "code",
   "execution_count": 44,
   "metadata": {},
   "outputs": [],
   "source": [
    "X = df_1.drop('Attrition', axis = 1)\n",
    "y = df_1['Attrition']"
   ]
  },
  {
   "cell_type": "code",
   "execution_count": 45,
   "metadata": {},
   "outputs": [],
   "source": [
    "X_train, X_test, y_train, y_test = train_test_split(X, y, test_size = 0.2, random_state = 1234)"
   ]
  },
  {
   "cell_type": "markdown",
   "metadata": {},
   "source": [
    "## 5. Creamos los modelos\n",
    "\n",
    "Se ha optado por crear distintos modelos de predicción de clasificación para encontrar el que llegue a los mejores resultados.\n",
    "\n",
    "Los modelos son:\n",
    "- Logistic Regression\n",
    "- Decision Trees\n",
    "- Random Forest\n",
    "- KNN\n",
    "\n",
    "Los parametros utilizados para medir los modelos son:\n",
    "- Acuracy\n",
    "- F1 Score\n",
    "\n",
    "Para empezar, crearemos los modelos con el dataset original para ver que resultados obetenemos. Después se optará por realizar un oversampling, ya que al tener el dataset con una distribución de la variable target muy desequilibrada, los modelos creados sin el oversampling presentarán muchos sesgos."
   ]
  },
  {
   "cell_type": "markdown",
   "metadata": {},
   "source": [
    "### Regresión Logística"
   ]
  },
  {
   "cell_type": "code",
   "execution_count": 46,
   "metadata": {},
   "outputs": [
    {
     "name": "stdout",
     "output_type": "stream",
     "text": [
      "0.8673469387755102\n",
      "0.3157894736842105\n",
      "              precision    recall  f1-score   support\n",
      "\n",
      "           0       0.88      0.98      0.93       250\n",
      "           1       0.69      0.20      0.32        44\n",
      "\n",
      "    accuracy                           0.87       294\n",
      "   macro avg       0.78      0.59      0.62       294\n",
      "weighted avg       0.85      0.87      0.84       294\n",
      "\n"
     ]
    },
    {
     "name": "stderr",
     "output_type": "stream",
     "text": [
      "/Users/leticiamazarinmolina/opt/miniconda3/envs/the_bridge/lib/python3.9/site-packages/sklearn/linear_model/_logistic.py:444: ConvergenceWarning: lbfgs failed to converge (status=1):\n",
      "STOP: TOTAL NO. of ITERATIONS REACHED LIMIT.\n",
      "\n",
      "Increase the number of iterations (max_iter) or scale the data as shown in:\n",
      "    https://scikit-learn.org/stable/modules/preprocessing.html\n",
      "Please also refer to the documentation for alternative solver options:\n",
      "    https://scikit-learn.org/stable/modules/linear_model.html#logistic-regression\n",
      "  n_iter_i = _check_optimize_result(\n"
     ]
    }
   ],
   "source": [
    "model_log = LogisticRegression(random_state=1234)\n",
    "log = model_log.fit(X_train,y_train)\n",
    "y_pred_log = log.predict(X_test)\n",
    "\n",
    "print(accuracy_score(y_test, y_pred_log))\n",
    "print(f1_score(y_test, y_pred_log))\n",
    "print(classification_report(y_test, y_pred_log))"
   ]
  },
  {
   "cell_type": "code",
   "execution_count": 47,
   "metadata": {},
   "outputs": [
    {
     "data": {
      "image/png": "[encoded data removed]",
      "text/plain": [
       "<Figure size 432x288 with 2 Axes>"
      ]
     },
     "metadata": {
      "needs_background": "light"
     },
     "output_type": "display_data"
    }
   ],
   "source": [
    "plt.figure(figsize = (6,4)) \n",
    "df_ = pd.DataFrame(confusion_matrix(y_test, y_pred_log), range(2),range(2))\n",
    "sns.set(font_scale=1.4)#for label size\n",
    "sns.heatmap(df_, annot=True,annot_kws={\"size\": 16}, fmt='g')\n",
    "plt.xlabel('Predicción')\n",
    "plt.ylabel('Original')\n",
    "plt.show()"
   ]
  },
  {
   "cell_type": "markdown",
   "metadata": {},
   "source": [
    "### Decision Trees"
   ]
  },
  {
   "cell_type": "code",
   "execution_count": 48,
   "metadata": {},
   "outputs": [
    {
     "name": "stdout",
     "output_type": "stream",
     "text": [
      "0.7619047619047619\n",
      "0.3\n",
      "              precision    recall  f1-score   support\n",
      "\n",
      "           0       0.88      0.84      0.86       250\n",
      "           1       0.27      0.34      0.30        44\n",
      "\n",
      "    accuracy                           0.76       294\n",
      "   macro avg       0.57      0.59      0.58       294\n",
      "weighted avg       0.79      0.76      0.77       294\n",
      "\n"
     ]
    }
   ],
   "source": [
    "tree = DecisionTreeClassifier(max_depth=15, random_state=1234)\n",
    "tree.fit(X_train,y_train)\n",
    "y_pred_tree = tree.predict(X_test)\n",
    "print(tree.score(X_test, y_test))\n",
    "print(f1_score(y_test, y_pred_tree))\n",
    "print(classification_report(y_test, y_pred_tree))"
   ]
  },
  {
   "cell_type": "code",
   "execution_count": 49,
   "metadata": {},
   "outputs": [
    {
     "data": {
      "image/png": "[encoded data removed]",
      "text/plain": [
       "<Figure size 432x288 with 2 Axes>"
      ]
     },
     "metadata": {},
     "output_type": "display_data"
    }
   ],
   "source": [
    "plt.figure(figsize = (6,4)) \n",
    "df_ = pd.DataFrame(confusion_matrix(y_test, y_pred_tree), range(2),range(2))\n",
    "sns.set(font_scale=1.4)#for label size\n",
    "sns.heatmap(df_, annot=True,annot_kws={\"size\": 16}, fmt='g')\n",
    "plt.xlabel('Predicción')\n",
    "plt.ylabel('Original')\n",
    "plt.show()"
   ]
  },
  {
   "cell_type": "markdown",
   "metadata": {},
   "source": [
    "### Random Forest"
   ]
  },
  {
   "cell_type": "code",
   "execution_count": 50,
   "metadata": {},
   "outputs": [
    {
     "name": "stdout",
     "output_type": "stream",
     "text": [
      "100.0\n",
      "0.3272727272727273\n",
      "              precision    recall  f1-score   support\n",
      "\n",
      "           0       0.88      0.99      0.93       250\n",
      "           1       0.82      0.20      0.33        44\n",
      "\n",
      "    accuracy                           0.87       294\n",
      "   macro avg       0.85      0.60      0.63       294\n",
      "weighted avg       0.87      0.87      0.84       294\n",
      "\n"
     ]
    }
   ],
   "source": [
    "from sklearn.ensemble import RandomForestClassifier\n",
    "estimadores = RandomForestClassifier().get_params()\n",
    "parametros_busqueda = {\n",
    "    'criterion': ['gini', 'entropy'],\n",
    "    'n_estimators': np.linspace(10,100,10).astype(int),\n",
    "    'class_weight': [None, 'balanced'],\n",
    "    'max_depth': np.linspace(100,1000,100).astype(int),\n",
    "    'min_samples_split': range(1,10,2)\n",
    "}\n",
    "\n",
    "model_rf = RandomForestClassifier(n_estimators=100, class_weight='balanced', max_depth=100, criterion='entropy',random_state=1234).fit(X_train, y_train)\n",
    "predicted_rf = model_rf.predict(X_test)\n",
    "randfor_score = round(model_rf.score(X_train,y_train) * 100, 2)\n",
    "print(randfor_score)\n",
    "print(f1_score(y_test, predicted_rf))\n",
    "print(classification_report(y_test, predicted_rf))"
   ]
  },
  {
   "cell_type": "code",
   "execution_count": 51,
   "metadata": {},
   "outputs": [
    {
     "data": {
      "image/png": "[encoded data removed]",
      "text/plain": [
       "<Figure size 432x288 with 2 Axes>"
      ]
     },
     "metadata": {},
     "output_type": "display_data"
    }
   ],
   "source": [
    "plt.figure(figsize = (6,4)) \n",
    "df_ = pd.DataFrame(confusion_matrix(y_test, predicted_rf), range(2),range(2))\n",
    "sns.set(font_scale=1.4)#for label size\n",
    "sns.heatmap(df_, annot=True,annot_kws={\"size\": 16}, fmt='g')\n",
    "plt.xlabel('Predicción')\n",
    "plt.ylabel('Original')\n",
    "plt.show()"
   ]
  },
  {
   "cell_type": "markdown",
   "metadata": {},
   "source": [
    "### KNN"
   ]
  },
  {
   "cell_type": "code",
   "execution_count": 52,
   "metadata": {},
   "outputs": [
    {
     "name": "stdout",
     "output_type": "stream",
     "text": [
      "85.54\n",
      "0.08\n",
      "              precision    recall  f1-score   support\n",
      "\n",
      "           0       0.85      0.98      0.91       250\n",
      "           1       0.33      0.05      0.08        44\n",
      "\n",
      "    accuracy                           0.84       294\n",
      "   macro avg       0.59      0.51      0.50       294\n",
      "weighted avg       0.78      0.84      0.79       294\n",
      "\n"
     ]
    }
   ],
   "source": [
    "model_knn = KNeighborsClassifier(4).fit(X_train, y_train)\n",
    "predicted_knn = model_knn.predict(X_test)\n",
    "knn_score = round(model_knn.score(X_train,y_train) * 100, 2)\n",
    "print(knn_score)\n",
    "print(f1_score(y_test, predicted_knn))\n",
    "print(classification_report(y_test, predicted_knn))"
   ]
  },
  {
   "cell_type": "code",
   "execution_count": 53,
   "metadata": {},
   "outputs": [
    {
     "data": {
      "image/png": "[encoded data removed]",
      "text/plain": [
       "<Figure size 432x288 with 2 Axes>"
      ]
     },
     "metadata": {},
     "output_type": "display_data"
    }
   ],
   "source": [
    "plt.figure(figsize = (6,4)) \n",
    "df_ = pd.DataFrame(confusion_matrix(y_test, predicted_knn), range(2),range(2))\n",
    "sns.set(font_scale=1.4)#for label size\n",
    "sns.heatmap(df_, annot=True,annot_kws={\"size\": 16}, fmt='g')\n",
    "plt.xlabel('Predicción')\n",
    "plt.ylabel('Original')\n",
    "plt.show()"
   ]
  },
  {
   "cell_type": "markdown",
   "metadata": {},
   "source": [
    "## 6. Probamos Oversampling\n",
    "\n",
    "Como el dataset no estaba bien distribuido, hemos que los modelos no consiguen predecir bien los casos en los que hay abandono.\n",
    "\n",
    "Esto ocurre porque hay pocos casos en los que la variable 'Attrition' es 1 y acaba generando sesgos en el modelo. \n",
    "\n",
    "Para tratar estos sesgos y mejorar los modelos, se realizará un 'resampling' del dataset, o sea, duplicaremsos las columnas de Attrition 1 para conseguir subir la distribución de un 16% a un 40% del dataset."
   ]
  },
  {
   "cell_type": "code",
   "execution_count": 55,
   "metadata": {},
   "outputs": [],
   "source": [
    "sm = SMOTE(sampling_strategy=0.40)\n",
    "X_train_res, y_train_res = sm.fit_resample(X, y)"
   ]
  },
  {
   "cell_type": "code",
   "execution_count": 56,
   "metadata": {},
   "outputs": [
    {
     "name": "stdout",
     "output_type": "stream",
     "text": [
      "Before OverSampling, the shape of train_X: (1470, 30)\n",
      "Before OverSampling, the shape of train_y: (1470,) \n",
      "\n",
      "After OverSampling, the shape of train_X: (1726, 30)\n",
      "After OverSampling, the shape of train_y: (1726,)\n"
     ]
    }
   ],
   "source": [
    "print('Before OverSampling, the shape of train_X: {}'.format(X.shape)) \n",
    "print('Before OverSampling, the shape of train_y: {} \\n'.format(y.shape)) \n",
    "print('After OverSampling, the shape of train_X: {}'.format(X_train_res.shape)) \n",
    "print('After OverSampling, the shape of train_y: {}'.format(y_train_res.shape))"
   ]
  },
  {
   "cell_type": "markdown",
   "metadata": {},
   "source": [
    "### Regresión Logística con Oversampling"
   ]
  },
  {
   "cell_type": "code",
   "execution_count": 57,
   "metadata": {},
   "outputs": [
    {
     "name": "stdout",
     "output_type": "stream",
     "text": [
      "0.8639455782312925\n",
      "0.47368421052631576\n",
      "              precision    recall  f1-score   support\n",
      "\n",
      "           0       0.90      0.94      0.92       250\n",
      "           1       0.56      0.41      0.47        44\n",
      "\n",
      "    accuracy                           0.86       294\n",
      "   macro avg       0.73      0.68      0.70       294\n",
      "weighted avg       0.85      0.86      0.85       294\n",
      "\n"
     ]
    },
    {
     "name": "stderr",
     "output_type": "stream",
     "text": [
      "/Users/leticiamazarinmolina/opt/miniconda3/envs/the_bridge/lib/python3.9/site-packages/sklearn/linear_model/_logistic.py:444: ConvergenceWarning: lbfgs failed to converge (status=1):\n",
      "STOP: TOTAL NO. of ITERATIONS REACHED LIMIT.\n",
      "\n",
      "Increase the number of iterations (max_iter) or scale the data as shown in:\n",
      "    https://scikit-learn.org/stable/modules/preprocessing.html\n",
      "Please also refer to the documentation for alternative solver options:\n",
      "    https://scikit-learn.org/stable/modules/linear_model.html#logistic-regression\n",
      "  n_iter_i = _check_optimize_result(\n"
     ]
    }
   ],
   "source": [
    "log_res = model_log.fit(X_train_res,y_train_res)\n",
    "y_pred_log_res = log_res.predict(X_test)\n",
    "y_pred_log_res\n",
    "\n",
    "print(log_res.score(X_test, y_test))\n",
    "print(f1_score(y_test, y_pred_log_res))\n",
    "print(classification_report(y_test, y_pred_log_res))"
   ]
  },
  {
   "cell_type": "code",
   "execution_count": 58,
   "metadata": {},
   "outputs": [
    {
     "data": {
      "image/png": "[encoded data removed]",
      "text/plain": [
       "<Figure size 432x288 with 2 Axes>"
      ]
     },
     "metadata": {},
     "output_type": "display_data"
    }
   ],
   "source": [
    "plt.figure(figsize = (6,4)) \n",
    "df_ = pd.DataFrame(confusion_matrix(y_test, y_pred_log_res), range(2),range(2))\n",
    "sns.set(font_scale=1.4)#for label size\n",
    "sns.heatmap(df_, annot=True,annot_kws={\"size\": 16}, fmt='g')\n",
    "plt.xlabel('Predicción')\n",
    "plt.ylabel('Original')\n",
    "plt.show()"
   ]
  },
  {
   "cell_type": "markdown",
   "metadata": {},
   "source": [
    "### Decision Tree con Oversampling"
   ]
  },
  {
   "cell_type": "code",
   "execution_count": 59,
   "metadata": {},
   "outputs": [
    {
     "name": "stdout",
     "output_type": "stream",
     "text": [
      "1.0\n",
      "1.0\n",
      "              precision    recall  f1-score   support\n",
      "\n",
      "           0       1.00      1.00      1.00       250\n",
      "           1       1.00      1.00      1.00        44\n",
      "\n",
      "    accuracy                           1.00       294\n",
      "   macro avg       1.00      1.00      1.00       294\n",
      "weighted avg       1.00      1.00      1.00       294\n",
      "\n"
     ]
    }
   ],
   "source": [
    "tree_res = DecisionTreeClassifier(max_depth=15, random_state=1234)\n",
    "tree_res.fit(X_train_res,y_train_res)\n",
    "y_pred_tree_res = tree_res.predict(X_test)\n",
    "print(tree_res.score(X_test, y_test))\n",
    "print(f1_score(y_test, y_pred_tree_res))\n",
    "print(classification_report(y_test, y_pred_tree_res))"
   ]
  },
  {
   "cell_type": "code",
   "execution_count": 60,
   "metadata": {},
   "outputs": [
    {
     "data": {
      "image/png": "[encoded data removed]",
      "text/plain": [
       "<Figure size 432x288 with 2 Axes>"
      ]
     },
     "metadata": {},
     "output_type": "display_data"
    }
   ],
   "source": [
    "plt.figure(figsize = (6,4)) \n",
    "df_ = pd.DataFrame(confusion_matrix(y_test, y_pred_tree_res), range(2),range(2))\n",
    "sns.set(font_scale=1.4)#for label size\n",
    "sns.heatmap(df_, annot=True,annot_kws={\"size\": 16}, fmt='g')\n",
    "plt.xlabel('Predicción')\n",
    "plt.ylabel('Original')\n",
    "plt.show()"
   ]
  },
  {
   "cell_type": "markdown",
   "metadata": {},
   "source": [
    "### Random Forest con Oversampling"
   ]
  },
  {
   "cell_type": "code",
   "execution_count": 61,
   "metadata": {},
   "outputs": [
    {
     "name": "stdout",
     "output_type": "stream",
     "text": [
      "100.0\n",
      "1.0\n",
      "              precision    recall  f1-score   support\n",
      "\n",
      "           0       1.00      1.00      1.00       250\n",
      "           1       1.00      1.00      1.00        44\n",
      "\n",
      "    accuracy                           1.00       294\n",
      "   macro avg       1.00      1.00      1.00       294\n",
      "weighted avg       1.00      1.00      1.00       294\n",
      "\n"
     ]
    }
   ],
   "source": [
    "model_rf_res = RandomForestClassifier(n_estimators=100, class_weight='balanced', max_depth=100, criterion='entropy',random_state=1234).fit(X_train_res, y_train_res)\n",
    "predicted_rf_res = model_rf_res.predict(X_test)\n",
    "randfor_score_res = round(model_rf_res.score(X_train_res,y_train_res) * 100, 2)\n",
    "print(randfor_score_res)\n",
    "print(f1_score(y_test, predicted_rf_res))\n",
    "print(classification_report(y_test, predicted_rf_res))"
   ]
  },
  {
   "cell_type": "code",
   "execution_count": 62,
   "metadata": {},
   "outputs": [
    {
     "data": {
      "image/png": "[encoded data removed]",
      "text/plain": [
       "<Figure size 432x288 with 2 Axes>"
      ]
     },
     "metadata": {},
     "output_type": "display_data"
    }
   ],
   "source": [
    "plt.figure(figsize = (6,4)) \n",
    "df_ = pd.DataFrame(confusion_matrix(y_test, predicted_rf_res), range(2),range(2))\n",
    "sns.set(font_scale=1.4)#for label size\n",
    "sns.heatmap(df_, annot=True,annot_kws={\"size\": 16}, fmt='g')\n",
    "plt.xlabel('Predicción')\n",
    "plt.ylabel('Original')\n",
    "plt.show()"
   ]
  },
  {
   "cell_type": "markdown",
   "metadata": {},
   "source": [
    "### KNN con Oversampling"
   ]
  },
  {
   "cell_type": "code",
   "execution_count": 63,
   "metadata": {},
   "outputs": [
    {
     "name": "stdout",
     "output_type": "stream",
     "text": [
      "90.73\n",
      "0.702127659574468\n",
      "              precision    recall  f1-score   support\n",
      "\n",
      "           0       0.95      0.93      0.94       250\n",
      "           1       0.66      0.75      0.70        44\n",
      "\n",
      "    accuracy                           0.90       294\n",
      "   macro avg       0.81      0.84      0.82       294\n",
      "weighted avg       0.91      0.90      0.91       294\n",
      "\n"
     ]
    }
   ],
   "source": [
    "model_knn_res = KNeighborsClassifier(4).fit(X_train_res, y_train_res)\n",
    "predicted_knn_res = model_knn_res.predict(X_test)\n",
    "knn_score_res = round(model_knn_res.score(X_train_res,y_train_res) * 100, 2)\n",
    "print(knn_score_res)\n",
    "print(f1_score(y_test, predicted_knn_res))\n",
    "print(classification_report(y_test, predicted_knn_res))"
   ]
  },
  {
   "cell_type": "code",
   "execution_count": 64,
   "metadata": {},
   "outputs": [
    {
     "data": {
      "image/png": "[encoded data removed]",
      "text/plain": [
       "<Figure size 432x288 with 2 Axes>"
      ]
     },
     "metadata": {},
     "output_type": "display_data"
    }
   ],
   "source": [
    "plt.figure(figsize = (6,4)) \n",
    "df_ = pd.DataFrame(confusion_matrix(y_test, predicted_knn_res), range(2),range(2))\n",
    "sns.set(font_scale=1.4)#for label size\n",
    "sns.heatmap(df_, annot=True,annot_kws={\"size\": 16}, fmt='g')\n",
    "plt.xlabel('Predicción')\n",
    "plt.ylabel('Original')\n",
    "plt.show()"
   ]
  }
 ],
 "metadata": {
  "interpreter": {
   "hash": "bbdf12f5ff899a190361f30644d72d9ae118dfc706ef054eef5855c99dde0a66"
  },
  "kernelspec": {
   "display_name": "Python 3.9.5 ('the_bridge')",
   "language": "python",
   "name": "python3"
  },
  "language_info": {
   "codemirror_mode": {
    "name": "ipython",
    "version": 3
   },
   "file_extension": ".py",
   "mimetype": "text/x-python",
   "name": "python",
   "nbconvert_exporter": "python",
   "pygments_lexer": "ipython3",
   "version": "3.9.5"
  },
  "orig_nbformat": 4
 },
 "nbformat": 4,
 "nbformat_minor": 2
}
